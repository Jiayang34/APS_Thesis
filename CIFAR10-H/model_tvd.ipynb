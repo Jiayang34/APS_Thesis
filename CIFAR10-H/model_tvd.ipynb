{
 "cells": [
  {
   "metadata": {
    "ExecuteTime": {
     "end_time": "2025-04-14T20:37:38.415136Z",
     "start_time": "2025-04-14T20:37:37.763988Z"
    }
   },
   "cell_type": "code",
   "source": [
    "import torch\n",
    "import torchvision.transforms as transforms\n",
    "from torchvision.datasets import CIFAR10\n",
    "from torch.utils.data import DataLoader\n",
    "from src import ModelWithTemperature, Dataset_and_Probs\n",
    "from src.synthetic_data import check_tvd\n",
    "import numpy as np\n",
    "\n",
    "# preprocess the images from CIFAR10\n",
    "data_transform = transforms.Compose([\n",
    "    transforms.ToTensor(),\n",
    "    transforms.Normalize((0.4914, 0.4822, 0.4465), (0.2023, 0.1994, 0.2010))\n",
    "])\n",
    "\n",
    "# load images from CIFAR10\n",
    "dataset = CIFAR10(root=\"../data\", train=False, download=True, transform=data_transform)\n",
    "temp_scal_loader = DataLoader(dataset, batch_size=32, shuffle=True)\n",
    "\n",
    "# load real probability\n",
    "npy_path = \"C:\\\\Users\\\\jiayang\\\\ipynb\\\\APS_Thesis\\\\data\\\\cifar10h-probs.npy\"\n",
    "real_probs = np.load(npy_path)\n",
    "tvd_dataset = Dataset_and_Probs(dataset, real_probs)\n",
    "tvd_loader = DataLoader(tvd_dataset, batch_size=32, shuffle=True, num_workers=2)"
   ],
   "id": "86babc69dfaf1100",
   "outputs": [
    {
     "name": "stdout",
     "output_type": "stream",
     "text": [
      "Files already downloaded and verified\n"
     ]
    }
   ],
   "execution_count": 3
  },
  {
   "metadata": {},
   "cell_type": "markdown",
   "source": "## InceptionV3",
   "id": "5b1303154eaa0a25"
  },
  {
   "metadata": {
    "ExecuteTime": {
     "end_time": "2025-04-14T20:40:23.821399Z",
     "start_time": "2025-04-14T20:39:51.952309Z"
    }
   },
   "cell_type": "code",
   "source": [
    "from src.inception import inception_v3\n",
    "\n",
    "device = torch.device(\"cuda\" if torch.cuda.is_available() else \"cpu\")\n",
    "\n",
    "dict_path = \"C:\\\\Users\\\\jiayang\\\\ipynb\\\\trainedModel\\\\Inception_CIFAR10.pth\"\n",
    "model = inception_v3(pretrained=True, dict_path=dict_path).to(device)\n",
    "model = ModelWithTemperature(model, temperature=5.2).to(device)\n",
    "model.set_temperature(temp_scal_loader)\n",
    "model.eval()\n",
    "\n",
    "check_tvd(model, tvd_loader, device=device)"
   ],
   "id": "initial_id",
   "outputs": [
    {
     "name": "stdout",
     "output_type": "stream",
     "text": [
      "Loading weights from: C:\\Users\\jiayang\\ipynb\\trainedModel\\Inception_CIFAR10.pth\n",
      "Before temperature - NLL: 0.364, ECE: 0.028\n",
      "Optimal temperature: 5.125\n",
      "After temperature - NLL: 0.892, ECE: 0.410\n",
      "Total Variation Distance:  4536.8026\n",
      "Average Total Variation Distance:  0.4537\n"
     ]
    }
   ],
   "execution_count": 5
  },
  {
   "metadata": {},
   "cell_type": "markdown",
   "source": "## ResNet18",
   "id": "54abc74abf33f55f"
  },
  {
   "metadata": {
    "ExecuteTime": {
     "end_time": "2025-04-14T20:44:24.007193Z",
     "start_time": "2025-04-14T20:44:08.989286Z"
    }
   },
   "cell_type": "code",
   "source": [
    "import detectors\n",
    "import timm\n",
    "\n",
    "model = timm.create_model(\"resnet18_cifar10\", pretrained=True)\n",
    "model = ModelWithTemperature(model, temperature=5.0).to(device)\n",
    "model.set_temperature(temp_scal_loader)\n",
    "model.eval()\n",
    "\n",
    "check_tvd(model, tvd_loader, device=device)"
   ],
   "id": "fb875b8720e58928",
   "outputs": [
    {
     "name": "stdout",
     "output_type": "stream",
     "text": [
      "Before temperature - NLL: 0.296, ECE: 0.040\n",
      "Optimal temperature: 4.904\n",
      "After temperature - NLL: 0.865, ECE: 0.462\n",
      "Total Variation Distance:  4872.3700\n",
      "Average Total Variation Distance:  0.4872\n"
     ]
    }
   ],
   "execution_count": 11
  },
  {
   "metadata": {},
   "cell_type": "markdown",
   "source": "## ResNet34",
   "id": "1bf1b921c6caa7ce"
  },
  {
   "metadata": {
    "ExecuteTime": {
     "end_time": "2025-04-14T20:42:46.321902Z",
     "start_time": "2025-04-14T20:42:28.546292Z"
    }
   },
   "cell_type": "code",
   "source": [
    "model = timm.create_model(\"resnet34_cifar10\", pretrained=True)\n",
    "model = ModelWithTemperature(model, temperature=5.0).to(device)\n",
    "model.set_temperature(temp_scal_loader)\n",
    "model.eval()\n",
    "\n",
    "check_tvd(model, tvd_loader, device=device)"
   ],
   "id": "4636be40b655ceaf",
   "outputs": [
    {
     "name": "stdout",
     "output_type": "stream",
     "text": [
      "Before temperature - NLL: 0.336, ECE: 0.047\n",
      "Optimal temperature: 4.904\n",
      "After temperature - NLL: 0.883, ECE: 0.466\n",
      "Total Variation Distance:  5052.5981\n",
      "Average Total Variation Distance:  0.5053\n"
     ]
    }
   ],
   "execution_count": 8
  },
  {
   "metadata": {},
   "cell_type": "markdown",
   "source": "## ResNet50",
   "id": "ca6994a53ae26592"
  },
  {
   "metadata": {
    "ExecuteTime": {
     "end_time": "2025-04-14T20:43:23.291787Z",
     "start_time": "2025-04-14T20:43:01.495301Z"
    }
   },
   "cell_type": "code",
   "source": [
    "model = timm.create_model(\"resnet50_cifar10\", pretrained=True)\n",
    "model = ModelWithTemperature(model, temperature=5.0).to(device)\n",
    "model.set_temperature(temp_scal_loader)\n",
    "model.eval()\n",
    "\n",
    "check_tvd(model, tvd_loader, device=device)"
   ],
   "id": "792cb216eccadb4",
   "outputs": [
    {
     "name": "stdout",
     "output_type": "stream",
     "text": [
      "Before temperature - NLL: 0.354, ECE: 0.047\n",
      "Optimal temperature: 4.908\n",
      "After temperature - NLL: 0.828, ECE: 0.421\n",
      "Total Variation Distance:  4625.4134\n",
      "Average Total Variation Distance:  0.4625\n"
     ]
    }
   ],
   "execution_count": 9
  },
  {
   "metadata": {},
   "cell_type": "markdown",
   "source": "## VGG16",
   "id": "71ca1b5c52e74e3d"
  },
  {
   "metadata": {
    "ExecuteTime": {
     "end_time": "2025-04-14T20:43:51.795554Z",
     "start_time": "2025-04-14T20:43:36.537140Z"
    }
   },
   "cell_type": "code",
   "source": [
    "model = timm.create_model(\"vgg16_bn_cifar10\", pretrained=True)\n",
    "model = ModelWithTemperature(model, temperature=5.0).to(device)\n",
    "model.set_temperature(temp_scal_loader)\n",
    "model.eval()\n",
    "\n",
    "check_tvd(model, tvd_loader, device=device)"
   ],
   "id": "32d9f97b2d94350c",
   "outputs": [
    {
     "name": "stdout",
     "output_type": "stream",
     "text": [
      "Before temperature - NLL: 0.424, ECE: 0.063\n",
      "Optimal temperature: 4.904\n",
      "After temperature - NLL: 0.917, ECE: 0.468\n",
      "Total Variation Distance:  5252.0063\n",
      "Average Total Variation Distance:  0.5252\n"
     ]
    }
   ],
   "execution_count": 10
  },
  {
   "metadata": {},
   "cell_type": "code",
   "outputs": [],
   "execution_count": null,
   "source": "",
   "id": "52bf4f9dc5cc35fe"
  }
 ],
 "metadata": {
  "kernelspec": {
   "display_name": "Python 3",
   "language": "python",
   "name": "python3"
  },
  "language_info": {
   "codemirror_mode": {
    "name": "ipython",
    "version": 2
   },
   "file_extension": ".py",
   "mimetype": "text/x-python",
   "name": "python",
   "nbconvert_exporter": "python",
   "pygments_lexer": "ipython2",
   "version": "2.7.6"
  }
 },
 "nbformat": 4,
 "nbformat_minor": 5
}
