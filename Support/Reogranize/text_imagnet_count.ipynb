{
 "cells": [
  {
   "cell_type": "code",
   "id": "initial_id",
   "metadata": {
    "collapsed": true,
    "ExecuteTime": {
     "end_time": "2025-03-05T04:57:50.978568Z",
     "start_time": "2025-03-05T04:57:50.835812Z"
    }
   },
   "source": [
    "import numpy as np\n",
    "\n",
    "npy_path = \"C:\\\\Users\\\\jiayang\\\\ipynb\\\\APS_Thesis\\\\data\\\\imagenet_count.npy\"\n",
    "npy_file = np.load(npy_path)\n",
    "\n",
    "print(\"Matrix shape:\", npy_file.shape)  # 确保它是 (50000, 1000)\n",
    "\n",
    "row_index = 99\n",
    "print(f\"Row {row_index} content:\", npy_file[row_index])"
   ],
   "outputs": [
    {
     "name": "stdout",
     "output_type": "stream",
     "text": [
      "Matrix shape: (50000, 1000)\n",
      "Row 99 content: [0.         0.99999959 0.         0.         0.         0.\n",
      " 0.         0.         0.         0.         0.         0.\n",
      " 0.         0.         0.         0.         0.         0.\n",
      " 0.         0.         0.         0.         0.         0.\n",
      " 0.         0.         0.         0.         0.         0.\n",
      " 0.         0.         0.         0.         0.         0.\n",
      " 0.         0.         0.         0.         0.         0.\n",
      " 0.         0.         0.         0.         0.         0.\n",
      " 0.         0.         0.         0.         0.         0.\n",
      " 0.         0.         0.         0.         0.         0.\n",
      " 0.         0.         0.         0.         0.         0.\n",
      " 0.         0.         0.         0.         0.         0.\n",
      " 0.         0.         0.         0.         0.         0.\n",
      " 0.         0.         0.         0.         0.         0.\n",
      " 0.         0.         0.         0.         0.         0.\n",
      " 0.         0.         0.         0.         0.         0.\n",
      " 0.         0.         0.         0.         0.         0.\n",
      " 0.         0.         0.         0.         0.         0.00100391\n",
      " 0.         0.         0.         0.         0.         0.\n",
      " 0.         0.         0.         0.         0.         0.\n",
      " 0.         0.         0.         0.         0.         0.\n",
      " 0.         0.         0.         0.         0.         0.\n",
      " 0.         0.         0.         0.         0.         0.\n",
      " 0.         0.         0.         0.         0.         0.\n",
      " 0.         0.         0.         0.         0.         0.\n",
      " 0.         0.         0.         0.         0.         0.\n",
      " 0.         0.         0.         0.         0.         0.\n",
      " 0.         0.         0.         0.         0.         0.\n",
      " 0.         0.         0.         0.         0.         0.\n",
      " 0.         0.         0.         0.         0.         0.\n",
      " 0.         0.         0.         0.         0.         0.\n",
      " 0.         0.         0.         0.         0.         0.\n",
      " 0.         0.         0.         0.         0.         0.\n",
      " 0.         0.         0.         0.         0.         0.\n",
      " 0.         0.         0.         0.         0.         0.\n",
      " 0.         0.         0.         0.         0.         0.\n",
      " 0.         0.         0.         0.         0.         0.\n",
      " 0.         0.         0.         0.         0.         0.\n",
      " 0.         0.         0.         0.         0.         0.\n",
      " 0.         0.         0.         0.         0.         0.\n",
      " 0.         0.         0.         0.         0.         0.\n",
      " 0.         0.         0.         0.         0.         0.\n",
      " 0.         0.         0.         0.         0.         0.\n",
      " 0.         0.         0.         0.         0.         0.\n",
      " 0.         0.         0.         0.         0.         0.\n",
      " 0.         0.         0.         0.         0.         0.\n",
      " 0.         0.         0.         0.         0.         0.\n",
      " 0.         0.         0.         0.         0.         0.\n",
      " 0.         0.         0.         0.         0.         0.\n",
      " 0.         0.         0.         0.         0.         0.\n",
      " 0.         0.         0.         0.         0.         0.\n",
      " 0.         0.         0.         0.         0.         0.\n",
      " 0.         0.         0.         0.         0.         0.\n",
      " 0.         0.         0.         0.         0.         0.\n",
      " 0.         0.         0.         0.         0.         0.\n",
      " 0.         0.         0.         0.         0.         0.\n",
      " 0.         0.         0.         0.         0.         0.\n",
      " 0.         0.         0.         0.         0.         0.\n",
      " 0.         0.         0.         0.         0.         0.\n",
      " 0.         0.         0.         0.         0.         0.\n",
      " 0.         0.         0.         0.         0.         0.\n",
      " 0.         0.         0.         0.         0.         0.\n",
      " 0.         0.         0.         0.         0.         0.\n",
      " 0.         0.         0.         0.         0.         0.\n",
      " 0.         0.         0.         0.         0.         0.\n",
      " 0.         0.         0.         0.         0.         0.\n",
      " 0.         0.         0.         0.         0.         0.\n",
      " 0.         0.         0.         0.         0.         0.\n",
      " 0.         0.         0.         0.         0.         0.\n",
      " 0.         0.         0.         0.         0.         0.\n",
      " 0.         0.         0.         0.         0.         0.\n",
      " 0.         0.         0.         0.         0.         0.\n",
      " 0.         0.         0.         0.         0.         0.\n",
      " 0.         0.         0.         0.         0.         0.\n",
      " 0.         0.         0.         0.         0.         0.\n",
      " 0.         0.         0.         0.         0.         0.\n",
      " 0.         0.         0.         0.         0.         0.\n",
      " 0.         0.         0.         0.         0.         0.\n",
      " 0.         0.         0.         0.         0.         0.\n",
      " 0.         0.         0.         0.         0.         0.\n",
      " 0.         0.         0.         0.         0.         0.\n",
      " 0.         0.         0.         0.         0.         0.\n",
      " 0.         0.         0.         0.         0.         0.\n",
      " 0.         0.         0.         0.         0.         0.\n",
      " 0.         0.         0.         0.         0.         0.\n",
      " 0.         0.         0.         0.         0.         0.\n",
      " 0.         0.         0.         0.         0.         0.\n",
      " 0.         0.         0.         0.         0.         0.\n",
      " 0.         0.         0.         0.         0.         0.\n",
      " 0.         0.         0.         0.         0.         0.\n",
      " 0.         0.         0.         0.         0.         0.\n",
      " 0.         0.         0.         0.         0.         0.\n",
      " 0.         0.         0.         0.         0.         0.\n",
      " 0.         0.         0.         0.         0.         0.\n",
      " 0.         0.         0.         0.         0.         0.\n",
      " 0.         0.         0.         0.         0.         0.\n",
      " 0.         0.         0.         0.         0.         0.\n",
      " 0.         0.         0.         0.         0.         0.\n",
      " 0.         0.         0.         0.         0.         0.\n",
      " 0.         0.         0.         0.         0.         0.\n",
      " 0.         0.         0.         0.         0.         0.\n",
      " 0.         0.         0.         0.         0.         0.\n",
      " 0.         0.         0.         0.         0.         0.\n",
      " 0.         0.         0.         0.         0.         0.\n",
      " 0.         0.         0.         0.         0.         0.\n",
      " 0.         0.         0.         0.         0.         0.\n",
      " 0.         0.         0.         0.         0.         0.\n",
      " 0.         0.         0.         0.         0.         0.\n",
      " 0.         0.         0.         0.         0.         0.\n",
      " 0.         0.         0.         0.         0.         0.\n",
      " 0.         0.         0.         0.         0.         0.\n",
      " 0.         0.         0.         0.         0.         0.\n",
      " 0.         0.         0.         0.         0.         0.\n",
      " 0.         0.         0.         0.         0.         0.\n",
      " 0.         0.         0.         0.         0.         0.\n",
      " 0.         0.         0.         0.         0.         0.\n",
      " 0.         0.         0.         0.         0.         0.\n",
      " 0.         0.         0.         0.         0.         0.\n",
      " 0.         0.         0.         0.         0.         0.\n",
      " 0.         0.         0.         0.         0.         0.\n",
      " 0.         0.         0.         0.         0.         0.\n",
      " 0.         0.         0.         0.         0.         0.\n",
      " 0.         0.         0.         0.         0.         0.\n",
      " 0.         0.         0.         0.         0.         0.\n",
      " 0.         0.         0.         0.         0.         0.\n",
      " 0.         0.         0.         0.         0.         0.\n",
      " 0.         0.         0.         0.         0.         0.\n",
      " 0.         0.         0.         0.         0.         0.\n",
      " 0.         0.         0.         0.         0.         0.\n",
      " 0.         0.         0.         0.         0.         0.\n",
      " 0.         0.         0.         0.         0.         0.\n",
      " 0.         0.         0.         0.         0.         0.\n",
      " 0.         0.         0.         0.         0.         0.\n",
      " 0.         0.         0.         0.         0.         0.\n",
      " 0.         0.         0.         0.         0.         0.\n",
      " 0.         0.         0.         0.         0.         0.\n",
      " 0.         0.         0.         0.         0.         0.\n",
      " 0.         0.         0.         0.         0.         0.\n",
      " 0.         0.         0.         0.         0.         0.\n",
      " 0.         0.         0.         0.         0.         0.\n",
      " 0.         0.         0.         0.         0.         0.\n",
      " 0.         0.         0.         0.         0.         0.\n",
      " 0.         0.         0.         0.         0.         0.\n",
      " 0.         0.         0.         0.         0.         0.\n",
      " 0.         0.         0.         0.         0.         0.\n",
      " 0.         0.         0.         0.         0.         0.\n",
      " 0.         0.         0.         0.         0.         0.\n",
      " 0.         0.         0.         0.         0.         0.\n",
      " 0.         0.         0.         0.         0.         0.\n",
      " 0.         0.         0.         0.         0.         0.\n",
      " 0.         0.         0.         0.         0.         0.\n",
      " 0.         0.         0.         0.         0.         0.\n",
      " 0.         0.         0.         0.         0.         0.\n",
      " 0.         0.         0.         0.         0.         0.\n",
      " 0.         0.         0.         0.         0.         0.\n",
      " 0.         0.         0.         0.         0.         0.\n",
      " 0.         0.         0.         0.         0.         0.\n",
      " 0.         0.         0.         0.         0.         0.\n",
      " 0.         0.         0.         0.         0.         0.\n",
      " 0.         0.         0.         0.         0.         0.\n",
      " 0.         0.         0.         0.         0.         0.\n",
      " 0.         0.         0.         0.         0.         0.\n",
      " 0.         0.         0.         0.         0.         0.\n",
      " 0.         0.         0.         0.         0.         0.\n",
      " 0.         0.         0.         0.         0.         0.\n",
      " 0.         0.         0.         0.         0.         0.\n",
      " 0.         0.         0.         0.        ]\n"
     ]
    }
   ],
   "execution_count": 10
  },
  {
   "metadata": {
    "ExecuteTime": {
     "end_time": "2025-03-05T05:23:42.848642Z",
     "start_time": "2025-03-05T05:23:42.739652Z"
    }
   },
   "cell_type": "code",
   "source": [
    "zero_prob_rows = np.sum(np.all(npy_file == 0, axis=1))\n",
    "\n",
    "row_sums = np.sum(npy_file, axis=1)\n",
    "sum_greater_than_1_rows = np.sum((row_sums > 1) & (row_sums <= 2))\n",
    "sum_greater_than_2_rows = np.sum((row_sums > 2) & (row_sums <= 3))\n",
    "sum_greater_than_3_rows = np.sum((row_sums > 3) & (row_sums <= 4))\n",
    "sum_greater_than_4_rows = np.sum(row_sums > 4)\n",
    "sum_greater_than_0_rows = np.sum((row_sums > 0) & (row_sums <= 1))\n",
    "\n",
    "print(f\"所有概率均为 0 的行数: {zero_prob_rows}\")\n",
    "print(f\"所有概率相加大于 0 的行数: {sum_greater_than_0_rows}\")\n",
    "print(f\"所有概率相加大于 1 的行数: {sum_greater_than_1_rows}\")\n",
    "print(f\"所有概率相加大于 2 的行数: {sum_greater_than_2_rows}\")\n",
    "print(f\"所有概率相加大于 3 的行数: {sum_greater_than_3_rows}\")\n",
    "print(f\"所有概率相加大于 4 的行数: {sum_greater_than_4_rows}\")"
   ],
   "id": "1c09ab37047c36eb",
   "outputs": [
    {
     "name": "stdout",
     "output_type": "stream",
     "text": [
      "所有概率均为 0 的行数: 25111\n",
      "所有概率相加大于 0 的行数: 3568\n",
      "所有概率相加大于 1 的行数: 15704\n",
      "所有概率相加大于 2 的行数: 3935\n",
      "所有概率相加大于 3 的行数: 1043\n",
      "所有概率相加大于 4 的行数: 639\n"
     ]
    }
   ],
   "execution_count": 17
  },
  {
   "metadata": {
    "ExecuteTime": {
     "end_time": "2025-03-28T04:34:07.016150Z",
     "start_time": "2025-03-28T04:34:07.003148Z"
    }
   },
   "cell_type": "code",
   "source": [
    "import numpy as np\n",
    "\n",
    "npy_path = \"C:\\\\Users\\\\jiayang\\\\ipynb\\\\APS_Thesis\\\\data\\\\cifar10h-probs.npy\"\n",
    "npy_file = np.load(npy_path)\n",
    "\n",
    "print(\"Matrix shape:\", npy_file.shape)\n",
    "\n",
    "row_index = 988\n",
    "print(f\"Row {row_index} content:\", npy_file[row_index])"
   ],
   "id": "c5bf97455b6b70cd",
   "outputs": [
    {
     "name": "stdout",
     "output_type": "stream",
     "text": [
      "Matrix shape: (10000, 10)\n",
      "Row 988 content: [0.         0.         0.98039216 0.         0.         0.\n",
      " 0.01960784 0.         0.         0.        ]\n"
     ]
    }
   ],
   "execution_count": 5
  },
  {
   "metadata": {
    "ExecuteTime": {
     "end_time": "2025-03-28T04:40:01.106811Z",
     "start_time": "2025-03-28T04:40:01.052796Z"
    }
   },
   "cell_type": "code",
   "source": [
    "#[0,0,0,0,0,0,0,1]\n",
    "def is_1_row(row):\n",
    "    return np.count_nonzero(row == 0) == 9 and np.count_nonzero(row == 1) == 1\n",
    "\n",
    "valid_rows = np.apply_along_axis(is_1_row, axis=1, arr=npy_file)\n",
    "count = np.sum(valid_rows)\n",
    "print(f\"满足“9个0和1个1”条件的行数为：{count}\")"
   ],
   "id": "f44f0c2ce795f88e",
   "outputs": [
    {
     "name": "stdout",
     "output_type": "stream",
     "text": [
      "满足“9个0和1个1”条件的行数为：4393\n"
     ]
    }
   ],
   "execution_count": 6
  },
  {
   "metadata": {
    "ExecuteTime": {
     "end_time": "2025-03-28T04:45:22.475012Z",
     "start_time": "2025-03-28T04:45:22.456008Z"
    }
   },
   "cell_type": "code",
   "source": [
    "condition = np.any((npy_file > 0.9) & (npy_file < 1), axis=1)\n",
    "\n",
    "# 统计满足条件的行数\n",
    "count = np.sum(condition)\n",
    "\n",
    "print(f\"至少包含一个大于 0.9但小于1的元素的行数为：{count}\")"
   ],
   "id": "90b7abb17576a972",
   "outputs": [
    {
     "name": "stdout",
     "output_type": "stream",
     "text": [
      "至少包含一个大于 0.9但小于1的元素的行数为：4328\n"
     ]
    }
   ],
   "execution_count": 14
  },
  {
   "metadata": {
    "ExecuteTime": {
     "end_time": "2025-03-28T04:58:22.200102Z",
     "start_time": "2025-03-28T04:58:22.192101Z"
    }
   },
   "cell_type": "code",
   "source": [
    "condition = np.any((npy_file > 0.95) & (npy_file < 1.0), axis=1)\n",
    "\n",
    "# 统计满足条件的行数\n",
    "count = np.sum(condition)\n",
    "\n",
    "print(f\"至少包含一个大于 0.8但小于0.9 元素的行数为：{count}\")"
   ],
   "id": "febe04e2188bb522",
   "outputs": [
    {
     "name": "stdout",
     "output_type": "stream",
     "text": [
      "至少包含一个大于 0.8但小于0.9 元素的行数为：3373\n"
     ]
    }
   ],
   "execution_count": 21
  },
  {
   "metadata": {
    "ExecuteTime": {
     "end_time": "2025-03-28T04:59:09.161720Z",
     "start_time": "2025-03-28T04:59:09.143412Z"
    }
   },
   "cell_type": "code",
   "source": [
    "condition = np.any((npy_file >= 0.98) & (npy_file < 1.0), axis=1)\n",
    "\n",
    "# 统计满足条件的行数\n",
    "count = np.sum(condition)\n",
    "\n",
    "print(f\"至少包含一个大于 0.98但小于1.0 元素的行数为：{count}\")"
   ],
   "id": "a69b8320b0e430c3",
   "outputs": [
    {
     "name": "stdout",
     "output_type": "stream",
     "text": [
      "至少包含一个大于 0.8但小于0.9 元素的行数为：2156\n"
     ]
    }
   ],
   "execution_count": 23
  },
  {
   "metadata": {
    "ExecuteTime": {
     "end_time": "2025-03-28T05:03:04.126693Z",
     "start_time": "2025-03-28T05:03:04.112689Z"
    }
   },
   "cell_type": "code",
   "source": [
    "condition = np.any((npy_file >= 0.8) & (npy_file < 0.9), axis=1)\n",
    "\n",
    "# 统计满足条件的行数\n",
    "count = np.sum(condition)\n",
    "\n",
    "print(f\"至少包含一个大于 0.8但小于0.9 元素的行数为：{count}\")"
   ],
   "id": "86c69b2901fe67e5",
   "outputs": [
    {
     "name": "stdout",
     "output_type": "stream",
     "text": [
      "至少包含一个大于 0.8但小于0.9 元素的行数为：608\n"
     ]
    }
   ],
   "execution_count": 24
  },
  {
   "metadata": {},
   "cell_type": "code",
   "outputs": [],
   "execution_count": null,
   "source": "",
   "id": "173100ec6f262007"
  },
  {
   "metadata": {
    "ExecuteTime": {
     "end_time": "2025-03-28T04:56:24.148209Z",
     "start_time": "2025-03-28T04:56:24.135206Z"
    }
   },
   "cell_type": "code",
   "source": [
    "non_zero_counts = np.count_nonzero(npy_file, axis=1)\n",
    "average_non_zero = np.mean(non_zero_counts)\n",
    "print(f\"每行非0元素数量的平均值为：{average_non_zero:.4f}\")"
   ],
   "id": "ba33e92076fc04e5",
   "outputs": [
    {
     "name": "stdout",
     "output_type": "stream",
     "text": [
      "每行非0元素数量的平均值为：1.9404\n"
     ]
    }
   ],
   "execution_count": 20
  },
  {
   "metadata": {},
   "cell_type": "code",
   "outputs": [],
   "execution_count": null,
   "source": "",
   "id": "dc667562b2516665"
  }
 ],
 "metadata": {
  "kernelspec": {
   "display_name": "Python 3",
   "language": "python",
   "name": "python3"
  },
  "language_info": {
   "codemirror_mode": {
    "name": "ipython",
    "version": 2
   },
   "file_extension": ".py",
   "mimetype": "text/x-python",
   "name": "python",
   "nbconvert_exporter": "python",
   "pygments_lexer": "ipython2",
   "version": "2.7.6"
  }
 },
 "nbformat": 4,
 "nbformat_minor": 5
}
