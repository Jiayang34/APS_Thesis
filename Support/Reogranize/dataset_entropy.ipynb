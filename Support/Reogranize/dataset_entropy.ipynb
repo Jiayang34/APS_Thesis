{
 "cells": [
  {
   "cell_type": "code",
   "id": "initial_id",
   "metadata": {
    "collapsed": true,
    "ExecuteTime": {
     "end_time": "2025-05-18T00:32:15.508428Z",
     "start_time": "2025-05-18T00:32:15.498426Z"
    }
   },
   "source": [
    "from scipy.stats import entropy\n",
    "import numpy as np\n",
    "\n",
    "def calculate_avg_entropy(real_probs):\n",
    "    # check validity: all real probabilities >=0 and sum==1\n",
    "    if np.all(real_probs>=0) and np.allclose(real_probs.sum(axis=1), 1.0, atol=1e-5):\n",
    "        print(\"Valid Real Probability Data\")\n",
    "        # calculate Shannon Entropy\n",
    "        entropies = entropy(real_probs, axis=1, base=2)\n",
    "        return entropies.mean(), entropies.std()\n",
    "    else:\n",
    "        print(\"Invalid Real Probability Data, check again!\")\n",
    "        return None    \n",
    "    \n",
    "def valid_imagenet(imagenet_real):\n",
    "    valid_mask = imagenet_real.sum(axis=1) > 0\n",
    "    return imagenet_real[valid_mask]"
   ],
   "outputs": [],
   "execution_count": 5
  },
  {
   "metadata": {
    "ExecuteTime": {
     "end_time": "2025-05-18T00:32:49.106586Z",
     "start_time": "2025-05-18T00:32:48.367127Z"
    }
   },
   "cell_type": "code",
   "source": [
    "from src import load_synthetic_data\n",
    "\n",
    "# Real Probability for CIFAR10-H and ImageNet-Real\n",
    "cifar10_h = np.load(\"C:\\\\Users\\\\jiayang\\\\ipynb\\\\APS_Thesis\\\\data\\\\cifar10h-probs.npy\")\n",
    "imagenet_real = np.load(\"C:\\\\Users\\\\jiayang\\\\ipynb\\\\APS_Thesis\\\\data\\\\imagenet_count_normalize.npy\")\n",
    "imagenet_real = valid_imagenet(imagenet_real)\n",
    "\n",
    "synthetic_3_path = \"C:\\\\Users\\\\jiayang\\\\ipynb\\\\APS_Thesis\\\\data\\\\synthetic_data\\\\synthetic_3class_test.pkl\"\n",
    "synthetic_3_NoTemp_path = \"C:\\\\Users\\\\jiayang\\\\ipynb\\\\APS_Thesis\\\\data\\\\synthetic_data\\\\synthetic_3class_NoTemp_test.pkl\"\n",
    "synthetic_5_path = \"C:\\\\Users\\\\jiayang\\\\ipynb\\\\APS_Thesis\\\\data\\\\synthetic_data\\\\synthetic_5class_test.pkl\"\n",
    "synthetic_5_NoTemp_path = \"C:\\\\Users\\\\jiayang\\\\ipynb\\\\APS_Thesis\\\\data\\\\synthetic_data\\\\synthetic_5class_NoTemp_test.pkl\"\n",
    "synthetic_10_path = \"C:\\\\Users\\\\jiayang\\\\ipynb\\\\APS_Thesis\\\\data\\\\synthetic_data\\\\synthetic_10class_test.pkl\"\n",
    "synthetic_10_NoTemp_path = \"C:\\\\Users\\\\jiayang\\\\ipynb\\\\APS_Thesis\\\\data\\\\synthetic_data\\\\synthetic_10class_NoTemp_test.pkl\"\n",
    "# Real Probability for Synthetic Datasets with Temperature Scaling\n",
    "_, _, synthetic_3 = load_synthetic_data(synthetic_3_path)\n",
    "_, _, synthetic_5 = load_synthetic_data(synthetic_5_path)\n",
    "_, _, synthetic_10 = load_synthetic_data(synthetic_10_path)\n",
    "# Real Probability for Synthetic Datasets without Temperature Scaling\n",
    "_, _, synthetic_3_NoTemp = load_synthetic_data(synthetic_3_NoTemp_path)\n",
    "_, _, synthetic_5_NoTemp = load_synthetic_data(synthetic_5_NoTemp_path)\n",
    "_, _, synthetic_10_NoTemp = load_synthetic_data(synthetic_10_NoTemp_path)\n",
    "\n",
    "cifar10_h_entropy, cifar10_h_std = calculate_avg_entropy(cifar10_h)\n",
    "imagenet_entropy, imagenet_std = calculate_avg_entropy(imagenet_real)\n",
    "syn_3_entropy, syn_3_std = calculate_avg_entropy(synthetic_3)\n",
    "syn_5_entropy, syn_5_std = calculate_avg_entropy(synthetic_5)\n",
    "syn_10_entropy, syn_10_std = calculate_avg_entropy(synthetic_10)\n",
    "syn_3_NoTemp_entropy, syn_3_NoTemp_std = calculate_avg_entropy(synthetic_3_NoTemp)\n",
    "syn_5_NoTemp_entropy, syn_5_NoTemp_std = calculate_avg_entropy(synthetic_5_NoTemp)\n",
    "syn_10_NoTemp_entropy, syn_10_NoTemp_std = calculate_avg_entropy(synthetic_10_NoTemp)\n",
    "\n",
    "print(\"\\n=====Entropy Data for CIFAR10-H and ImageNet-Real=====\")\n",
    "print(f\"CIFAR10-H Average Entropy: {cifar10_h_entropy:.4f} ± {cifar10_h_std:.4f} bits \")\n",
    "print(f\"ImageNet-Real Average Entropy: {imagenet_entropy:.4f} ± {imagenet_std:.4f} bits \")\n",
    "print(\"\\n=====Entropy Data for Synthetic Datasets with Temperature Scaling=====\")\n",
    "print(f\"K=3 Average Entropy: {syn_3_entropy:.4f} ± {syn_3_std:.4f} bits \")\n",
    "print(f\"K=5 Average Entropy: {syn_5_entropy:.4f} ± {syn_5_std:.4f} bits \")\n",
    "print(f\"K=10 Average Entropy: {syn_10_entropy:.4f} ± {syn_10_std:.4f} bits \")\n",
    "print(\"\\n=====Entropy Data for Synthetic Datasets without Temperature Scaling=====\")\n",
    "print(f\"K=3 Average Entropy: {syn_3_NoTemp_entropy:.4f} ± {syn_3_NoTemp_std:.4f} bits \")\n",
    "print(f\"K=5 Average Entropy: {syn_5_NoTemp_entropy:.4f} ± {syn_5_NoTemp_std:.4f} bits \")\n",
    "print(f\"K=10 Average Entropy: {syn_10_NoTemp_entropy:.4f} ± {syn_10_NoTemp_std:.4f} bits \")"
   ],
   "id": "4e798cb66c347997",
   "outputs": [
    {
     "name": "stdout",
     "output_type": "stream",
     "text": [
      "Valid Real Probability Data\n",
      "Valid Real Probability Data\n",
      "Valid Real Probability Data\n",
      "Valid Real Probability Data\n",
      "Valid Real Probability Data\n",
      "Valid Real Probability Data\n",
      "Valid Real Probability Data\n",
      "Valid Real Probability Data\n",
      "\n",
      "=====Entropy Data for CIFAR10-H and ImageNet-Real=====\n",
      "CIFAR10-H Average Entropy: 0.2228 ± 0.3395 bits \n",
      "ImageNet-Real Average Entropy: 0.8828 ± 0.6933 bits \n",
      "\n",
      "=====Entropy Data for Synthetic Datasets with Temperature Scaling=====\n",
      "K=3 Average Entropy: 0.6908 ± 0.4464 bits \n",
      "K=5 Average Entropy: 1.5018 ± 0.4532 bits \n",
      "K=10 Average Entropy: 1.9459 ± 0.6154 bits \n",
      "\n",
      "=====Entropy Data for Synthetic Datasets without Temperature Scaling=====\n",
      "K=3 Average Entropy: 0.2466 ± 0.3575 bits \n",
      "K=5 Average Entropy: 0.3564 ± 0.4384 bits \n",
      "K=10 Average Entropy: 0.5114 ± 0.5400 bits \n"
     ]
    }
   ],
   "execution_count": 7
  },
  {
   "metadata": {},
   "cell_type": "code",
   "outputs": [],
   "execution_count": null,
   "source": "",
   "id": "15b52875a4ca29b"
  }
 ],
 "metadata": {
  "kernelspec": {
   "display_name": "Python (pytorch2)",
   "language": "python",
   "name": "pytorch2"
  },
  "language_info": {
   "codemirror_mode": {
    "name": "ipython",
    "version": 2
   },
   "file_extension": ".py",
   "mimetype": "text/x-python",
   "name": "python",
   "nbconvert_exporter": "python",
   "pygments_lexer": "ipython2",
   "version": "2.7.6"
  }
 },
 "nbformat": 4,
 "nbformat_minor": 5
}
