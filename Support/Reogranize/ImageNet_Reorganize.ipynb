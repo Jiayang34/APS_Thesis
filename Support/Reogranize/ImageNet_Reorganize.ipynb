{
 "cells": [
  {
   "cell_type": "code",
   "execution_count": 1,
   "id": "58bbcc88-4328-445e-8297-3e226f67ac63",
   "metadata": {},
   "outputs": [
    {
     "name": "stdout",
     "output_type": "stream",
     "text": [
      "验证集图片已按标签分类完成！\n"
     ]
    }
   ],
   "source": [
    "import os\n",
    "import shutil\n",
    "\n",
    "# 文件路径\n",
    "val_dir = \"D:\\\\Download\\\\ImageNet-1K\\\\Validation_Set\\\\ILSVRC2012_img_val\"     # 原始验证集文件夹路径\n",
    "output_dir = \"D:\\\\Download\\\\ImageNet-1K\\\\Validation_Set\\\\sorted_ImageNet_val\" # 输出文件夹路径\n",
    "val_txt_path = \"D:\\\\Download\\\\ImageNet-1K\\\\Validation_Set\\\\val.txt\"  # 标签文件路径\n",
    "\n",
    "# 创建输出文件夹\n",
    "os.makedirs(output_dir, exist_ok=True)\n",
    "\n",
    "# 读取标签文件\n",
    "with open(val_txt_path, 'r') as f:\n",
    "    lines = f.readlines()\n",
    "\n",
    "# 遍历标签文件，移动图片到对应子文件夹\n",
    "for line in lines:\n",
    "    # 从行中解析图片名称和标签\n",
    "    img_filename, label = line.strip().split()\n",
    "    label = int(label)  # 标签转换为整数\n",
    "    \n",
    "    # 构建目标文件夹路径\n",
    "    class_dir = os.path.join(output_dir, f\"{label:04d}\")  # 使用四位数字表示类别，例如 0065\n",
    "    os.makedirs(class_dir, exist_ok=True)\n",
    "    \n",
    "    # 源图片路径\n",
    "    img_path = os.path.join(val_dir, img_filename)\n",
    "    \n",
    "    # 目标图片路径\n",
    "    target_path = os.path.join(class_dir, img_filename)\n",
    "    \n",
    "    # 移动图片到目标文件夹\n",
    "    shutil.move(img_path, target_path)\n",
    "\n",
    "print(\"验证集图片已按标签分类完成！\")"
   ]
  },
  {
   "cell_type": "code",
   "execution_count": null,
   "id": "de2fa08b-c575-4913-9a8f-2e99db4fbb00",
   "metadata": {},
   "outputs": [],
   "source": []
  }
 ],
 "metadata": {
  "kernelspec": {
   "display_name": "Python (tf_gpu)",
   "language": "python",
   "name": "tf-gpu"
  },
  "language_info": {
   "codemirror_mode": {
    "name": "ipython",
    "version": 3
   },
   "file_extension": ".py",
   "mimetype": "text/x-python",
   "name": "python",
   "nbconvert_exporter": "python",
   "pygments_lexer": "ipython3",
   "version": "3.9.7"
  }
 },
 "nbformat": 4,
 "nbformat_minor": 5
}
