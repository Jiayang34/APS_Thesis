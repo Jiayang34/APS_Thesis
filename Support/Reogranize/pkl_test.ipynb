{
 "cells": [
  {
   "metadata": {
    "ExecuteTime": {
     "end_time": "2025-03-29T00:02:18.984941Z",
     "start_time": "2025-03-29T00:02:18.964797Z"
    }
   },
   "cell_type": "code",
   "source": [
    "import pickle\n",
    "import numpy as np\n",
    "\n",
    "# 加载 pickle 文件\n",
    "save_path_test = \"C:\\\\Users\\\\jiayang\\\\ipynb\\\\APS_Thesis\\\\data\\\\synthetic_data\\\\synthetic_3class_test.pkl\"\n",
    "with open(save_path_test, 'rb') as f:\n",
    "    data = pickle.load(f)\n",
    "\n",
    "# 获取 w 数组\n",
    "w = data[\"w\"]  # 应该是形状为 (10000, 3)\n",
    "\n",
    "# 检查维度\n",
    "assert w.shape == (10000, 3), f\"w 的形状不正确: {w.shape}\"\n",
    "\n",
    "# 计算每行的最大概率\n",
    "max_probs = np.max(w, axis=1)\n",
    "\n",
    "# 定义区间边界\n",
    "bins = np.arange(0.0, 1.1, 0.1)  # [0.0, 0.1, 0.2, ..., 1.0]\n",
    "\n",
    "# 使用 np.histogram 统计每个区间内的个数\n",
    "counts, bin_edges = np.histogram(max_probs, bins=bins)\n",
    "\n",
    "# 输出统计结果\n",
    "for i in range(len(counts)):\n",
    "    print(f\"[{bin_edges[i]:.1f}, {bin_edges[i+1]:.1f}): {counts[i]}\")\n"
   ],
   "id": "a0c477137673b56e",
   "outputs": [
    {
     "name": "stdout",
     "output_type": "stream",
     "text": [
      "[0.0, 0.1): 0\n",
      "[0.1, 0.2): 0\n",
      "[0.2, 0.3): 0\n",
      "[0.3, 0.4): 6\n",
      "[0.4, 0.5): 46\n",
      "[0.5, 0.6): 356\n",
      "[0.6, 0.7): 475\n",
      "[0.7, 0.8): 574\n",
      "[0.8, 0.9): 740\n",
      "[0.9, 1.0): 7803\n"
     ]
    }
   ],
   "execution_count": 3
  },
  {
   "metadata": {
    "ExecuteTime": {
     "end_time": "2025-03-29T00:03:17.231479Z",
     "start_time": "2025-03-29T00:03:17.220476Z"
    }
   },
   "cell_type": "code",
   "source": [
    "# 加载 pickle 文件\n",
    "save_path_test = \"C:\\\\Users\\\\jiayang\\\\ipynb\\\\APS_Thesis\\\\data\\\\synthetic_data\\\\synthetic_5class_test.pkl\"\n",
    "with open(save_path_test, 'rb') as f:\n",
    "    data = pickle.load(f)\n",
    "\n",
    "# 获取 w 数组\n",
    "w = data[\"w\"]  # 应该是形状为 (10000, 3)\n",
    "\n",
    "# 检查维度\n",
    "assert w.shape == (10000, 5), f\"w 的形状不正确: {w.shape}\"\n",
    "\n",
    "# 计算每行的最大概率\n",
    "max_probs = np.max(w, axis=1)\n",
    "\n",
    "# 定义区间边界\n",
    "bins = np.arange(0.0, 1.1, 0.1)  # [0.0, 0.1, 0.2, ..., 1.0]\n",
    "\n",
    "# 使用 np.histogram 统计每个区间内的个数\n",
    "counts, bin_edges = np.histogram(max_probs, bins=bins)\n",
    "\n",
    "# 输出统计结果\n",
    "for i in range(len(counts)):\n",
    "    print(f\"[{bin_edges[i]:.1f}, {bin_edges[i+1]:.1f}): {counts[i]}\")"
   ],
   "id": "4a21a99e9014b27d",
   "outputs": [
    {
     "name": "stdout",
     "output_type": "stream",
     "text": [
      "[0.0, 0.1): 0\n",
      "[0.1, 0.2): 0\n",
      "[0.2, 0.3): 0\n",
      "[0.3, 0.4): 37\n",
      "[0.4, 0.5): 172\n",
      "[0.5, 0.6): 549\n",
      "[0.6, 0.7): 620\n",
      "[0.7, 0.8): 676\n",
      "[0.8, 0.9): 951\n",
      "[0.9, 1.0): 6995\n"
     ]
    }
   ],
   "execution_count": 4
  },
  {
   "metadata": {
    "ExecuteTime": {
     "end_time": "2025-03-29T00:06:35.981943Z",
     "start_time": "2025-03-29T00:06:35.958938Z"
    }
   },
   "cell_type": "code",
   "source": [
    "# 加载 pickle 文件\n",
    "save_path_test = \"C:\\\\Users\\\\jiayang\\\\ipynb\\\\APS_Thesis\\\\data\\\\synthetic_data\\\\synthetic_10class_test.pkl\"\n",
    "with open(save_path_test, 'rb') as f:\n",
    "    data = pickle.load(f)\n",
    "\n",
    "# 获取 w 数组\n",
    "w = data[\"w\"]  # 应该是形状为 (10000, 3)\n",
    "\n",
    "# 检查维度\n",
    "assert w.shape == (10000, 10), f\"w 的形状不正确: {w.shape}\"\n",
    "\n",
    "# 计算每行的最大概率\n",
    "max_probs = np.max(w, axis=1)\n",
    "\n",
    "# 定义区间边界\n",
    "bins = np.arange(0.0, 1.1, 0.1)  # [0.0, 0.1, 0.2, ..., 1.0]\n",
    "\n",
    "# 使用 np.histogram 统计每个区间内的个数\n",
    "counts, bin_edges = np.histogram(max_probs, bins=bins)\n",
    "\n",
    "# 输出统计结果\n",
    "for i in range(len(counts)):\n",
    "    print(f\"[{bin_edges[i]:.1f}, {bin_edges[i+1]:.1f}): {counts[i]}\")"
   ],
   "id": "780f5e3d0a77d53a",
   "outputs": [
    {
     "name": "stdout",
     "output_type": "stream",
     "text": [
      "[0.0, 0.1): 0\n",
      "[0.1, 0.2): 0\n",
      "[0.2, 0.3): 10\n",
      "[0.3, 0.4): 107\n",
      "[0.4, 0.5): 365\n",
      "[0.5, 0.6): 764\n",
      "[0.6, 0.7): 771\n",
      "[0.7, 0.8): 804\n",
      "[0.8, 0.9): 1167\n",
      "[0.9, 1.0): 6012\n"
     ]
    }
   ],
   "execution_count": 6
  },
  {
   "metadata": {
    "ExecuteTime": {
     "end_time": "2025-03-29T00:20:01.638214Z",
     "start_time": "2025-03-29T00:19:58.266006Z"
    }
   },
   "cell_type": "code",
   "source": [
    "from src import generate_synthetic_data\n",
    "import pickle\n",
    "import numpy as np\n",
    "\n",
    "save_path_train = \"C:\\\\Users\\\\jiayang\\\\ipynb\\\\APS_Thesis\\\\data\\\\synthetic_data\\\\synthetic_3class_newtest.pkl\"\n",
    "generate_synthetic_data( k=3, save_path=save_path_train ) # T=5.0\n",
    "\n",
    "with open(save_path_train, 'rb') as f:\n",
    "    data = pickle.load(f)\n",
    "\n",
    "# 获取 w 数组\n",
    "w = data[\"w\"]  # 应该是形状为 (10000, 3)\n",
    "\n",
    "# 检查维度\n",
    "assert w.shape == (10000, 3), f\"w 的形状不正确: {w.shape}\"\n",
    "\n",
    "# 计算每行的最大概率\n",
    "max_probs = np.max(w, axis=1)\n",
    "\n",
    "# 定义区间边界\n",
    "bins = np.arange(0.0, 1.1, 0.1)  # [0.0, 0.1, 0.2, ..., 1.0]\n",
    "\n",
    "# 使用 np.histogram 统计每个区间内的个数\n",
    "counts, bin_edges = np.histogram(max_probs, bins=bins)\n",
    "\n",
    "# 输出统计结果\n",
    "for i in range(len(counts)):\n",
    "    print(f\"[{bin_edges[i]:.1f}, {bin_edges[i+1]:.1f}): {counts[i]}\")"
   ],
   "id": "bca40bde1c620276",
   "outputs": [
    {
     "name": "stdout",
     "output_type": "stream",
     "text": [
      "Synthetic Data with 3 classes has been saved at: C:\\Users\\jiayang\\ipynb\\APS_Thesis\\data\\synthetic_data\\synthetic_3class_newtest.pkl\n",
      "[0.0, 0.1): 0\n",
      "[0.1, 0.2): 0\n",
      "[0.2, 0.3): 0\n",
      "[0.3, 0.4): 177\n",
      "[0.4, 0.5): 1194\n",
      "[0.5, 0.6): 1904\n",
      "[0.6, 0.7): 1736\n",
      "[0.7, 0.8): 1771\n",
      "[0.8, 0.9): 1648\n",
      "[0.9, 1.0): 1570\n"
     ]
    }
   ],
   "execution_count": 1
  },
  {
   "metadata": {
    "ExecuteTime": {
     "end_time": "2025-03-29T00:21:36.588217Z",
     "start_time": "2025-03-29T00:21:33.153862Z"
    }
   },
   "cell_type": "code",
   "source": [
    "from src import generate_synthetic_data\n",
    "import pickle\n",
    "import numpy as np\n",
    "\n",
    "save_path_train = \"C:\\\\Users\\\\jiayang\\\\ipynb\\\\APS_Thesis\\\\data\\\\synthetic_data\\\\synthetic_5class_newtest.pkl\"\n",
    "generate_synthetic_data( k=5, save_path=save_path_train ) # T=3.5\n",
    "\n",
    "with open(save_path_train, 'rb') as f:\n",
    "    data = pickle.load(f)\n",
    "\n",
    "# 获取 w 数组\n",
    "w = data[\"w\"]  # 应该是形状为 (10000, 3)\n",
    "\n",
    "# 检查维度\n",
    "assert w.shape == (10000, 5), f\"w 的形状不正确: {w.shape}\"\n",
    "\n",
    "# 计算每行的最大概率\n",
    "max_probs = np.max(w, axis=1)\n",
    "\n",
    "# 定义区间边界\n",
    "bins = np.arange(0.0, 1.1, 0.1)  # [0.0, 0.1, 0.2, ..., 1.0]\n",
    "\n",
    "# 使用 np.histogram 统计每个区间内的个数\n",
    "counts, bin_edges = np.histogram(max_probs, bins=bins)\n",
    "\n",
    "# 输出统计结果\n",
    "for i in range(len(counts)):\n",
    "    print(f\"[{bin_edges[i]:.1f}, {bin_edges[i+1]:.1f}): {counts[i]}\")"
   ],
   "id": "f511869961efc022",
   "outputs": [
    {
     "name": "stdout",
     "output_type": "stream",
     "text": [
      "Synthetic Data with 5 classes has been saved at: C:\\Users\\jiayang\\ipynb\\APS_Thesis\\data\\synthetic_data\\synthetic_5class_newtest.pkl\n",
      "[0.0, 0.1): 0\n",
      "[0.1, 0.2): 0\n",
      "[0.2, 0.3): 56\n",
      "[0.3, 0.4): 622\n",
      "[0.4, 0.5): 1416\n",
      "[0.5, 0.6): 1646\n",
      "[0.6, 0.7): 1559\n",
      "[0.7, 0.8): 1497\n",
      "[0.8, 0.9): 1472\n",
      "[0.9, 1.0): 1732\n"
     ]
    }
   ],
   "execution_count": 1
  },
  {
   "metadata": {
    "ExecuteTime": {
     "end_time": "2025-03-29T00:22:51.353620Z",
     "start_time": "2025-03-29T00:22:47.855320Z"
    }
   },
   "cell_type": "code",
   "source": [
    "from src import generate_synthetic_data\n",
    "import pickle\n",
    "import numpy as np\n",
    "\n",
    "save_path_train = \"C:\\\\Users\\\\jiayang\\\\ipynb\\\\APS_Thesis\\\\data\\\\synthetic_data\\\\synthetic_10class_newtest.pkl\"\n",
    "generate_synthetic_data( k=10, save_path=save_path_train ) # T=3.0\n",
    "\n",
    "with open(save_path_train, 'rb') as f:\n",
    "    data = pickle.load(f)\n",
    "\n",
    "# 获取 w 数组\n",
    "w = data[\"w\"]  # 应该是形状为 (10000, 3)\n",
    "\n",
    "# 检查维度\n",
    "assert w.shape == (10000, 10), f\"w 的形状不正确: {w.shape}\"\n",
    "\n",
    "# 计算每行的最大概率\n",
    "max_probs = np.max(w, axis=1)\n",
    "\n",
    "# 定义区间边界\n",
    "bins = np.arange(0.0, 1.1, 0.1)  # [0.0, 0.1, 0.2, ..., 1.0]\n",
    "\n",
    "# 使用 np.histogram 统计每个区间内的个数\n",
    "counts, bin_edges = np.histogram(max_probs, bins=bins)\n",
    "\n",
    "# 输出统计结果\n",
    "for i in range(len(counts)):\n",
    "    print(f\"[{bin_edges[i]:.1f}, {bin_edges[i+1]:.1f}): {counts[i]}\")"
   ],
   "id": "ae5a7c96c7a6803c",
   "outputs": [
    {
     "name": "stdout",
     "output_type": "stream",
     "text": [
      "Synthetic Data with 10 classes has been saved at: C:\\Users\\jiayang\\ipynb\\APS_Thesis\\data\\synthetic_data\\synthetic_10class_newtest.pkl\n",
      "[0.0, 0.1): 0\n",
      "[0.1, 0.2): 8\n",
      "[0.2, 0.3): 422\n",
      "[0.3, 0.4): 1269\n",
      "[0.4, 0.5): 1744\n",
      "[0.5, 0.6): 1478\n",
      "[0.6, 0.7): 1426\n",
      "[0.7, 0.8): 1223\n",
      "[0.8, 0.9): 1150\n",
      "[0.9, 1.0): 1280\n"
     ]
    }
   ],
   "execution_count": 1
  },
  {
   "metadata": {},
   "cell_type": "code",
   "outputs": [],
   "execution_count": null,
   "source": "",
   "id": "1bd6153f04ff0ac7"
  }
 ],
 "metadata": {
  "kernelspec": {
   "display_name": "Python (pytorch2)",
   "language": "python",
   "name": "pytorch2"
  },
  "language_info": {
   "codemirror_mode": {
    "name": "ipython",
    "version": 2
   },
   "file_extension": ".py",
   "mimetype": "text/x-python",
   "name": "python",
   "nbconvert_exporter": "python",
   "pygments_lexer": "ipython2",
   "version": "2.7.6"
  }
 },
 "nbformat": 4,
 "nbformat_minor": 5
}
