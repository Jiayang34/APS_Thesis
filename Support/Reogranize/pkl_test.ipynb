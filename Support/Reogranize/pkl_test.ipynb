{
 "cells": [
  {
   "metadata": {
    "ExecuteTime": {
     "end_time": "2025-04-05T22:32:08.055132Z",
     "start_time": "2025-04-05T22:32:07.954106Z"
    }
   },
   "cell_type": "code",
   "source": [
    "import pickle\n",
    "import numpy as np\n",
    "\n",
    "# 加载 pickle 文件\n",
    "save_path_test = \"C:\\\\Users\\\\jiayang\\\\ipynb\\\\APS_Thesis\\\\data\\\\synthetic_data\\\\synthetic_3class_test.pkl\"\n",
    "with open(save_path_test, 'rb') as f:\n",
    "    data = pickle.load(f)\n",
    "\n",
    "# 获取 w 数组\n",
    "w = data[\"w\"]  # 应该是形状为 (10000, 3)\n",
    "\n",
    "# 检查维度\n",
    "assert w.shape == (10000, 3), f\"w 的形状不正确: {w.shape}\"\n",
    "\n",
    "# 计算每行的最大概率\n",
    "max_probs = np.max(w, axis=1)\n",
    "\n",
    "# 定义区间边界\n",
    "bins = np.arange(0.0, 1.1, 0.1)  # [0.0, 0.1, 0.2, ..., 1.0]\n",
    "\n",
    "# 使用 np.histogram 统计每个区间内的个数\n",
    "counts, bin_edges = np.histogram(max_probs, bins=bins)\n",
    "\n",
    "# 输出统计结果\n",
    "for i in range(len(counts)):\n",
    "    print(f\"[{bin_edges[i]:.1f}, {bin_edges[i+1]:.1f}): {counts[i]}\")\n"
   ],
   "id": "a0c477137673b56e",
   "outputs": [
    {
     "name": "stdout",
     "output_type": "stream",
     "text": [
      "[0.0, 0.1): 0\n",
      "[0.1, 0.2): 0\n",
      "[0.2, 0.3): 0\n",
      "[0.3, 0.4): 355\n",
      "[0.4, 0.5): 1980\n",
      "[0.5, 0.6): 2418\n",
      "[0.6, 0.7): 2047\n",
      "[0.7, 0.8): 1567\n",
      "[0.8, 0.9): 1169\n",
      "[0.9, 1.0): 464\n"
     ]
    }
   ],
   "execution_count": 1
  },
  {
   "metadata": {
    "ExecuteTime": {
     "end_time": "2025-04-05T22:32:08.085140Z",
     "start_time": "2025-04-05T22:32:08.056133Z"
    }
   },
   "cell_type": "code",
   "source": [
    "# 加载 pickle 文件\n",
    "save_path_test = \"C:\\\\Users\\\\jiayang\\\\ipynb\\\\APS_Thesis\\\\data\\\\synthetic_data\\\\synthetic_5class_test.pkl\"\n",
    "with open(save_path_test, 'rb') as f:\n",
    "    data = pickle.load(f)\n",
    "\n",
    "# 获取 w 数组\n",
    "w = data[\"w\"]  # 应该是形状为 (10000, 3)\n",
    "\n",
    "# 检查维度\n",
    "assert w.shape == (10000, 5), f\"w 的形状不正确: {w.shape}\"\n",
    "\n",
    "# 计算每行的最大概率\n",
    "max_probs = np.max(w, axis=1)\n",
    "\n",
    "# 定义区间边界\n",
    "bins = np.arange(0.0, 1.1, 0.1)  # [0.0, 0.1, 0.2, ..., 1.0]\n",
    "\n",
    "# 使用 np.histogram 统计每个区间内的个数\n",
    "counts, bin_edges = np.histogram(max_probs, bins=bins)\n",
    "\n",
    "# 输出统计结果\n",
    "for i in range(len(counts)):\n",
    "    print(f\"[{bin_edges[i]:.1f}, {bin_edges[i+1]:.1f}): {counts[i]}\")"
   ],
   "id": "4a21a99e9014b27d",
   "outputs": [
    {
     "name": "stdout",
     "output_type": "stream",
     "text": [
      "[0.0, 0.1): 0\n",
      "[0.1, 0.2): 0\n",
      "[0.2, 0.3): 472\n",
      "[0.3, 0.4): 2446\n",
      "[0.4, 0.5): 2866\n",
      "[0.5, 0.6): 1901\n",
      "[0.6, 0.7): 1202\n",
      "[0.7, 0.8): 710\n",
      "[0.8, 0.9): 326\n",
      "[0.9, 1.0): 77\n"
     ]
    }
   ],
   "execution_count": 2
  },
  {
   "metadata": {
    "ExecuteTime": {
     "end_time": "2025-04-05T22:32:08.101143Z",
     "start_time": "2025-04-05T22:32:08.086140Z"
    }
   },
   "cell_type": "code",
   "source": [
    "# 加载 pickle 文件\n",
    "save_path_test = \"C:\\\\Users\\\\jiayang\\\\ipynb\\\\APS_Thesis\\\\data\\\\synthetic_data\\\\synthetic_10class_test.pkl\"\n",
    "with open(save_path_test, 'rb') as f:\n",
    "    data = pickle.load(f)\n",
    "\n",
    "# 获取 w 数组\n",
    "w = data[\"w\"]  # 应该是形状为 (10000, 3)\n",
    "\n",
    "# 检查维度\n",
    "assert w.shape == (10000, 10), f\"w 的形状不正确: {w.shape}\"\n",
    "\n",
    "# 计算每行的最大概率\n",
    "max_probs = np.max(w, axis=1)\n",
    "\n",
    "# 定义区间边界\n",
    "bins = np.arange(0.0, 1.1, 0.1)  # [0.0, 0.1, 0.2, ..., 1.0]\n",
    "\n",
    "# 使用 np.histogram 统计每个区间内的个数\n",
    "counts, bin_edges = np.histogram(max_probs, bins=bins)\n",
    "\n",
    "# 输出统计结果\n",
    "for i in range(len(counts)):\n",
    "    print(f\"[{bin_edges[i]:.1f}, {bin_edges[i+1]:.1f}): {counts[i]}\")"
   ],
   "id": "780f5e3d0a77d53a",
   "outputs": [
    {
     "name": "stdout",
     "output_type": "stream",
     "text": [
      "[0.0, 0.1): 0\n",
      "[0.1, 0.2): 40\n",
      "[0.2, 0.3): 994\n",
      "[0.3, 0.4): 2055\n",
      "[0.4, 0.5): 2004\n",
      "[0.5, 0.6): 1611\n",
      "[0.6, 0.7): 1232\n",
      "[0.7, 0.8): 902\n",
      "[0.8, 0.9): 743\n",
      "[0.9, 1.0): 419\n"
     ]
    }
   ],
   "execution_count": 3
  },
  {
   "metadata": {
    "ExecuteTime": {
     "end_time": "2025-04-06T15:28:00.949860Z",
     "start_time": "2025-04-06T15:28:00.565774Z"
    }
   },
   "cell_type": "code",
   "source": [
    "from src import generate_synthetic_data\n",
    "import pickle\n",
    "import numpy as np\n",
    "\n",
    "save_path_train = \"C:\\\\Users\\\\jiayang\\\\ipynb\\\\APS_Thesis\\\\data\\\\synthetic_data\\\\synthetic_3class_newtest.pkl\"\n",
    "generate_synthetic_data( k=3, save_path=save_path_train, temperature=7.0 ) # T=5.0\n",
    "\n",
    "with open(save_path_train, 'rb') as f:\n",
    "    data = pickle.load(f)\n",
    "\n",
    "# 获取 w 数组\n",
    "w = data[\"w\"]  # 应该是形状为 (10000, 3)\n",
    "\n",
    "# 检查维度\n",
    "assert w.shape == (10000, 3), f\"w 的形状不正确: {w.shape}\"\n",
    "\n",
    "# 计算每行的最大概率\n",
    "max_probs = np.max(w, axis=1)\n",
    "\n",
    "# 定义区间边界\n",
    "bins = np.arange(0.0, 1.1, 0.1)  # [0.0, 0.1, 0.2, ..., 1.0]\n",
    "\n",
    "# 使用 np.histogram 统计每个区间内的个数\n",
    "counts, bin_edges = np.histogram(max_probs, bins=bins)\n",
    "\n",
    "# 输出统计结果\n",
    "for i in range(len(counts)):\n",
    "    print(f\"[{bin_edges[i]:.1f}, {bin_edges[i+1]:.1f}): {counts[i]}\")"
   ],
   "id": "bca40bde1c620276",
   "outputs": [
    {
     "name": "stdout",
     "output_type": "stream",
     "text": [
      "Synthetic Data with 3 classes has been saved at: C:\\Users\\jiayang\\ipynb\\APS_Thesis\\data\\synthetic_data\\synthetic_3class_newtest.pkl\n",
      "[0.0, 0.1): 0\n",
      "[0.1, 0.2): 0\n",
      "[0.2, 0.3): 0\n",
      "[0.3, 0.4): 355\n",
      "[0.4, 0.5): 1980\n",
      "[0.5, 0.6): 2418\n",
      "[0.6, 0.7): 2047\n",
      "[0.7, 0.8): 1567\n",
      "[0.8, 0.9): 1169\n",
      "[0.9, 1.0): 464\n"
     ]
    }
   ],
   "execution_count": 4
  },
  {
   "metadata": {
    "ExecuteTime": {
     "end_time": "2025-04-05T23:07:57.769370Z",
     "start_time": "2025-04-05T23:07:57.397144Z"
    }
   },
   "cell_type": "code",
   "source": [
    "from src import generate_synthetic_data\n",
    "import pickle\n",
    "import numpy as np\n",
    "\n",
    "save_path_train = \"C:\\\\Users\\\\jiayang\\\\ipynb\\\\APS_Thesis\\\\data\\\\synthetic_data\\\\synthetic_5class_newtest.pkl\"\n",
    "generate_synthetic_data( k=5, save_path=save_path_train, temperature= 5.0 ) # T=3.5\n",
    "\n",
    "with open(save_path_train, 'rb') as f:\n",
    "    data = pickle.load(f)\n",
    "\n",
    "# 获取 w 数组\n",
    "w = data[\"w\"]  # 应该是形状为 (10000, 3)\n",
    "\n",
    "# 检查维度\n",
    "assert w.shape == (10000, 5), f\"w 的形状不正确: {w.shape}\"\n",
    "\n",
    "# 计算每行的最大概率\n",
    "max_probs = np.max(w, axis=1)\n",
    "\n",
    "# 定义区间边界\n",
    "bins = np.arange(0.0, 1.1, 0.1)  # [0.0, 0.1, 0.2, ..., 1.0]\n",
    "\n",
    "# 使用 np.histogram 统计每个区间内的个数\n",
    "counts, bin_edges = np.histogram(max_probs, bins=bins)\n",
    "\n",
    "# 输出统计结果\n",
    "for i in range(len(counts)):\n",
    "    print(f\"[{bin_edges[i]:.1f}, {bin_edges[i+1]:.1f}): {counts[i]}\")"
   ],
   "id": "f511869961efc022",
   "outputs": [
    {
     "name": "stdout",
     "output_type": "stream",
     "text": [
      "Synthetic Data with 5 classes has been saved at: C:\\Users\\jiayang\\ipynb\\APS_Thesis\\data\\synthetic_data\\synthetic_5class_newtest.pkl\n",
      "[0.0, 0.1): 0\n",
      "[0.1, 0.2): 0\n",
      "[0.2, 0.3): 149\n",
      "[0.3, 0.4): 1351\n",
      "[0.4, 0.5): 2156\n",
      "[0.5, 0.6): 2034\n",
      "[0.6, 0.7): 1582\n",
      "[0.7, 0.8): 1269\n",
      "[0.8, 0.9): 932\n",
      "[0.9, 1.0): 527\n"
     ]
    }
   ],
   "execution_count": 8
  },
  {
   "metadata": {
    "ExecuteTime": {
     "end_time": "2025-04-05T22:38:04.820202Z",
     "start_time": "2025-04-05T22:38:04.375102Z"
    }
   },
   "cell_type": "code",
   "source": [
    "from src import generate_synthetic_data\n",
    "import pickle\n",
    "import numpy as np\n",
    "\n",
    "save_path_train = \"C:\\\\Users\\\\jiayang\\\\ipynb\\\\APS_Thesis\\\\data\\\\synthetic_data\\\\synthetic_10class_newtest.pkl\"\n",
    "generate_synthetic_data( k=10, save_path=save_path_train, temperature=4.0 ) # T=3.0\n",
    "\n",
    "with open(save_path_train, 'rb') as f:\n",
    "    data = pickle.load(f)\n",
    "\n",
    "# 获取 w 数组\n",
    "w = data[\"w\"]  # 应该是形状为 (10000, 3)\n",
    "\n",
    "# 检查维度\n",
    "assert w.shape == (10000, 10), f\"w 的形状不正确: {w.shape}\"\n",
    "\n",
    "# 计算每行的最大概率\n",
    "max_probs = np.max(w, axis=1)\n",
    "\n",
    "# 定义区间边界\n",
    "bins = np.arange(0.0, 1.1, 0.1)  # [0.0, 0.1, 0.2, ..., 1.0]\n",
    "\n",
    "# 使用 np.histogram 统计每个区间内的个数\n",
    "counts, bin_edges = np.histogram(max_probs, bins=bins)\n",
    "\n",
    "# 输出统计结果\n",
    "for i in range(len(counts)):\n",
    "    print(f\"[{bin_edges[i]:.1f}, {bin_edges[i+1]:.1f}): {counts[i]}\")"
   ],
   "id": "ae5a7c96c7a6803c",
   "outputs": [
    {
     "name": "stdout",
     "output_type": "stream",
     "text": [
      "Synthetic Data with 10 classes has been saved at: C:\\Users\\jiayang\\ipynb\\APS_Thesis\\data\\synthetic_data\\synthetic_10class_newtest.pkl\n",
      "[0.0, 0.1): 0\n",
      "[0.1, 0.2): 40\n",
      "[0.2, 0.3): 994\n",
      "[0.3, 0.4): 2055\n",
      "[0.4, 0.5): 2004\n",
      "[0.5, 0.6): 1611\n",
      "[0.6, 0.7): 1232\n",
      "[0.7, 0.8): 902\n",
      "[0.8, 0.9): 743\n",
      "[0.9, 1.0): 419\n"
     ]
    }
   ],
   "execution_count": 5
  },
  {
   "metadata": {},
   "cell_type": "code",
   "source": "",
   "id": "1bd6153f04ff0ac7",
   "outputs": [],
   "execution_count": null
  }
 ],
 "metadata": {
  "kernelspec": {
   "display_name": "Python (pytorch2)",
   "language": "python",
   "name": "pytorch2"
  },
  "language_info": {
   "codemirror_mode": {
    "name": "ipython",
    "version": 2
   },
   "file_extension": ".py",
   "mimetype": "text/x-python",
   "name": "python",
   "nbconvert_exporter": "python",
   "pygments_lexer": "ipython2",
   "version": "2.7.6"
  }
 },
 "nbformat": 4,
 "nbformat_minor": 5
}
