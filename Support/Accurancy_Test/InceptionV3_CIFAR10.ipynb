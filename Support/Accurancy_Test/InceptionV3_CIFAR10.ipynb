{
 "cells": [
  {
   "cell_type": "code",
   "id": "initial_id",
   "metadata": {
    "collapsed": true,
    "ExecuteTime": {
     "end_time": "2025-03-15T22:45:57.011917Z",
     "start_time": "2025-03-15T22:45:39.890961Z"
    }
   },
   "source": [
    "import torch\n",
    "import torchvision.transforms as transforms              \n",
    "from torchvision.datasets import CIFAR10      \n",
    "from torch.utils.data import DataLoader\n",
    "from src.inception import inception_v3\n",
    "\n",
    "device = torch.device(\"cuda\" if torch.cuda.is_available() else \"cpu\")\n",
    "\n",
    "dict_path = \"C:\\\\Users\\\\jiayang\\\\ipynb\\\\trainedModel\\\\Inception_CIFAR10.pth\"\n",
    "model = inception_v3(pretrained=True, dict_path=dict_path).to(device)\n",
    "\n",
    "# preprocess the images from CIFAR10\n",
    "data_transform = transforms.Compose([\n",
    "    transforms.ToTensor(),       \n",
    "    transforms.Normalize((0.4914, 0.4822, 0.4465), (0.2023, 0.1994, 0.2010))  \n",
    "])\n",
    "\n",
    "# load images from CIFAR10\n",
    "dataset = CIFAR10(root=\"../../data\", train=False, download=True, transform=data_transform)\n",
    "test_loader = DataLoader(dataset, batch_size=32, shuffle=True)\n",
    "\n",
    "def evaluate_model(model, test_loader, device):\n",
    "    model.eval()\n",
    "    correct, total = 0, 0\n",
    "\n",
    "    with torch.no_grad():\n",
    "        for images, labels in test_loader:\n",
    "            images, labels = images.to(device), labels.to(device)\n",
    "            outputs = model(images)\n",
    "            _, predicted = outputs.max(1)\n",
    "            total += labels.size(0)\n",
    "            correct += predicted.eq(labels).sum().item()\n",
    "\n",
    "    accuracy = 100 * correct / total\n",
    "    return accuracy  \n",
    "\n",
    "accuracy = evaluate_model(model, test_loader, device)\n",
    "print(f\"Accuracy of the model is {accuracy:.2f}%\")"
   ],
   "outputs": [
    {
     "name": "stdout",
     "output_type": "stream",
     "text": [
      "Loading weights from: C:\\Users\\jiayang\\ipynb\\trainedModel\\Inception_CIFAR10.pth\n",
      "Files already downloaded and verified\n",
      "Accuracy of the model is 91.85%\n"
     ]
    }
   ],
   "execution_count": 1
  },
  {
   "metadata": {},
   "cell_type": "code",
   "outputs": [],
   "execution_count": null,
   "source": "",
   "id": "8ed8d1d7ff8ec3bf"
  }
 ],
 "metadata": {
  "kernelspec": {
   "display_name": "Python (pytorch2)",
   "language": "python",
   "name": "pytorch2"
  },
  "language_info": {
   "codemirror_mode": {
    "name": "ipython",
    "version": 2
   },
   "file_extension": ".py",
   "mimetype": "text/x-python",
   "name": "python",
   "nbconvert_exporter": "python",
   "pygments_lexer": "ipython2",
   "version": "2.7.6"
  }
 },
 "nbformat": 4,
 "nbformat_minor": 5
}
