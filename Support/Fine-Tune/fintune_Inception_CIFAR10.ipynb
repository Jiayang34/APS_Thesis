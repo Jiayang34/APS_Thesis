{
 "cells": [
  {
   "cell_type": "code",
   "id": "initial_id",
   "metadata": {
    "collapsed": true,
    "ExecuteTime": {
     "end_time": "2025-03-08T23:23:21.757883Z",
     "start_time": "2025-03-08T22:18:59.750397Z"
    }
   },
   "source": [
    "import torch\n",
    "import torch.nn as nn\n",
    "import torchvision.transforms as transforms\n",
    "from torchvision.datasets import CIFAR10\n",
    "from torch.utils.data import DataLoader\n",
    "from src.inception import inception_v3\n",
    "\n",
    "train_transforms = transforms.Compose([\n",
    "    transforms.RandomCrop(32, padding=4),\n",
    "    transforms.RandomHorizontalFlip(),\n",
    "    transforms.ToTensor(),\n",
    "    transforms.Normalize(mean=[0.4914, 0.4822, 0.4465], std=[0.2470, 0.2435, 0.2616])\n",
    "])\n",
    "\n",
    "test_transforms = transforms.Compose([\n",
    "    transforms.ToTensor(),\n",
    "    transforms.Normalize(mean=[0.4914, 0.4822, 0.4465], std=[0.2470, 0.2435, 0.2616])\n",
    "])\n",
    "\n",
    "train_dataset = CIFAR10(root=\"../../data\", train=True, transform=train_transforms, download=True)\n",
    "test_dataset = CIFAR10(root=\"../../data\", train=False, transform=test_transforms, download=True)\n",
    "\n",
    "train_loader = DataLoader(train_dataset, batch_size=64, shuffle=True, num_workers=4)\n",
    "test_loader = DataLoader(test_dataset, batch_size=64, shuffle=False, num_workers=4)\n",
    "\n",
    "device = torch.device(\"cuda\" if torch.cuda.is_available() else \"cpu\")\n",
    "model = inception_v3(pretrained=False).to(device)\n",
    "\n",
    "criterion = nn.CrossEntropyLoss()\n",
    "optimizer = torch.optim.Adam(model.parameters(), lr=1e-3, weight_decay=1e-4)\n",
    "\n",
    "def evaluate_model(model, test_loader, device):\n",
    "    model.eval()\n",
    "    correct, total = 0, 0\n",
    "\n",
    "    with torch.no_grad():\n",
    "        for images, labels in test_loader:\n",
    "            images, labels = images.to(device), labels.to(device)\n",
    "            outputs = model(images)\n",
    "            _, predicted = outputs.max(1)\n",
    "            total += labels.size(0)\n",
    "            correct += predicted.eq(labels).sum().item()\n",
    "\n",
    "    accuracy = 100 * correct / total\n",
    "    return accuracy  \n",
    "\n",
    "def train_model(model, train_loader, criterion, optimizer, device, num_epochs=10):\n",
    "    model.train()\n",
    "    for epoch in range(num_epochs):\n",
    "        running_loss, correct, total = 0.0, 0, 0\n",
    "        for images, labels in train_loader:\n",
    "            images, labels = images.to(device), labels.to(device)\n",
    "            optimizer.zero_grad()\n",
    "            outputs = model(images)\n",
    "            loss = criterion(outputs, labels)\n",
    "            loss.backward()\n",
    "            optimizer.step()\n",
    "\n",
    "            running_loss += loss.item()\n",
    "            _, predicted = outputs.max(1)\n",
    "            total += labels.size(0)\n",
    "            correct += predicted.eq(labels).sum().item()\n",
    "\n",
    "        accuracy = 100 * correct / total\n",
    "        print(f\"Epoch {epoch+1}/{num_epochs}, Loss: {running_loss/len(train_loader):.4f}, Accuracy: {accuracy:.2f}%\\n\")\n",
    "        \n",
    "        # Test accuracy every 5 epochs\n",
    "        if epoch % 5 == 0:\n",
    "            print(\"Testing Accuracy on Test Set...\")\n",
    "            test_accuracy = evaluate_model(model, test_loader, device)\n",
    "            if test_accuracy > 92:\n",
    "                print(f\"Model accuracy reaches {test_accuracy}% at epoch {epoch}\")\n",
    "                print(\"Training Finished!\")\n",
    "                break\n",
    "            else:\n",
    "                print(\"Model haven't arrived 92% accuracy. Training continue!\\n\")\n",
    "                model.train()\n",
    "\n",
    "train_model(model, train_loader, criterion, optimizer, device, num_epochs=20)\n"
   ],
   "outputs": [
    {
     "name": "stdout",
     "output_type": "stream",
     "text": [
      "Files already downloaded and verified\n",
      "Files already downloaded and verified\n",
      "Epoch 1/20, Loss: 1.5762, Accuracy: 40.43%\n",
      "\n",
      "Testing Accuracy on Test Set...\n",
      "Model haven't arrived 92% accuracy. Training continue!\n",
      "\n",
      "Epoch 2/20, Loss: 1.0866, Accuracy: 60.83%\n",
      "\n",
      "Epoch 3/20, Loss: 0.9031, Accuracy: 68.12%\n",
      "\n",
      "Epoch 4/20, Loss: 0.7647, Accuracy: 73.54%\n",
      "\n",
      "Epoch 5/20, Loss: 0.6613, Accuracy: 77.28%\n",
      "\n",
      "Epoch 6/20, Loss: 0.6018, Accuracy: 79.43%\n",
      "\n",
      "Testing Accuracy on Test Set...\n",
      "Model haven't arrived 92% accuracy. Training continue!\n",
      "\n",
      "Epoch 7/20, Loss: 0.5423, Accuracy: 81.67%\n",
      "\n",
      "Epoch 8/20, Loss: 0.5024, Accuracy: 82.83%\n",
      "\n",
      "Epoch 9/20, Loss: 0.4613, Accuracy: 84.44%\n",
      "\n",
      "Epoch 10/20, Loss: 0.4294, Accuracy: 85.22%\n",
      "\n",
      "Epoch 11/20, Loss: 0.4063, Accuracy: 86.18%\n",
      "\n",
      "Testing Accuracy on Test Set...\n",
      "Model haven't arrived 92% accuracy. Training continue!\n",
      "\n",
      "Epoch 12/20, Loss: 0.3755, Accuracy: 87.28%\n",
      "\n",
      "Epoch 13/20, Loss: 0.3562, Accuracy: 87.88%\n",
      "\n",
      "Epoch 14/20, Loss: 0.3366, Accuracy: 88.67%\n",
      "\n",
      "Epoch 15/20, Loss: 0.3224, Accuracy: 89.02%\n",
      "\n",
      "Epoch 16/20, Loss: 0.3038, Accuracy: 89.65%\n",
      "\n",
      "Testing Accuracy on Test Set...\n",
      "Model haven't arrived 92% accuracy. Training continue!\n",
      "\n",
      "Epoch 17/20, Loss: 0.2808, Accuracy: 90.47%\n",
      "\n",
      "Epoch 18/20, Loss: 0.2744, Accuracy: 90.58%\n",
      "\n",
      "Epoch 19/20, Loss: 0.2657, Accuracy: 91.05%\n",
      "\n",
      "Epoch 20/20, Loss: 0.2532, Accuracy: 91.35%\n",
      "\n"
     ]
    }
   ],
   "execution_count": 7
  },
  {
   "metadata": {
    "ExecuteTime": {
     "end_time": "2025-03-08T23:49:41.644786Z",
     "start_time": "2025-03-08T23:49:17.986326Z"
    }
   },
   "cell_type": "code",
   "source": [
    "test_accuracy = evaluate_model(model, test_loader, device)\n",
    "print(f\"Current Accuracy on Test Set: {test_accuracy}%\")"
   ],
   "id": "5664a438469a2849",
   "outputs": [
    {
     "name": "stdout",
     "output_type": "stream",
     "text": [
      "Current Accuracy on Test Set: 91.89%\n"
     ]
    }
   ],
   "execution_count": 11
  },
  {
   "metadata": {
    "ExecuteTime": {
     "end_time": "2025-03-08T23:51:02.788867Z",
     "start_time": "2025-03-08T23:51:02.625012Z"
    }
   },
   "cell_type": "code",
   "source": [
    "import os\n",
    "save_dir = \"C:\\\\Users\\\\jiayang\\\\ipynb\\\\trainedModel\" # your save save path\n",
    "if not os.path.exists(save_dir):\n",
    "    os.makedirs(save_dir)\n",
    "    \n",
    "model_path = os.path.join(save_dir, \"Inception_CIFAR10.pth\")\n",
    "torch.save(model.state_dict(), model_path)\n",
    "print(f\"Model saved to {model_path}\")"
   ],
   "id": "6fc578d4278dc4da",
   "outputs": [
    {
     "name": "stdout",
     "output_type": "stream",
     "text": [
      "Model saved to C:\\Users\\jiayang\\ipynb\\trainedModel\\Inception_CIFAR10.pth\n"
     ]
    }
   ],
   "execution_count": 12
  },
  {
   "metadata": {},
   "cell_type": "code",
   "outputs": [],
   "execution_count": null,
   "source": "",
   "id": "5d26c695163ea39e"
  }
 ],
 "metadata": {
  "kernelspec": {
   "display_name": "Python (pytorch2)",
   "language": "python",
   "name": "pytorch2"
  },
  "language_info": {
   "codemirror_mode": {
    "name": "ipython",
    "version": 2
   },
   "file_extension": ".py",
   "mimetype": "text/x-python",
   "name": "python",
   "nbconvert_exporter": "python",
   "pygments_lexer": "ipython2",
   "version": "2.7.6"
  }
 },
 "nbformat": 4,
 "nbformat_minor": 5
}
