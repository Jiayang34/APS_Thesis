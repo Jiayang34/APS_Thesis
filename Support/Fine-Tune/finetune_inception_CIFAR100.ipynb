{
 "cells": [
  {
   "cell_type": "code",
   "id": "initial_id",
   "metadata": {
    "collapsed": true,
    "ExecuteTime": {
     "end_time": "2025-03-09T18:28:20.430557Z",
     "start_time": "2025-03-09T18:28:15.786502Z"
    }
   },
   "source": [
    "import torch\n",
    "import torch.nn as nn\n",
    "import torchvision.transforms as transforms\n",
    "from torchvision.datasets import CIFAR100\n",
    "from torch.utils.data import DataLoader\n",
    "from src.inception_cifar100 import inceptionv3\n",
    "\n",
    "train_transforms = transforms.Compose([\n",
    "        transforms.RandomCrop(32, padding=4),\n",
    "        transforms.RandomHorizontalFlip(),\n",
    "        transforms.RandomRotation(15),\n",
    "        transforms.ToTensor(),\n",
    "        transforms.Normalize((0.5071, 0.4865, 0.4409), (0.2673, 0.2564, 0.2762))\n",
    "])\n",
    "\n",
    "test_transforms = transforms.Compose([\n",
    "    transforms.ToTensor(),\n",
    "    transforms.Normalize((0.5071, 0.4865, 0.4409), (0.2673, 0.2564, 0.2762))\n",
    "])\n",
    "\n",
    "train_dataset = CIFAR100(root=\"../../data\", train=True, transform=train_transforms, download=True)\n",
    "test_dataset = CIFAR100(root=\"../../data\", train=False, transform=test_transforms, download=True)\n",
    "\n",
    "train_loader = DataLoader(train_dataset, batch_size=32, shuffle=True, num_workers=4)\n",
    "test_loader = DataLoader(test_dataset, batch_size=32, shuffle=False, num_workers=4)\n",
    "\n",
    "device = torch.device(\"cuda\" if torch.cuda.is_available() else \"cpu\")\n",
    "model = inceptionv3()\n",
    "model = model.to(device)\n",
    "\n",
    "def evaluate_model(model, test_loader, device):\n",
    "    model.eval()\n",
    "    correct, total = 0, 0\n",
    "\n",
    "    with torch.no_grad():\n",
    "        for images, labels in test_loader:\n",
    "            images, labels = images.to(device), labels.to(device)\n",
    "            outputs = model(images)\n",
    "            _, predicted = outputs.max(1)\n",
    "            total += labels.size(0)\n",
    "            correct += predicted.eq(labels).sum().item()\n",
    "\n",
    "    accuracy = 100 * correct / total\n",
    "    return accuracy  \n",
    "\n",
    "def train_model(model, train_loader, criterion, optimizer, device, num_epochs=10):\n",
    "    model.train()\n",
    "    for epoch in range(num_epochs):\n",
    "        running_loss, correct, total = 0.0, 0, 0\n",
    "        for images, labels in train_loader:\n",
    "            images, labels = images.to(device), labels.to(device)\n",
    "            optimizer.zero_grad()\n",
    "            outputs = model(images)\n",
    "            loss = criterion(outputs, labels)\n",
    "            loss.backward()\n",
    "            optimizer.step()\n",
    "\n",
    "            running_loss += loss.item()\n",
    "            _, predicted = outputs.max(1)\n",
    "            total += labels.size(0)\n",
    "            correct += predicted.eq(labels).sum().item()\n",
    "\n",
    "        accuracy = 100 * correct / total\n",
    "        print(f\"Epoch {epoch+1}/{num_epochs}, Loss: {running_loss/len(train_loader):.4f}, Accuracy: {accuracy:.2f}%\\n\")\n",
    "        \n",
    "        # Test accuracy when train-accuracy is above 90%\n",
    "        if accuracy >= 90:\n",
    "            print(\"Testing Accuracy on Test Set...\")\n",
    "            test_accuracy = evaluate_model(model, test_loader, device)\n",
    "            if test_accuracy >= 91:\n",
    "                print(f\"Model accuracy reaches {test_accuracy}% at epoch {epoch}\")\n",
    "                print(\"Training Finished!\")\n",
    "                break\n",
    "            else:\n",
    "                print(\"Model haven't arrived 91% accuracy. Training continue!\\n\")\n",
    "                model.train()"
   ],
   "outputs": [
    {
     "name": "stdout",
     "output_type": "stream",
     "text": [
      "Files already downloaded and verified\n",
      "Files already downloaded and verified\n"
     ]
    }
   ],
   "execution_count": 1
  },
  {
   "metadata": {
    "ExecuteTime": {
     "end_time": "2025-03-09T19:49:09.953679Z",
     "start_time": "2025-03-09T18:28:22.214361Z"
    }
   },
   "cell_type": "code",
   "source": [
    "criterion = nn.CrossEntropyLoss()\n",
    "optimizer_3 = torch.optim.Adam(model.parameters(), lr=0.001, weight_decay=1e-4)\n",
    "optimizer_4 = torch.optim.Adam(model.parameters(), lr=1e-4, weight_decay=1e-4)\n",
    "\n",
    "\n",
    "train_model(model, train_loader, criterion, optimizer_3, device, num_epochs=20)\n",
    "train_model(model, train_loader, criterion, optimizer_4, device, num_epochs=5)"
   ],
   "id": "dc9f51e5777db279",
   "outputs": [
    {
     "name": "stdout",
     "output_type": "stream",
     "text": [
      "Epoch 1/20, Loss: 4.2263, Accuracy: 4.46%\n",
      "\n",
      "Epoch 2/20, Loss: 3.8515, Accuracy: 9.41%\n",
      "\n",
      "Epoch 3/20, Loss: 3.5363, Accuracy: 14.92%\n",
      "\n",
      "Epoch 4/20, Loss: 3.2498, Accuracy: 19.75%\n",
      "\n",
      "Epoch 5/20, Loss: 3.0018, Accuracy: 24.54%\n",
      "\n",
      "Epoch 6/20, Loss: 2.7929, Accuracy: 28.75%\n",
      "\n",
      "Epoch 7/20, Loss: 2.6042, Accuracy: 32.66%\n",
      "\n",
      "Epoch 8/20, Loss: 2.4465, Accuracy: 35.96%\n",
      "\n",
      "Epoch 9/20, Loss: 2.3024, Accuracy: 39.06%\n",
      "\n",
      "Epoch 10/20, Loss: 2.1878, Accuracy: 41.62%\n",
      "\n",
      "Epoch 11/20, Loss: 2.0907, Accuracy: 43.85%\n",
      "\n",
      "Epoch 12/20, Loss: 2.0110, Accuracy: 45.88%\n",
      "\n",
      "Epoch 13/20, Loss: 1.9402, Accuracy: 47.37%\n",
      "\n",
      "Epoch 14/20, Loss: 1.8690, Accuracy: 48.97%\n",
      "\n",
      "Epoch 15/20, Loss: 1.8051, Accuracy: 50.38%\n",
      "\n",
      "Epoch 16/20, Loss: 1.7660, Accuracy: 51.62%\n",
      "\n",
      "Epoch 17/20, Loss: 1.7096, Accuracy: 52.99%\n",
      "\n",
      "Epoch 18/20, Loss: 1.6757, Accuracy: 53.81%\n",
      "\n",
      "Epoch 19/20, Loss: 1.6453, Accuracy: 54.62%\n",
      "\n",
      "Epoch 20/20, Loss: 1.6067, Accuracy: 55.21%\n",
      "\n",
      "Epoch 1/5, Loss: 1.4542, Accuracy: 59.18%\n",
      "\n",
      "Epoch 2/5, Loss: 1.3777, Accuracy: 61.19%\n",
      "\n",
      "Epoch 3/5, Loss: 1.3493, Accuracy: 62.08%\n",
      "\n",
      "Epoch 4/5, Loss: 1.3340, Accuracy: 62.29%\n",
      "\n",
      "Epoch 5/5, Loss: 1.3133, Accuracy: 62.94%\n",
      "\n"
     ]
    }
   ],
   "execution_count": 2
  },
  {
   "metadata": {
    "ExecuteTime": {
     "end_time": "2025-03-09T20:19:46.832867Z",
     "start_time": "2025-03-09T20:19:46.030032Z"
    }
   },
   "cell_type": "code",
   "source": [
    "train_transforms = transforms.Compose([\n",
    "        transforms.RandomCrop(32, padding=4),\n",
    "        transforms.RandomHorizontalFlip(),\n",
    "        transforms.ToTensor(),\n",
    "        transforms.Normalize((0.5071, 0.4865, 0.4409), (0.2673, 0.2564, 0.2762))\n",
    "])\n",
    "train_dataset = CIFAR100(root=\"../../data\", train=True, transform=train_transforms, download=True)\n",
    "train_loader = DataLoader(train_dataset, batch_size=32, shuffle=True, num_workers=4)"
   ],
   "id": "6b47238ca4e59265",
   "outputs": [
    {
     "name": "stdout",
     "output_type": "stream",
     "text": [
      "Files already downloaded and verified\n"
     ]
    }
   ],
   "execution_count": 3
  },
  {
   "metadata": {
    "ExecuteTime": {
     "end_time": "2025-03-09T20:51:06.141588Z",
     "start_time": "2025-03-09T20:34:51.927507Z"
    }
   },
   "cell_type": "code",
   "source": "train_model(model, train_loader, criterion, optimizer_3, device, num_epochs=5)",
   "id": "e309e0c15f1418df",
   "outputs": [
    {
     "name": "stdout",
     "output_type": "stream",
     "text": [
      "Epoch 1/5, Loss: 1.4501, Accuracy: 58.88%\n",
      "\n",
      "Epoch 2/5, Loss: 1.4153, Accuracy: 59.89%\n",
      "\n",
      "Epoch 3/5, Loss: 1.3885, Accuracy: 60.74%\n",
      "\n",
      "Epoch 4/5, Loss: 1.3528, Accuracy: 61.39%\n",
      "\n",
      "Epoch 5/5, Loss: 1.3215, Accuracy: 62.30%\n",
      "\n"
     ]
    }
   ],
   "execution_count": 6
  },
  {
   "metadata": {
    "ExecuteTime": {
     "end_time": "2025-03-09T21:24:25.883806Z",
     "start_time": "2025-03-09T20:51:33.182672Z"
    }
   },
   "cell_type": "code",
   "source": "train_model(model, train_loader, criterion, optimizer_3, device, num_epochs=10)",
   "id": "32a587f70a74f37f",
   "outputs": [
    {
     "name": "stdout",
     "output_type": "stream",
     "text": [
      "Epoch 1/10, Loss: 1.2968, Accuracy: 62.74%\n",
      "\n",
      "Epoch 2/10, Loss: 1.2729, Accuracy: 63.46%\n",
      "\n",
      "Epoch 3/10, Loss: 1.2547, Accuracy: 63.90%\n",
      "\n",
      "Epoch 4/10, Loss: 1.2271, Accuracy: 64.70%\n",
      "\n",
      "Epoch 5/10, Loss: 1.2107, Accuracy: 64.96%\n",
      "\n",
      "Epoch 6/10, Loss: 1.1921, Accuracy: 65.75%\n",
      "\n",
      "Epoch 7/10, Loss: 1.1702, Accuracy: 66.18%\n",
      "\n",
      "Epoch 8/10, Loss: 1.1572, Accuracy: 66.39%\n",
      "\n",
      "Epoch 9/10, Loss: 1.1416, Accuracy: 66.68%\n",
      "\n",
      "Epoch 10/10, Loss: 1.1226, Accuracy: 67.42%\n",
      "\n"
     ]
    }
   ],
   "execution_count": 7
  },
  {
   "metadata": {
    "ExecuteTime": {
     "end_time": "2025-03-09T21:41:06.105655Z",
     "start_time": "2025-03-09T21:24:51.710956Z"
    }
   },
   "cell_type": "code",
   "source": [
    "optimizer_4 = torch.optim.Adam(model.parameters(), lr=1e-4, weight_decay=5e-5)\n",
    "train_model(model, train_loader, criterion, optimizer_4, device, num_epochs=5)"
   ],
   "id": "5df28fab8f95293e",
   "outputs": [
    {
     "name": "stdout",
     "output_type": "stream",
     "text": [
      "Epoch 1/5, Loss: 0.8716, Accuracy: 74.40%\n",
      "\n",
      "Epoch 2/5, Loss: 0.7936, Accuracy: 76.45%\n",
      "\n",
      "Epoch 3/5, Loss: 0.7576, Accuracy: 77.28%\n",
      "\n",
      "Epoch 4/5, Loss: 0.7203, Accuracy: 78.31%\n",
      "\n",
      "Epoch 5/5, Loss: 0.7030, Accuracy: 78.91%\n",
      "\n"
     ]
    }
   ],
   "execution_count": 8
  },
  {
   "metadata": {
    "ExecuteTime": {
     "end_time": "2025-03-09T21:57:44.813745Z",
     "start_time": "2025-03-09T21:41:26.816035Z"
    }
   },
   "cell_type": "code",
   "source": "train_model(model, train_loader, criterion, optimizer_4, device, num_epochs=5)",
   "id": "26c0bbc3f5e248af",
   "outputs": [
    {
     "name": "stdout",
     "output_type": "stream",
     "text": [
      "Epoch 1/5, Loss: 0.6804, Accuracy: 79.41%\n",
      "\n",
      "Epoch 2/5, Loss: 0.6660, Accuracy: 79.74%\n",
      "\n",
      "Epoch 3/5, Loss: 0.6497, Accuracy: 80.38%\n",
      "\n",
      "Epoch 4/5, Loss: 0.6316, Accuracy: 80.66%\n",
      "\n",
      "Epoch 5/5, Loss: 0.6183, Accuracy: 80.95%\n",
      "\n"
     ]
    }
   ],
   "execution_count": 9
  },
  {
   "metadata": {
    "ExecuteTime": {
     "end_time": "2025-03-09T21:58:16.362215Z",
     "start_time": "2025-03-09T21:57:53.581441Z"
    }
   },
   "cell_type": "code",
   "source": [
    "test_accuracy = evaluate_model(model, test_loader, device)\n",
    "print(f\"Current Accuracy on Test Set: {test_accuracy}%\")"
   ],
   "id": "6a332578c3fd528d",
   "outputs": [
    {
     "name": "stdout",
     "output_type": "stream",
     "text": [
      "Current Accuracy on Test Set: 70.08%\n"
     ]
    }
   ],
   "execution_count": 10
  },
  {
   "metadata": {
    "ExecuteTime": {
     "end_time": "2025-03-09T22:14:37.058851Z",
     "start_time": "2025-03-09T21:58:21.737532Z"
    }
   },
   "cell_type": "code",
   "source": [
    "optimizer_5 = torch.optim.Adam(model.parameters(), lr=5e-5, weight_decay=1e-5)\n",
    "train_model(model, train_loader, criterion, optimizer_5, device, num_epochs=5)"
   ],
   "id": "1f30184a885d4c84",
   "outputs": [
    {
     "name": "stdout",
     "output_type": "stream",
     "text": [
      "Epoch 1/5, Loss: 0.5976, Accuracy: 81.78%\n",
      "\n",
      "Epoch 2/5, Loss: 0.5879, Accuracy: 81.99%\n",
      "\n",
      "Epoch 3/5, Loss: 0.5743, Accuracy: 82.40%\n",
      "\n",
      "Epoch 4/5, Loss: 0.5731, Accuracy: 82.61%\n",
      "\n",
      "Epoch 5/5, Loss: 0.5592, Accuracy: 82.81%\n",
      "\n"
     ]
    }
   ],
   "execution_count": 11
  },
  {
   "metadata": {
    "ExecuteTime": {
     "end_time": "2025-03-09T22:50:59.815124Z",
     "start_time": "2025-03-09T22:34:41.714202Z"
    }
   },
   "cell_type": "code",
   "source": [
    "train_transforms = transforms.Compose([\n",
    "        transforms.ToTensor(),\n",
    "        transforms.Normalize((0.5071, 0.4865, 0.4409), (0.2673, 0.2564, 0.2762))\n",
    "])\n",
    "train_dataset = CIFAR100(root=\"../../data\", train=True, transform=train_transforms, download=True)\n",
    "train_loader = DataLoader(train_dataset, batch_size=32, shuffle=True, num_workers=4)\n",
    "\n",
    "train_model(model, train_loader, criterion, optimizer_5, device, num_epochs=5)"
   ],
   "id": "8d2156e4afa4bb7e",
   "outputs": [
    {
     "name": "stdout",
     "output_type": "stream",
     "text": [
      "Files already downloaded and verified\n",
      "Epoch 1/5, Loss: 0.5017, Accuracy: 84.39%\n",
      "\n",
      "Epoch 2/5, Loss: 0.4442, Accuracy: 86.38%\n",
      "\n",
      "Epoch 3/5, Loss: 0.4268, Accuracy: 86.71%\n",
      "\n",
      "Epoch 4/5, Loss: 0.4066, Accuracy: 87.41%\n",
      "\n",
      "Epoch 5/5, Loss: 0.3850, Accuracy: 87.99%\n",
      "\n"
     ]
    }
   ],
   "execution_count": 16
  },
  {
   "metadata": {
    "ExecuteTime": {
     "end_time": "2025-03-09T23:08:19.088873Z",
     "start_time": "2025-03-09T22:51:37.488165Z"
    }
   },
   "cell_type": "code",
   "source": "train_model(model, train_loader, criterion, optimizer_5, device, num_epochs=5)",
   "id": "5c6811a2bbe77d74",
   "outputs": [
    {
     "name": "stdout",
     "output_type": "stream",
     "text": [
      "Epoch 1/5, Loss: 0.3730, Accuracy: 88.35%\n",
      "\n",
      "Epoch 2/5, Loss: 0.3561, Accuracy: 88.98%\n",
      "\n",
      "Epoch 3/5, Loss: 0.3437, Accuracy: 89.31%\n",
      "\n",
      "Epoch 4/5, Loss: 0.3259, Accuracy: 89.99%\n",
      "\n",
      "Epoch 5/5, Loss: 0.3143, Accuracy: 90.25%\n",
      "\n",
      "Testing Accuracy on Test Set...\n",
      "Model haven't arrived 91% accuracy. Training continue!\n",
      "\n"
     ]
    }
   ],
   "execution_count": 17
  },
  {
   "metadata": {
    "ExecuteTime": {
     "end_time": "2025-03-09T23:20:39.650409Z",
     "start_time": "2025-03-09T23:20:39.461367Z"
    }
   },
   "cell_type": "code",
   "source": [
    "import os\n",
    "save_dir = \"C:\\\\Users\\\\jiayang\\\\ipynb\\\\trainedModel\" # your save save path\n",
    "if not os.path.exists(save_dir):\n",
    "    os.makedirs(save_dir)\n",
    "    \n",
    "model_path = os.path.join(save_dir, \"Inception_CIFAR10.pth\")\n",
    "torch.save(model.state_dict(), model_path)\n",
    "print(f\"Model saved to {model_path}\")"
   ],
   "id": "5143ed8b5dc261ae",
   "outputs": [
    {
     "name": "stdout",
     "output_type": "stream",
     "text": [
      "Model saved to C:\\Users\\jiayang\\ipynb\\trainedModel\\Inception_CIFAR10.pth\n"
     ]
    }
   ],
   "execution_count": 20
  },
  {
   "metadata": {},
   "cell_type": "code",
   "outputs": [],
   "execution_count": null,
   "source": "",
   "id": "a09b8b1ec91b3f4c"
  }
 ],
 "metadata": {
  "kernelspec": {
   "display_name": "Python (pytorch2)",
   "language": "python",
   "name": "pytorch2"
  },
  "language_info": {
   "codemirror_mode": {
    "name": "ipython",
    "version": 2
   },
   "file_extension": ".py",
   "mimetype": "text/x-python",
   "name": "python",
   "nbconvert_exporter": "python",
   "pygments_lexer": "ipython2",
   "version": "2.7.6"
  }
 },
 "nbformat": 4,
 "nbformat_minor": 5
}
