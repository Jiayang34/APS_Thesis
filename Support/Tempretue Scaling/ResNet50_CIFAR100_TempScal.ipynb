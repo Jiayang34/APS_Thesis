{
 "cells": [
  {
   "cell_type": "code",
   "execution_count": 2,
   "id": "bfaf91e1-04ee-42b4-82f1-d09d87f2c4cd",
   "metadata": {},
   "outputs": [
    {
     "name": "stdout",
     "output_type": "stream",
     "text": [
      "Is CUDA available: True\n",
      "Device count: 1\n",
      "Device name: NVIDIA GeForce RTX 3060 Ti\n",
      "Files already downloaded and verified\n",
      "Files already downloaded and verified\n"
     ]
    }
   ],
   "source": [
    "import torch\n",
    "import torch.nn as nn\n",
    "import torchvision.models as models\n",
    "import torchvision.transforms as transforms               # include image preprocess tools\n",
    "from torchvision.datasets import CIFAR100        # for loading images from Pytorch CIFAR\n",
    "from torch.utils.data import DataLoader\n",
    "import detectors\n",
    "import timm\n",
    "\n",
    "\n",
    "# check GPU status\n",
    "print(\"Is CUDA available:\", torch.cuda.is_available())\n",
    "print(\"Device count:\", torch.cuda.device_count())\n",
    "print(\"Device name:\", torch.cuda.get_device_name(0) if torch.cuda.is_available() else \"No GPU\")\n",
    "\n",
    "# load pre-trained model InceptionV3 and set mode\n",
    "device = torch.device(\"cuda\" if torch.cuda.is_available() else \"cpu\")\n",
    "# load fine-tuned model\n",
    "model = timm.create_model(\"resnet50_cifar100\", pretrained=True)\n",
    "model = model.to(device)\n",
    "model.eval()\n",
    "\n",
    "data_transform = transforms.Compose([\n",
    "    transforms.ToTensor(),          # transfer to tensor\n",
    "    transforms.Normalize((0.5071, 0.4865, 0.4409), (0.2673, 0.2564, 0.2762))  # normalize\n",
    "])\n",
    "\n",
    "# load data set for training\n",
    "pre_train_dataset = CIFAR100(root=\"../../data\", train=True, download=True,transform=data_transform)\n",
    "pre_test_dataset = CIFAR100(root=\"../../data\", train=True, download=True, transform=data_transform)\n",
    "\n",
    "train_loader = DataLoader(pre_train_dataset, batch_size=32, shuffle=True)\n",
    "test_loader = DataLoader(pre_test_dataset, batch_size=32, shuffle=False)"
   ]
  },
  {
   "cell_type": "code",
   "execution_count": 3,
   "id": "df10398d-637d-45e8-902c-4c3f4273bc5d",
   "metadata": {},
   "outputs": [
    {
     "data": {
      "image/png": "[encoded data removed]",
      "text/plain": [
       "<Figure size 1000x400 with 1 Axes>"
      ]
     },
     "metadata": {},
     "output_type": "display_data"
    }
   ],
   "source": [
    "import matplotlib.pyplot as plt\n",
    "import torch.nn.functional as F\n",
    "\n",
    "test_iter = iter(test_loader)\n",
    "image, label = next(test_iter)\n",
    "image, label = image[10].to(device), label[10].item()\n",
    "model.eval()\n",
    "\n",
    "with torch.no_grad():\n",
    "    logits = model(image.unsqueeze(0))  \n",
    "    probabilities = F.softmax(logits, dim=1).cpu().numpy().flatten() \n",
    "\n",
    "num_classes = 100\n",
    "\n",
    "plt.figure(figsize=(10, 4))\n",
    "plt.bar(range(num_classes), probabilities, color='blue')\n",
    "plt.xlabel(\"Classes\")\n",
    "plt.ylabel(\"Probability\")\n",
    "plt.title(f\"ResNet50 (without TempScal) - True Label: {label}\")\n",
    "plt.ylim(0, 1)\n",
    "plt.xticks([]) \n",
    "plt.show()"
   ]
  },
  {
   "cell_type": "code",
   "execution_count": 4,
   "id": "29bd75e9-1c5f-4d52-8aab-d686f88ba6c7",
   "metadata": {},
   "outputs": [],
   "source": [
    "import torch\n",
    "from torch import nn, optim\n",
    "from torch.nn import functional as F\n",
    "\n",
    "class ModelWithTemperature(nn.Module):\n",
    "    \"\"\"\n",
    "    A thin decorator, which wraps a model with temperature scaling\n",
    "    model (nn.Module):\n",
    "        A classification neural network\n",
    "        NB: Output of the neural network should be the classification logits,\n",
    "            NOT the softmax (or log softmax)!\n",
    "    \"\"\"\n",
    "    def __init__(self, model,tempreture):\n",
    "        super(ModelWithTemperature, self).__init__()\n",
    "        self.model = model\n",
    "        self.tempreture = tempreture\n",
    "        self.temperature = nn.Parameter(torch.ones(1) * tempreture)\n",
    "\n",
    "    def forward(self, input):\n",
    "        logits = self.model(input)\n",
    "        return self.temperature_scale(logits)\n",
    "\n",
    "    def temperature_scale(self, logits):\n",
    "        \"\"\"\n",
    "        Perform temperature scaling on logits\n",
    "        \"\"\"\n",
    "        # Expand temperature to match the size of logits\n",
    "        temperature = self.temperature.unsqueeze(1).expand(logits.size(0), logits.size(1))\n",
    "        return logits / temperature\n",
    "\n",
    "    # This function probably should live outside of this class, but whatever\n",
    "    def set_temperature(self, valid_loader):\n",
    "        self.cuda()\n",
    "        nll_criterion = nn.CrossEntropyLoss().cuda()\n",
    "        ece_criterion = _ECELoss().cuda()\n",
    "\n",
    "        # First: collect all the logits and labels for the validation set\n",
    "        logits_list = []\n",
    "        labels_list = []\n",
    "        with torch.no_grad():\n",
    "            for input, label in valid_loader:\n",
    "                input = input.cuda()\n",
    "                logits = self.model(input)\n",
    "                logits_list.append(logits)\n",
    "                labels_list.append(label)\n",
    "            logits = torch.cat(logits_list).cuda()\n",
    "            labels = torch.cat(labels_list).cuda()\n",
    "\n",
    "        # Calculate NLL and ECE before temperature scaling\n",
    "        before_temperature_nll = nll_criterion(logits, labels).item()\n",
    "        before_temperature_ece = ece_criterion(logits, labels).item()\n",
    "        print('Before temperature - NLL: %.3f, ECE: %.3f' % (before_temperature_nll, before_temperature_ece))\n",
    "\n",
    "        # Next: optimize the temperature w.r.t. NLL\n",
    "        optimizer = optim.LBFGS([self.temperature], lr=0.01, max_iter=50)\n",
    "\n",
    "        def eval():\n",
    "            optimizer.zero_grad()\n",
    "            loss = nll_criterion(self.temperature_scale(logits), labels)\n",
    "            loss.backward()\n",
    "            return loss\n",
    "        optimizer.step(eval)\n",
    "\n",
    "        # Calculate NLL and ECE after temperature scaling\n",
    "        after_temperature_nll = nll_criterion(self.temperature_scale(logits), labels).item()\n",
    "        after_temperature_ece = ece_criterion(self.temperature_scale(logits), labels).item()\n",
    "        print('Optimal temperature: %.3f' % self.temperature.item())\n",
    "        print('After temperature - NLL: %.3f, ECE: %.3f' % (after_temperature_nll, after_temperature_ece))\n",
    "\n",
    "        return self\n",
    "\n",
    "\n",
    "class _ECELoss(nn.Module):\n",
    "    def __init__(self, n_bins=15):\n",
    "        \"\"\"\n",
    "        n_bins (int): number of confidence interval bins\n",
    "        \"\"\"\n",
    "        super(_ECELoss, self).__init__()\n",
    "        bin_boundaries = torch.linspace(0, 1, n_bins + 1)\n",
    "        self.bin_lowers = bin_boundaries[:-1]\n",
    "        self.bin_uppers = bin_boundaries[1:]\n",
    "\n",
    "    def forward(self, logits, labels):\n",
    "        softmaxes = F.softmax(logits, dim=1)\n",
    "        confidences, predictions = torch.max(softmaxes, 1)\n",
    "        accuracies = predictions.eq(labels)\n",
    "\n",
    "        ece = torch.zeros(1, device=logits.device)\n",
    "        for bin_lower, bin_upper in zip(self.bin_lowers, self.bin_uppers):\n",
    "            # Calculated |confidence - accuracy| in each bin\n",
    "            in_bin = confidences.gt(bin_lower.item()) * confidences.le(bin_upper.item())\n",
    "            prop_in_bin = in_bin.float().mean()\n",
    "            if prop_in_bin.item() > 0:\n",
    "                accuracy_in_bin = accuracies[in_bin].float().mean()\n",
    "                avg_confidence_in_bin = confidences[in_bin].mean()\n",
    "                ece += torch.abs(avg_confidence_in_bin - accuracy_in_bin) * prop_in_bin\n",
    "\n",
    "        return ece"
   ]
  },
  {
   "cell_type": "code",
   "execution_count": 8,
   "id": "fc7650e7-fba5-4a41-bbd4-322abe7787f2",
   "metadata": {},
   "outputs": [
    {
     "name": "stdout",
     "output_type": "stream",
     "text": [
      "Before temperature - NLL: 0.001, ECE: 0.001\n",
      "Optimal temperature: 4.766\n",
      "After temperature - NLL: 2.007, ECE: 0.862\n"
     ]
    },
    {
     "data": {
      "image/png": "[encoded data removed]",
      "text/plain": [
       "<Figure size 1000x400 with 1 Axes>"
      ]
     },
     "metadata": {},
     "output_type": "display_data"
    }
   ],
   "source": [
    "model_with_temp = ModelWithTemperature(model, tempreture = 5.0).to(device)\n",
    "model_with_temp.set_temperature(train_loader)\n",
    "\n",
    "model_with_temp.eval()\n",
    "with torch.no_grad():\n",
    "    logits = model_with_temp(image.unsqueeze(0)) \n",
    "    probabilities_temp = F.softmax(logits, dim=1).cpu().numpy().flatten() \n",
    "\n",
    "plt.figure(figsize=(10, 4))\n",
    "plt.bar(range(num_classes), probabilities_temp, color='orange')\n",
    "plt.xlabel(\"Classes\")\n",
    "plt.ylabel(\"Probability\")\n",
    "plt.title(f\"ResNet50 (After TempScal) - True Label: {label}\")\n",
    "plt.ylim(0, 1)\n",
    "plt.xticks([]) \n",
    "plt.show()"
   ]
  },
  {
   "cell_type": "code",
   "execution_count": null,
   "id": "bd696197-4234-4e53-bb8f-f7b46105f4f6",
   "metadata": {},
   "outputs": [],
   "source": []
  }
 ],
 "metadata": {
  "kernelspec": {
   "display_name": "Python (pytorch2)",
   "language": "python",
   "name": "pytorch2"
  },
  "language_info": {
   "codemirror_mode": {
    "name": "ipython",
    "version": 3
   },
   "file_extension": ".py",
   "mimetype": "text/x-python",
   "name": "python",
   "nbconvert_exporter": "python",
   "pygments_lexer": "ipython3",
   "version": "3.9.21"
  }
 },
 "nbformat": 4,
 "nbformat_minor": 5
}
