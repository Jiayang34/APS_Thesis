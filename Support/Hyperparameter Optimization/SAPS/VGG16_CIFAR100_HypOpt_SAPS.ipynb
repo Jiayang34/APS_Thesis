{
 "cells": [
  {
   "metadata": {},
   "cell_type": "markdown",
   "source": "# $\\alpha$=0.1",
   "id": "46d09f400e1f05e0"
  },
  {
   "metadata": {
    "ExecuteTime": {
     "end_time": "2025-03-23T23:31:05.024181Z",
     "start_time": "2025-03-23T23:30:29.862362Z"
    }
   },
   "cell_type": "code",
   "source": [
    "import torch\n",
    "import torchvision.transforms as transforms     \n",
    "from torchvision.datasets import CIFAR100       \n",
    "from torch.utils.data import DataLoader\n",
    "import detectors\n",
    "import timm\n",
    "from src.saps_hyp_opt import lambda_optimization_saps\n",
    "from src.temperature_scaling import ModelWithTemperature\n",
    "\n",
    "device = torch.device(\"cuda\" if torch.cuda.is_available() else \"cpu\")\n",
    "\n",
    "# load fine-tuned model\n",
    "model = timm.create_model(\"vgg16_bn_cifar100\", pretrained=True)\n",
    "model = model.to(device)\n",
    "\n",
    "# reprocess the images from CIFAR\n",
    "data_transform = transforms.Compose([\n",
    "    transforms.ToTensor(),          # transfer to tensor\n",
    "    transforms.Normalize((0.5071, 0.4865, 0.4409), (0.2673, 0.2564, 0.2762))  # normalize\n",
    "])\n",
    "# load images from CIFAR100\n",
    "dataset = CIFAR100(root=\"../../../data\", train=False, download=True, transform=data_transform)\n",
    "\n",
    "# temperature scaling\n",
    "temp_scal_loader = DataLoader(dataset, batch_size=32, shuffle=True)\n",
    "model = ModelWithTemperature(model, temperature=4.85).to(device)\n",
    "model.set_temperature(temp_scal_loader)\n",
    "\n",
    "model.eval()\n",
    "\n",
    "lambda_values = [0.01, 0.03, 0.05, 0.07, 0.1, 0.13, 0.17, 0.2, 0.25, 0.3] \n",
    "\n",
    "# lambda optimization\n",
    "print(\"Looking for optimal lambda...\")\n",
    "optimal_lambda = lambda_optimization_saps(model, dataset, lambda_values, device)\n",
    "if optimal_lambda is None:\n",
    "    print(\"No optimal lambda is found\")\n",
    "else:\n",
    "    print(f\"Optimal lambda is {optimal_lambda}\\n\")"
   ],
   "id": "initial_id",
   "outputs": [
    {
     "name": "stdout",
     "output_type": "stream",
     "text": [
      "Files already downloaded and verified\n",
      "Before temperature - NLL: 1.474, ECE: 0.155\n",
      "Optimal temperature: 4.690\n",
      "After temperature - NLL: 2.899, ECE: 0.617\n",
      "Looking for optimal lambda...\n",
      "Optimal lambda is 0.03\n",
      "\n"
     ]
    }
   ],
   "execution_count": 3
  },
  {
   "metadata": {},
   "cell_type": "markdown",
   "source": "# $\\alpha$=0.2",
   "id": "735c98f82fe16b43"
  },
  {
   "metadata": {
    "ExecuteTime": {
     "end_time": "2025-03-23T23:33:23.677020Z",
     "start_time": "2025-03-23T23:33:00.697875Z"
    }
   },
   "cell_type": "code",
   "source": [
    "lambda_values = [0, 0.05, 0.07, 0.1, 0.13, 0.17, 0.2, 0.25, 0.3]\n",
    "\n",
    "# lambda optimization\n",
    "print(\"Looking for optimal lambda...\")\n",
    "optimal_lambda = lambda_optimization_saps(model, dataset, lambda_values, device, alpha=0.2)\n",
    "if optimal_lambda is None:\n",
    "    print(\"No optimal lambda is found\")\n",
    "else:\n",
    "    print(f\"Optimal lambda is {optimal_lambda}\\n\")"
   ],
   "id": "1bda1813d412a57b",
   "outputs": [
    {
     "name": "stdout",
     "output_type": "stream",
     "text": [
      "Looking for optimal lambda...\n",
      "Optimal lambda is 0.07\n",
      "\n"
     ]
    }
   ],
   "execution_count": 6
  },
  {
   "metadata": {},
   "cell_type": "markdown",
   "source": "# $\\alpha$=0.05",
   "id": "d00c094482d4d3b2"
  },
  {
   "metadata": {
    "ExecuteTime": {
     "end_time": "2025-03-23T23:35:36.422759Z",
     "start_time": "2025-03-23T23:35:07.867050Z"
    }
   },
   "cell_type": "code",
   "source": [
    "lambda_values = [0, 0.05, 0.07, 0.1, 0.13, 0.15, 0.2, 0.25, 0.3] \n",
    "\n",
    "# lambda optimization\n",
    "print(\"Looking for optimal lambda...\")\n",
    "optimal_lambda = lambda_optimization_saps(model, dataset, lambda_values, device, alpha=0.2)\n",
    "if optimal_lambda is None:\n",
    "    print(\"No optimal lambda is found\")\n",
    "else:\n",
    "    print(f\"Optimal lambda is {optimal_lambda}\\n\")"
   ],
   "id": "7bbe5855466b96a0",
   "outputs": [
    {
     "name": "stdout",
     "output_type": "stream",
     "text": [
      "Looking for optimal lambda...\n",
      "Optimal lambda is 0.07\n",
      "\n"
     ]
    }
   ],
   "execution_count": 8
  },
  {
   "metadata": {},
   "cell_type": "code",
   "outputs": [],
   "execution_count": null,
   "source": "",
   "id": "bfddc89a253d86f9"
  }
 ],
 "metadata": {
  "kernelspec": {
   "display_name": "Python (pytorch2)",
   "language": "python",
   "name": "pytorch2"
  },
  "language_info": {
   "codemirror_mode": {
    "name": "ipython",
    "version": 2
   },
   "file_extension": ".py",
   "mimetype": "text/x-python",
   "name": "python",
   "nbconvert_exporter": "python",
   "pygments_lexer": "ipython2",
   "version": "2.7.6"
  }
 },
 "nbformat": 4,
 "nbformat_minor": 5
}
