{
 "cells": [
  {
   "cell_type": "code",
   "id": "initial_id",
   "metadata": {
    "collapsed": true,
    "ExecuteTime": {
     "end_time": "2025-03-18T00:27:41.964824Z",
     "start_time": "2025-03-18T00:24:56.927694Z"
    }
   },
   "source": [
    "import torch\n",
    "import torchvision.transforms as transforms              \n",
    "from torchvision.datasets import CIFAR100      \n",
    "from torch.utils.data import DataLoader\n",
    "from src.temperature_scaling import ModelWithTemperature\n",
    "from src.saps_hyp_opt import lambda_optimization_saps\n",
    "from src.inception_cifar100 import inceptionv3\n",
    "\n",
    "device = torch.device(\"cuda\" if torch.cuda.is_available() else \"cpu\")\n",
    "\n",
    "dict_path = \"C:\\\\Users\\\\jiayang\\\\ipynb\\\\trainedModel\\\\Inception_CIFAR100.pth\"\n",
    "model = inceptionv3()\n",
    "model.load_state_dict(torch.load(dict_path, map_location=device, weights_only=True))\n",
    "model.to(device)\n",
    "\n",
    "# preprocess the images from CIFAR10\n",
    "data_transform = transforms.Compose([\n",
    "    transforms.ToTensor(),         \n",
    "    transforms.Normalize((0.5071, 0.4865, 0.4409), (0.2673, 0.2564, 0.2762))  \n",
    "])\n",
    "\n",
    "# load data set from CIFAR100\n",
    "dataset = CIFAR100(root=\"../../../data\", train=False, download=True,transform=data_transform)\n",
    "\n",
    "\n",
    "model.eval()\n",
    "\n",
    "lambda_values = [0, 0.001, 0.01, 0.02, 0.03, 0.04, 0.05, 0.06, 0.07, 0.08, 0.09, 0.1]\n",
    "\n",
    "# lambda optimization\n",
    "print(\"Looking for optimal lambda...\")\n",
    "optimal_lambda = lambda_optimization_saps(model, dataset, lambda_values, device, alpha=0.05)\n",
    "if optimal_lambda is None:\n",
    "    print(\"No optimal lambda is found\")\n",
    "else:\n",
    "    print(f\"Optimal lambda is {optimal_lambda}\\n\")"
   ],
   "outputs": [
    {
     "name": "stdout",
     "output_type": "stream",
     "text": [
      "Files already downloaded and verified\n",
      "Looking for optimal lambda...\n",
      "Optimal lambda is 0.07\n",
      "\n"
     ]
    }
   ],
   "execution_count": 1
  },
  {
   "metadata": {},
   "cell_type": "code",
   "outputs": [],
   "execution_count": null,
   "source": "",
   "id": "9083c7b1d9cc2d51"
  }
 ],
 "metadata": {
  "kernelspec": {
   "display_name": "Python (pytorch2)",
   "language": "python",
   "name": "pytorch2"
  },
  "language_info": {
   "codemirror_mode": {
    "name": "ipython",
    "version": 2
   },
   "file_extension": ".py",
   "mimetype": "text/x-python",
   "name": "python",
   "nbconvert_exporter": "python",
   "pygments_lexer": "ipython2",
   "version": "2.7.6"
  }
 },
 "nbformat": 4,
 "nbformat_minor": 5
}
