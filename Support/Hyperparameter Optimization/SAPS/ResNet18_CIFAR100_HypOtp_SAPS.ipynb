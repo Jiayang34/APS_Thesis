{
 "cells": [
  {
   "cell_type": "code",
   "id": "initial_id",
   "metadata": {
    "collapsed": true,
    "ExecuteTime": {
     "end_time": "2025-03-21T00:40:08.108385Z",
     "start_time": "2025-03-21T00:39:05.937193Z"
    }
   },
   "source": [
    "import torch\n",
    "import torchvision.transforms as transforms     \n",
    "from torchvision.datasets import CIFAR100       \n",
    "from torch.utils.data import DataLoader\n",
    "import detectors\n",
    "import timm\n",
    "from src.saps_hyp_opt import lambda_optimization_saps\n",
    "from src.temperature_scaling import ModelWithTemperature\n",
    "\n",
    "device = torch.device(\"cuda\" if torch.cuda.is_available() else \"cpu\")\n",
    "\n",
    "# load fine-tuned model\n",
    "model = timm.create_model(\"resnet18_cifar100\", pretrained=True)\n",
    "model = model.to(device)\n",
    "\n",
    "# reprocess the images from CIFAR\n",
    "data_transform = transforms.Compose([\n",
    "    transforms.ToTensor(),          # transfer to tensor\n",
    "    transforms.Normalize((0.5071, 0.4865, 0.4409), (0.2673, 0.2564, 0.2762))  # normalize\n",
    "])\n",
    "# load images from CIFAR10\n",
    "dataset = CIFAR100(root=\"../../../data\", train=False, download=True, transform=data_transform)\n",
    "\n",
    "# temperature scaling\n",
    "temp_scal_loader = DataLoader(dataset, batch_size=32, shuffle=True)\n",
    "model = ModelWithTemperature(model, temperature=4.85).to(device)\n",
    "model.set_temperature(temp_scal_loader)\n",
    "\n",
    "model.eval()\n",
    "\n",
    "lambda_values = [0, 0.05, 0.1, 0.13, 0.17, 0.2, 0.25, 0.3]\n",
    "\n",
    "# lambda optimization\n",
    "print(\"Looking for optimal lambda...\")\n",
    "optimal_lambda = lambda_optimization_saps(model, dataset, lambda_values, device)\n",
    "if optimal_lambda is None:\n",
    "    print(\"No optimal lambda is found\")\n",
    "else:\n",
    "    print(f\"Optimal lambda is {optimal_lambda}\\n\")"
   ],
   "outputs": [
    {
     "name": "stderr",
     "output_type": "stream",
     "text": [
      "C:\\Users\\jiayang\\anaconda3\\envs\\pytorch2\\lib\\site-packages\\tqdm\\auto.py:21: TqdmWarning: IProgress not found. Please update jupyter and ipywidgets. See https://ipywidgets.readthedocs.io/en/stable/user_install.html\n",
      "  from .autonotebook import tqdm as notebook_tqdm\n"
     ]
    },
    {
     "name": "stdout",
     "output_type": "stream",
     "text": [
      "Files already downloaded and verified\n",
      "Before temperature - NLL: 1.135, ECE: 0.048\n",
      "Optimal temperature: 4.704\n",
      "After temperature - NLL: 3.097, ECE: 0.662\n",
      "Looking for optimal lambda...\n",
      "Optimal lambda is 0.13\n",
      "\n"
     ]
    }
   ],
   "execution_count": 1
  },
  {
   "metadata": {},
   "cell_type": "code",
   "outputs": [],
   "execution_count": null,
   "source": "",
   "id": "fd8f8ce7238b3c69"
  }
 ],
 "metadata": {
  "kernelspec": {
   "display_name": "Python (pytorch2)",
   "language": "python",
   "name": "pytorch2"
  },
  "language_info": {
   "codemirror_mode": {
    "name": "ipython",
    "version": 2
   },
   "file_extension": ".py",
   "mimetype": "text/x-python",
   "name": "python",
   "nbconvert_exporter": "python",
   "pygments_lexer": "ipython2",
   "version": "2.7.6"
  }
 },
 "nbformat": 4,
 "nbformat_minor": 5
}
