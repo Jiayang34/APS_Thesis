{
 "cells": [
  {
   "cell_type": "code",
   "execution_count": 7,
   "id": "61314513-808f-4bf2-8a38-3b73a464c37b",
   "metadata": {},
   "outputs": [
    {
     "name": "stderr",
     "output_type": "stream",
     "text": [
      "C:\\Users\\jiayang\\anaconda3\\envs\\pytorch2\\lib\\site-packages\\tqdm\\auto.py:21: TqdmWarning: IProgress not found. Please update jupyter and ipywidgets. See https://ipywidgets.readthedocs.io/en/stable/user_install.html\n",
      "  from .autonotebook import tqdm as notebook_tqdm\n"
     ]
    },
    {
     "name": "stdout",
     "output_type": "stream",
     "text": [
      "Is CUDA available: True\n",
      "Device count: 1\n",
      "Device name: NVIDIA GeForce RTX 3060 Ti\n",
      "Files already downloaded and verified\n",
      "Before temperature - NLL: 0.357, ECE: 0.045\n",
      "Optimal temperature: 4.908\n",
      "After temperature - NLL: 0.829, ECE: 0.422\n",
      "Looking for optimal lambda...\n",
      "Optimal lambda is 2.0\n",
      "\n"
     ]
    }
   ],
   "source": [
    "import torch\n",
    "import torchvision.transforms as transforms               # include image preprocess tools\n",
    "from torchvision.datasets import CIFAR10        # for loading images from Pytorch CIFAR\n",
    "from torch.utils.data import DataLoader\n",
    "import detectors\n",
    "import timm\n",
    "from src.temperature_scaling import ModelWithTemperature\n",
    "from src.saps_hyp_opt import lambda_optimization_saps\n",
    "\n",
    "# check GPU status\n",
    "print(\"Is CUDA available:\", torch.cuda.is_available())\n",
    "print(\"Device count:\", torch.cuda.device_count())\n",
    "print(\"Device name:\", torch.cuda.get_device_name(0) if torch.cuda.is_available() else \"No GPU\")\n",
    "device = torch.device(\"cuda\" if torch.cuda.is_available() else \"cpu\")\n",
    "\n",
    "# load fine-tuned model\n",
    "model = timm.create_model(\"resnet50_cifar10\", pretrained=True)\n",
    "model = model.to(device)\n",
    "\n",
    "# reprocess the images from CIFAR\n",
    "data_transform = transforms.Compose([\n",
    "    transforms.ToTensor(),          # transfer to tensor\n",
    "    transforms.Normalize(mean=[0.4914, 0.4822, 0.4465], std=[0.2023, 0.1994, 0.2010])  # normalize\n",
    "])\n",
    "# load images from CIFAR10\n",
    "dataset = CIFAR10(root=\"./data\", train=False, download=True, transform=data_transform)\n",
    "\n",
    "# temperature scaling\n",
    "temp_scal_loader = DataLoader(dataset, batch_size=32, shuffle=True)\n",
    "model = ModelWithTemperature(model, temperature=5.0).to(device)\n",
    "model.set_temperature(temp_scal_loader)\n",
    "\n",
    "model.eval()\n",
    "\n",
    "lambda_values = [0, 1e-4, 1e-3, 0.01, 0.02, 0.05, 0.2, 0.5, 0.7, 1.0, 1.4, 2.0]\n",
    "\n",
    "# lambda optimization\n",
    "print(\"Looking for optimal lambda...\")\n",
    "optimal_lambda = lambda_optimization_saps(model, dataset, lambda_values, device=device)\n",
    "if optimal_lambda == None:\n",
    "    print(\"No optimal lambda is found\")\n",
    "else:\n",
    "    print(f\"Optimal lambda is {optimal_lambda}\\n\")"
   ]
  },
  {
   "metadata": {},
   "cell_type": "markdown",
   "source": [
    "# Result\n",
    "Optimal Lambda is **2.0**"
   ],
   "id": "c025c1f69fd23f0e"
  },
  {
   "metadata": {},
   "cell_type": "code",
   "outputs": [],
   "execution_count": null,
   "source": "",
   "id": "cc667b09b247038d"
  }
 ],
 "metadata": {
  "kernelspec": {
   "display_name": "Python (pytorch2)",
   "language": "python",
   "name": "pytorch2"
  },
  "language_info": {
   "codemirror_mode": {
    "name": "ipython",
    "version": 3
   },
   "file_extension": ".py",
   "mimetype": "text/x-python",
   "name": "python",
   "nbconvert_exporter": "python",
   "pygments_lexer": "ipython3",
   "version": "3.9.21"
  }
 },
 "nbformat": 4,
 "nbformat_minor": 5
}
