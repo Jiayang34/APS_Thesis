{
 "cells": [
  {
   "cell_type": "code",
   "id": "initial_id",
   "metadata": {
    "collapsed": true,
    "ExecuteTime": {
     "end_time": "2025-03-09T23:47:22.370105Z",
     "start_time": "2025-03-09T23:43:24.131590Z"
    }
   },
   "source": [
    "import torch\n",
    "import torchvision.transforms as transforms              \n",
    "from torchvision.datasets import CIFAR100      \n",
    "from torch.utils.data import DataLoader\n",
    "from src.temperature_scaling import ModelWithTemperature\n",
    "from src.raps_hyp_opt import lambda_optimization_raps, k_reg_optimization\n",
    "from src.inception_cifar100 import inceptionv3\n",
    "\n",
    "device = torch.device(\"cuda\" if torch.cuda.is_available() else \"cpu\")\n",
    "\n",
    "dict_path = \"C:\\\\Users\\\\jiayang\\\\ipynb\\\\trainedModel\\\\Inception_CIFAR100.pth\"\n",
    "model = inceptionv3()\n",
    "model.load_state_dict(torch.load(dict_path, map_location=device, weights_only=True))\n",
    "model.to(device)\n",
    "\n",
    "# preprocess the images from CIFAR10\n",
    "data_transform = transforms.Compose([\n",
    "    transforms.ToTensor(),         \n",
    "    transforms.Normalize((0.5071, 0.4865, 0.4409), (0.2673, 0.2564, 0.2762))  \n",
    "])\n",
    "\n",
    "# load data set from CIFAR100\n",
    "dataset = CIFAR100(root=\"../../../data\", train=False, download=True,transform=data_transform)\n",
    "\n",
    "# Temperature Scaling\n",
    "temp_scal_loader = DataLoader(dataset, batch_size=32, shuffle=True)\n",
    "model = ModelWithTemperature(model, temperature=0.5).to(device)\n",
    "model.set_temperature(temp_scal_loader)\n",
    "model.eval()\n",
    "\n",
    "lambda_values = [0, 1e-4, 1e-3, 0.01, 0.02, 0.05, 0.1, 0.2, 0.5, 0.7, 1.0]\n",
    "k_reg_values = [1, 2, 3, 5, 7, 9, 10]\n",
    "\n",
    "# lambda optimization\n",
    "print(\"Looking for optimal lambda...\")\n",
    "optimal_lambda = lambda_optimization_raps(model, dataset, lambda_values, k_reg = 5, device=device)\n",
    "if optimal_lambda is None:\n",
    "    print(\"No optimal lambda is found\")\n",
    "else:\n",
    "    print(f\"Optimal lambda is {optimal_lambda}\\n\")\n",
    "    \n",
    "    # k_reg optimization\n",
    "    print(\"Looking for optimal k_reg...\")\n",
    "    optimal_k = k_reg_optimization(model, dataset, optimal_lambda, k_reg_values, device=device)\n",
    "    \n",
    "    if optimal_k is None:\n",
    "        print(\"No optimal k_reg is found\")\n",
    "    else:\n",
    "        print(f\"Optimal k_reg is {optimal_k}\")"
   ],
   "outputs": [
    {
     "name": "stdout",
     "output_type": "stream",
     "text": [
      "Files already downloaded and verified\n",
      "Before temperature - NLL: 1.391, ECE: 0.118\n",
      "Optimal temperature: 0.633\n",
      "After temperature - NLL: 1.882, ECE: 0.200\n",
      "Looking for optimal lambda...\n",
      "Optimal lambda is 0.02\n",
      "\n",
      "Looking for optimal k_reg...\n",
      "Optimal k_reg is 7\n"
     ]
    }
   ],
   "execution_count": 1
  },
  {
   "metadata": {},
   "cell_type": "code",
   "outputs": [],
   "execution_count": null,
   "source": "",
   "id": "3031d41f848a67a3"
  }
 ],
 "metadata": {
  "kernelspec": {
   "display_name": "Python (pytorch2)",
   "language": "python",
   "name": "pytorch2"
  },
  "language_info": {
   "codemirror_mode": {
    "name": "ipython",
    "version": 2
   },
   "file_extension": ".py",
   "mimetype": "text/x-python",
   "name": "python",
   "nbconvert_exporter": "python",
   "pygments_lexer": "ipython2",
   "version": "2.7.6"
  }
 },
 "nbformat": 4,
 "nbformat_minor": 5
}
