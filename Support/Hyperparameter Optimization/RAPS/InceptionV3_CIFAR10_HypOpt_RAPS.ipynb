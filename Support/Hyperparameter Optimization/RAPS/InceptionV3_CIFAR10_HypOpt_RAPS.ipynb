{
 "cells": [
  {
   "cell_type": "code",
   "id": "initial_id",
   "metadata": {
    "collapsed": true,
    "ExecuteTime": {
     "end_time": "2025-03-09T01:01:39.097607Z",
     "start_time": "2025-03-09T00:57:26.340890Z"
    }
   },
   "source": [
    "import torch\n",
    "import torchvision.transforms as transforms              \n",
    "from torchvision.datasets import CIFAR10      \n",
    "from torch.utils.data import DataLoader\n",
    "from src.temperature_scaling import ModelWithTemperature\n",
    "from src.raps_hyp_opt import lambda_optimization_raps, k_reg_optimization\n",
    "from src.inception import inception_v3\n",
    "\n",
    "device = torch.device(\"cuda\" if torch.cuda.is_available() else \"cpu\")\n",
    "\n",
    "dict_path = \"C:\\\\Users\\\\jiayang\\\\ipynb\\\\trainedModel\\\\Inception_CIFAR10.pth\"\n",
    "model = inception_v3(pretrained=True, dict_path=dict_path).to(device)\n",
    "\n",
    "# preprocess the images from CIFAR10\n",
    "data_transform = transforms.Compose([\n",
    "    transforms.ToTensor(),       \n",
    "    transforms.Normalize((0.4914, 0.4822, 0.4465), (0.2023, 0.1994, 0.2010))  \n",
    "])\n",
    "\n",
    "# load images from CIFAR10\n",
    "dataset = CIFAR10(root=\"../../../data\", train=False, download=True, transform=data_transform)\n",
    "\n",
    "# Temperature Scaling\n",
    "temp_scal_loader = DataLoader(dataset, batch_size=32, shuffle=True)\n",
    "model = ModelWithTemperature(model, temperature=5.2).to(device)\n",
    "model.set_temperature(temp_scal_loader)\n",
    "model.eval()\n",
    "\n",
    "model.eval()\n",
    "\n",
    "lambda_values = [0, 1e-3, 0.01, 0.05, 0.1, 0.2, 0.3, 0.4, 0.5, 0.7, 1.0]\n",
    "k_reg_values = [1, 2, 3, 4, 5, 7, 9]\n",
    "\n",
    "# lambda optimization\n",
    "print(\"Looking for optimal lambda...\")\n",
    "optimal_lambda = lambda_optimization_raps(model, dataset, lambda_values, k_reg = 4, device=device)\n",
    "if optimal_lambda is None:\n",
    "    print(\"No optimal lambda is found\")\n",
    "else:\n",
    "    print(f\"Optimal lambda is {optimal_lambda}\\n\")\n",
    "    \n",
    "    # k_reg optimization\n",
    "    print(\"Looking for optimal k_reg...\")\n",
    "    optimal_k = k_reg_optimization(model, dataset, optimal_lambda, k_reg_values, device=device)\n",
    "    \n",
    "    if optimal_k is None:\n",
    "        print(\"No optimal k_reg is found\")\n",
    "    else:\n",
    "        print(f\"Optimal k_reg is {optimal_k}\")"
   ],
   "outputs": [
    {
     "name": "stdout",
     "output_type": "stream",
     "text": [
      "Loading weights from: C:\\Users\\jiayang\\ipynb\\trainedModel\\Inception_CIFAR10.pth\n",
      "Files already downloaded and verified\n",
      "Before temperature - NLL: 0.427, ECE: 0.055\n",
      "Optimal temperature: 5.128\n",
      "After temperature - NLL: 0.769, ECE: 0.341\n",
      "Looking for optimal lambda...\n",
      "Optimal lambda is 0.2\n",
      "\n",
      "Looking for optimal k_reg...\n",
      "Optimal k_reg is 2\n"
     ]
    }
   ],
   "execution_count": 1
  },
  {
   "metadata": {},
   "cell_type": "markdown",
   "source": [
    "# Result\n",
    "\n",
    "- Optimal Lambda: 0.2\n",
    "- Optimal k_reg: 2"
   ],
   "id": "4d267c295a477f75"
  },
  {
   "metadata": {},
   "cell_type": "code",
   "outputs": [],
   "execution_count": null,
   "source": "",
   "id": "77a5e67b5e1fa808"
  }
 ],
 "metadata": {
  "kernelspec": {
   "display_name": "Python (pytorch2)",
   "language": "python",
   "name": "pytorch2"
  },
  "language_info": {
   "codemirror_mode": {
    "name": "ipython",
    "version": 2
   },
   "file_extension": ".py",
   "mimetype": "text/x-python",
   "name": "python",
   "nbconvert_exporter": "python",
   "pygments_lexer": "ipython2",
   "version": "2.7.6"
  }
 },
 "nbformat": 4,
 "nbformat_minor": 5
}
