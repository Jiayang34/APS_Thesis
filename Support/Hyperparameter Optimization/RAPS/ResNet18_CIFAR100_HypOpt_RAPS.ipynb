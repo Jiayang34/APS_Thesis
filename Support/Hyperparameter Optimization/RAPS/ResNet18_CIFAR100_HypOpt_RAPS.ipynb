{
 "cells": [
  {
   "metadata": {
    "ExecuteTime": {
     "end_time": "2025-06-06T23:06:05.949638Z",
     "start_time": "2025-06-06T23:05:53.403422Z"
    }
   },
   "cell_type": "code",
   "source": [
    "import torch\n",
    "import torchvision.transforms as transforms               # include image preprocess tools\n",
    "from torchvision.datasets import CIFAR100        # for loading images from Pytorch CIFAR\n",
    "from torch.utils.data import DataLoader\n",
    "import detectors\n",
    "import timm\n",
    "from src.temperature_scaling import ModelWithTemperature\n",
    "from src.raps_hyp_opt import lambda_optimization_raps, k_reg_optimization\n",
    "\n",
    "# check GPU status\n",
    "print(\"Is CUDA available:\", torch.cuda.is_available())\n",
    "print(\"Device count:\", torch.cuda.device_count())\n",
    "print(\"Device name:\", torch.cuda.get_device_name(0) if torch.cuda.is_available() else \"No GPU\")\n",
    "device = torch.device(\"cuda\" if torch.cuda.is_available() else \"cpu\")\n",
    "\n",
    "# load fine-tuned model\n",
    "model = timm.create_model(\"resnet18_cifar100\", pretrained=True)\n",
    "model = model.to(device)\n",
    "\n",
    "# reprocess the images from CIFAR\n",
    "data_transform = transforms.Compose([\n",
    "    transforms.ToTensor(),          # transfer to tensor\n",
    "    transforms.Normalize((0.5071, 0.4865, 0.4409), (0.2673, 0.2564, 0.2762))  # normalize\n",
    "])\n",
    "# load images from CIFAR10\n",
    "dataset = CIFAR100(root=\"../../../data\", train=False, download=True, transform=data_transform)\n",
    "\n",
    "# tempreture scaling\n",
    "temp_scal_loader = DataLoader(dataset, batch_size=32, shuffle=True)\n",
    "model = ModelWithTemperature(model, temperature = 4.85).to(device)\n",
    "model.set_temperature(temp_scal_loader)\n",
    "\n",
    "model.eval()"
   ],
   "id": "7b3bc739caad2c36",
   "outputs": [
    {
     "name": "stderr",
     "output_type": "stream",
     "text": [
      "C:\\Users\\jiayang\\anaconda3\\envs\\pytorch2\\lib\\site-packages\\tqdm\\auto.py:21: TqdmWarning: IProgress not found. Please update jupyter and ipywidgets. See https://ipywidgets.readthedocs.io/en/stable/user_install.html\n",
      "  from .autonotebook import tqdm as notebook_tqdm\n"
     ]
    },
    {
     "name": "stdout",
     "output_type": "stream",
     "text": [
      "Is CUDA available: True\n",
      "Device count: 1\n",
      "Device name: NVIDIA GeForce RTX 3060 Ti\n",
      "Files already downloaded and verified\n",
      "Before temperature - NLL: 1.126, ECE: 0.050\n",
      "Optimal temperature: 4.704\n",
      "After temperature - NLL: 3.091, ECE: 0.662\n"
     ]
    },
    {
     "data": {
      "text/plain": [
       "ModelWithTemperature(\n",
       "  (model): ResNet(\n",
       "    (conv1): Conv2d(3, 64, kernel_size=(3, 3), stride=(1, 1), padding=(1, 1), bias=False)\n",
       "    (bn1): BatchNorm2d(64, eps=1e-05, momentum=0.1, affine=True, track_running_stats=True)\n",
       "    (act1): ReLU(inplace=True)\n",
       "    (maxpool): Identity()\n",
       "    (layer1): Sequential(\n",
       "      (0): BasicBlock(\n",
       "        (conv1): Conv2d(64, 64, kernel_size=(3, 3), stride=(1, 1), padding=(1, 1), bias=False)\n",
       "        (bn1): BatchNorm2d(64, eps=1e-05, momentum=0.1, affine=True, track_running_stats=True)\n",
       "        (drop_block): Identity()\n",
       "        (act1): ReLU(inplace=True)\n",
       "        (aa): Identity()\n",
       "        (conv2): Conv2d(64, 64, kernel_size=(3, 3), stride=(1, 1), padding=(1, 1), bias=False)\n",
       "        (bn2): BatchNorm2d(64, eps=1e-05, momentum=0.1, affine=True, track_running_stats=True)\n",
       "        (act2): ReLU(inplace=True)\n",
       "      )\n",
       "      (1): BasicBlock(\n",
       "        (conv1): Conv2d(64, 64, kernel_size=(3, 3), stride=(1, 1), padding=(1, 1), bias=False)\n",
       "        (bn1): BatchNorm2d(64, eps=1e-05, momentum=0.1, affine=True, track_running_stats=True)\n",
       "        (drop_block): Identity()\n",
       "        (act1): ReLU(inplace=True)\n",
       "        (aa): Identity()\n",
       "        (conv2): Conv2d(64, 64, kernel_size=(3, 3), stride=(1, 1), padding=(1, 1), bias=False)\n",
       "        (bn2): BatchNorm2d(64, eps=1e-05, momentum=0.1, affine=True, track_running_stats=True)\n",
       "        (act2): ReLU(inplace=True)\n",
       "      )\n",
       "    )\n",
       "    (layer2): Sequential(\n",
       "      (0): BasicBlock(\n",
       "        (conv1): Conv2d(64, 128, kernel_size=(3, 3), stride=(2, 2), padding=(1, 1), bias=False)\n",
       "        (bn1): BatchNorm2d(128, eps=1e-05, momentum=0.1, affine=True, track_running_stats=True)\n",
       "        (drop_block): Identity()\n",
       "        (act1): ReLU(inplace=True)\n",
       "        (aa): Identity()\n",
       "        (conv2): Conv2d(128, 128, kernel_size=(3, 3), stride=(1, 1), padding=(1, 1), bias=False)\n",
       "        (bn2): BatchNorm2d(128, eps=1e-05, momentum=0.1, affine=True, track_running_stats=True)\n",
       "        (act2): ReLU(inplace=True)\n",
       "        (downsample): Sequential(\n",
       "          (0): Conv2d(64, 128, kernel_size=(1, 1), stride=(2, 2), bias=False)\n",
       "          (1): BatchNorm2d(128, eps=1e-05, momentum=0.1, affine=True, track_running_stats=True)\n",
       "        )\n",
       "      )\n",
       "      (1): BasicBlock(\n",
       "        (conv1): Conv2d(128, 128, kernel_size=(3, 3), stride=(1, 1), padding=(1, 1), bias=False)\n",
       "        (bn1): BatchNorm2d(128, eps=1e-05, momentum=0.1, affine=True, track_running_stats=True)\n",
       "        (drop_block): Identity()\n",
       "        (act1): ReLU(inplace=True)\n",
       "        (aa): Identity()\n",
       "        (conv2): Conv2d(128, 128, kernel_size=(3, 3), stride=(1, 1), padding=(1, 1), bias=False)\n",
       "        (bn2): BatchNorm2d(128, eps=1e-05, momentum=0.1, affine=True, track_running_stats=True)\n",
       "        (act2): ReLU(inplace=True)\n",
       "      )\n",
       "    )\n",
       "    (layer3): Sequential(\n",
       "      (0): BasicBlock(\n",
       "        (conv1): Conv2d(128, 256, kernel_size=(3, 3), stride=(2, 2), padding=(1, 1), bias=False)\n",
       "        (bn1): BatchNorm2d(256, eps=1e-05, momentum=0.1, affine=True, track_running_stats=True)\n",
       "        (drop_block): Identity()\n",
       "        (act1): ReLU(inplace=True)\n",
       "        (aa): Identity()\n",
       "        (conv2): Conv2d(256, 256, kernel_size=(3, 3), stride=(1, 1), padding=(1, 1), bias=False)\n",
       "        (bn2): BatchNorm2d(256, eps=1e-05, momentum=0.1, affine=True, track_running_stats=True)\n",
       "        (act2): ReLU(inplace=True)\n",
       "        (downsample): Sequential(\n",
       "          (0): Conv2d(128, 256, kernel_size=(1, 1), stride=(2, 2), bias=False)\n",
       "          (1): BatchNorm2d(256, eps=1e-05, momentum=0.1, affine=True, track_running_stats=True)\n",
       "        )\n",
       "      )\n",
       "      (1): BasicBlock(\n",
       "        (conv1): Conv2d(256, 256, kernel_size=(3, 3), stride=(1, 1), padding=(1, 1), bias=False)\n",
       "        (bn1): BatchNorm2d(256, eps=1e-05, momentum=0.1, affine=True, track_running_stats=True)\n",
       "        (drop_block): Identity()\n",
       "        (act1): ReLU(inplace=True)\n",
       "        (aa): Identity()\n",
       "        (conv2): Conv2d(256, 256, kernel_size=(3, 3), stride=(1, 1), padding=(1, 1), bias=False)\n",
       "        (bn2): BatchNorm2d(256, eps=1e-05, momentum=0.1, affine=True, track_running_stats=True)\n",
       "        (act2): ReLU(inplace=True)\n",
       "      )\n",
       "    )\n",
       "    (layer4): Sequential(\n",
       "      (0): BasicBlock(\n",
       "        (conv1): Conv2d(256, 512, kernel_size=(3, 3), stride=(2, 2), padding=(1, 1), bias=False)\n",
       "        (bn1): BatchNorm2d(512, eps=1e-05, momentum=0.1, affine=True, track_running_stats=True)\n",
       "        (drop_block): Identity()\n",
       "        (act1): ReLU(inplace=True)\n",
       "        (aa): Identity()\n",
       "        (conv2): Conv2d(512, 512, kernel_size=(3, 3), stride=(1, 1), padding=(1, 1), bias=False)\n",
       "        (bn2): BatchNorm2d(512, eps=1e-05, momentum=0.1, affine=True, track_running_stats=True)\n",
       "        (act2): ReLU(inplace=True)\n",
       "        (downsample): Sequential(\n",
       "          (0): Conv2d(256, 512, kernel_size=(1, 1), stride=(2, 2), bias=False)\n",
       "          (1): BatchNorm2d(512, eps=1e-05, momentum=0.1, affine=True, track_running_stats=True)\n",
       "        )\n",
       "      )\n",
       "      (1): BasicBlock(\n",
       "        (conv1): Conv2d(512, 512, kernel_size=(3, 3), stride=(1, 1), padding=(1, 1), bias=False)\n",
       "        (bn1): BatchNorm2d(512, eps=1e-05, momentum=0.1, affine=True, track_running_stats=True)\n",
       "        (drop_block): Identity()\n",
       "        (act1): ReLU(inplace=True)\n",
       "        (aa): Identity()\n",
       "        (conv2): Conv2d(512, 512, kernel_size=(3, 3), stride=(1, 1), padding=(1, 1), bias=False)\n",
       "        (bn2): BatchNorm2d(512, eps=1e-05, momentum=0.1, affine=True, track_running_stats=True)\n",
       "        (act2): ReLU(inplace=True)\n",
       "      )\n",
       "    )\n",
       "    (global_pool): SelectAdaptivePool2d(pool_type=avg, flatten=Flatten(start_dim=1, end_dim=-1))\n",
       "    (fc): Linear(in_features=512, out_features=100, bias=True)\n",
       "  )\n",
       ")"
      ]
     },
     "execution_count": 1,
     "metadata": {},
     "output_type": "execute_result"
    }
   ],
   "execution_count": 1
  },
  {
   "metadata": {},
   "cell_type": "markdown",
   "source": "# $\\alpha$=0.1",
   "id": "e73e5258e3928f60"
  },
  {
   "metadata": {},
   "cell_type": "code",
   "outputs": [
    {
     "name": "stdout",
     "output_type": "stream",
     "text": [
      "Is CUDA available: True\n",
      "Device count: 1\n",
      "Device name: NVIDIA GeForce RTX 3060 Ti\n",
      "Files already downloaded and verified\n",
      "Before temperature - NLL: 1.131, ECE: 0.050\n",
      "Optimal temperature: 4.704\n",
      "After temperature - NLL: 3.096, ECE: 0.663\n",
      "Looking for optimal lambda...\n",
      "Optimal lambda is 0.5\n",
      "\n",
      "Looking for optimal k_reg...\n",
      "Optimal k_reg is 2\n"
     ]
    }
   ],
   "execution_count": 2,
   "source": [
    "lambda_values = [0, 1e-4, 1e-3, 0.01, 0.02, 0.05, 0.1, 0.2, 0.5, 0.7, 1.0]\n",
    "k_reg_values = [1, 2, 3, 5, 7, 9, 10]\n",
    "\n",
    "# lambda optimization\n",
    "print(\"Looking for optimal lambda...\")\n",
    "optimal_lambda = lambda_optimization_raps(model, dataset, lambda_values, k_reg = 5, device=device)\n",
    "if optimal_lambda is None:\n",
    "    print(\"No optimal lambda is found\")\n",
    "else:\n",
    "    print(f\"Optimal lambda is {optimal_lambda}\\n\")\n",
    "    \n",
    "    # k_reg optimization\n",
    "    print(\"Looking for optimal k_reg...\")\n",
    "    optimal_k = k_reg_optimization(model, dataset, optimal_lambda, k_reg_values, device=device)\n",
    "    \n",
    "    if optimal_k is None:\n",
    "        print(\"No optimal k_reg is found\")\n",
    "    else:\n",
    "        print(f\"Optimal k_reg is {optimal_k}\")"
   ],
   "id": "initial_id"
  },
  {
   "metadata": {},
   "cell_type": "markdown",
   "source": "# $\\alpha$=0.05",
   "id": "c25ff63c6fa125a"
  },
  {
   "metadata": {
    "ExecuteTime": {
     "end_time": "2025-06-06T23:06:50.837778Z",
     "start_time": "2025-06-06T23:06:37.678961Z"
    }
   },
   "cell_type": "code",
   "source": [
    "lambda_values = [0.1, 0.15, 0.2, 0.25, 0.3, 0.33, 0.35, 0.5]\n",
    "k_reg_values = [1, 2, 3, 4, 5, 6, 7, 8]\n",
    "\n",
    "# lambda optimization\n",
    "print(\"Looking for optimal lambda...\")\n",
    "optimal_lambda = lambda_optimization_raps(model, dataset, lambda_values, k_reg = 4, device=device, alpha=0.05)\n",
    "if optimal_lambda is None:\n",
    "    print(\"No optimal lambda is found\")\n",
    "else:\n",
    "    print(f\"Optimal lambda is {optimal_lambda}\\n\")\n",
    "    \n",
    "    # k_reg optimization\n",
    "    print(\"Looking for optimal k_reg...\")\n",
    "    optimal_k = k_reg_optimization(model, dataset, optimal_lambda, k_reg_values, device=device, alpha=0.05)\n",
    "    \n",
    "    if optimal_k is None:\n",
    "        print(\"No optimal k_reg is found\")\n",
    "    else:\n",
    "        print(f\"Optimal k_reg is {optimal_k}\")"
   ],
   "id": "9eb31206118b6b1e",
   "outputs": [
    {
     "name": "stdout",
     "output_type": "stream",
     "text": [
      "Looking for optimal lambda...\n",
      "Optimal lambda is 0.3\n",
      "\n",
      "Looking for optimal k_reg...\n",
      "Optimal k_reg is 3\n"
     ]
    }
   ],
   "execution_count": 2
  },
  {
   "metadata": {
    "ExecuteTime": {
     "end_time": "2025-06-06T23:07:59.094738Z",
     "start_time": "2025-06-06T23:07:45.853096Z"
    }
   },
   "cell_type": "code",
   "source": [
    "lambda_values = [0.1, 0.15, 0.2, 0.25, 0.3, 0.33, 0.35, 0.5]\n",
    "k_reg_values = [1, 2, 3, 4, 5, 6, 7, 8]\n",
    "\n",
    "# lambda optimization\n",
    "print(\"Looking for optimal lambda...\")\n",
    "optimal_lambda = lambda_optimization_raps(model, dataset, lambda_values, k_reg = 4, device=device, alpha=0.2)\n",
    "if optimal_lambda is None:\n",
    "    print(\"No optimal lambda is found\")\n",
    "else:\n",
    "    print(f\"Optimal lambda is {optimal_lambda}\\n\")\n",
    "    \n",
    "    # k_reg optimization\n",
    "    print(\"Looking for optimal k_reg...\")\n",
    "    optimal_k = k_reg_optimization(model, dataset, optimal_lambda, k_reg_values, device=device, alpha=0.2)\n",
    "    \n",
    "    if optimal_k is None:\n",
    "        print(\"No optimal k_reg is found\")\n",
    "    else:\n",
    "        print(f\"Optimal k_reg is {optimal_k}\")"
   ],
   "id": "69148b99b731dddc",
   "outputs": [
    {
     "name": "stdout",
     "output_type": "stream",
     "text": [
      "Looking for optimal lambda...\n",
      "Optimal lambda is 0.3\n",
      "\n",
      "Looking for optimal k_reg...\n",
      "Optimal k_reg is 2\n"
     ]
    }
   ],
   "execution_count": 3
  },
  {
   "metadata": {},
   "cell_type": "code",
   "outputs": [],
   "execution_count": null,
   "source": "",
   "id": "92312cbc19a37a7d"
  }
 ],
 "metadata": {
  "kernelspec": {
   "display_name": "Python (pytorch2)",
   "language": "python",
   "name": "pytorch2"
  },
  "language_info": {
   "codemirror_mode": {
    "name": "ipython",
    "version": 2
   },
   "file_extension": ".py",
   "mimetype": "text/x-python",
   "name": "python",
   "nbconvert_exporter": "python",
   "pygments_lexer": "ipython2",
   "version": "2.7.6"
  }
 },
 "nbformat": 4,
 "nbformat_minor": 5
}
