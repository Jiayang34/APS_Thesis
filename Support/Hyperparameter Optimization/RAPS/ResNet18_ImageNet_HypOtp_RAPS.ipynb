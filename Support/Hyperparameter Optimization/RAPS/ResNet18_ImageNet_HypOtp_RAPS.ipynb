{
 "cells": [
  {
   "cell_type": "code",
   "id": "initial_id",
   "metadata": {
    "collapsed": true,
    "ExecuteTime": {
     "end_time": "2025-03-21T18:42:49.775995Z",
     "start_time": "2025-03-21T18:40:52.414421Z"
    }
   },
   "source": [
    "import torch\n",
    "import torchvision.models as models\n",
    "from torchvision.datasets import ImageFolder\n",
    "from torchvision.models import ResNet18_Weights\n",
    "import numpy as np\n",
    "import torchvision.transforms as transforms        \n",
    "from torch.utils.data import DataLoader\n",
    "from torch.utils.data import Subset\n",
    "from src.temperature_scaling import ModelWithTemperature\n",
    "from src.raps_hyp_opt import lambda_optimization_raps, k_reg_optimization\n",
    "\n",
    "#  Reprocess\n",
    "data_transform = transforms.Compose([\n",
    "    transforms.Resize(256),\n",
    "    transforms.CenterCrop(224),\n",
    "    transforms.ToTensor(),\n",
    "    transforms.Normalize(mean=[0.485, 0.456, 0.406], std=[0.229, 0.224, 0.225]) \n",
    "])\n",
    "\n",
    "sorted_val_path = \"D:\\\\Download\\\\ImageNet-1K\\\\Validation_Set\\\\sorted_ImageNet_val\"\n",
    "dataset = ImageFolder(root=sorted_val_path, transform=data_transform)\n",
    "\n",
    "# load pre-trained model \n",
    "device = torch.device(\"cuda\" if torch.cuda.is_available() else \"cpu\")\n",
    "model = models.resnet18(weights=ResNet18_Weights.IMAGENET1K_V1).to(device)\n",
    "\n",
    "subset_size = len(dataset) // 10\n",
    "indices = np.random.choice(len(dataset), subset_size, replace=False)\n",
    "subset_dataset = Subset(dataset, indices)\n",
    "train_loader = DataLoader(subset_dataset, batch_size=32, shuffle=False, num_workers=2)\n",
    "model = ModelWithTemperature(model, temperature = 1.0).to(device)\n",
    "model.set_temperature(train_loader)\n",
    "\n",
    "model.eval()\n",
    "\n",
    "lambda_values = [0, 1e-4, 1e-3, 0.01, 0.02, 0.05, 0.1, 0.2, 0.5, 1.0] \n",
    "k_reg_values = [1, 2, 3, 4, 5, 6, 8, 10, 50] \n",
    "\n",
    "# lambda optimization\n",
    "print(\"Looking for optimal lambda...\")\n",
    "optimal_lambda = lambda_optimization_raps(model, dataset, lambda_values, k_reg = 5, device=device)\n",
    "if optimal_lambda is None:\n",
    "    print(\"No optimal lambda is found\")\n",
    "else:\n",
    "    print(f\"Optimal lambda is {optimal_lambda}\\n\")\n",
    "    \n",
    "    # k_reg optimization\n",
    "    print(\"Looking for optimal k_reg...\")\n",
    "    optimal_k = k_reg_optimization(model, dataset, optimal_lambda, k_reg_values, device=device)\n",
    "    \n",
    "    if optimal_k is None:\n",
    "        print(\"No optimal k_reg is found\")\n",
    "    else:\n",
    "        print(f\"Optimal k_reg is {optimal_k}\")"
   ],
   "outputs": [
    {
     "name": "stdout",
     "output_type": "stream",
     "text": [
      "Before temperature - NLL: 1.320, ECE: 0.026\n",
      "Optimal temperature: 0.988\n",
      "After temperature - NLL: 1.319, ECE: 0.023\n",
      "Looking for optimal lambda...\n",
      "Optimal lambda is 0.1\n",
      "\n",
      "Looking for optimal k_reg...\n",
      "Optimal k_reg is 6\n"
     ]
    }
   ],
   "execution_count": 1
  },
  {
   "metadata": {},
   "cell_type": "code",
   "outputs": [],
   "execution_count": null,
   "source": "",
   "id": "d47f1071f1a6a803"
  }
 ],
 "metadata": {
  "kernelspec": {
   "display_name": "Python (pytorch2)",
   "language": "python",
   "name": "pytorch2"
  },
  "language_info": {
   "codemirror_mode": {
    "name": "ipython",
    "version": 2
   },
   "file_extension": ".py",
   "mimetype": "text/x-python",
   "name": "python",
   "nbconvert_exporter": "python",
   "pygments_lexer": "ipython2",
   "version": "2.7.6"
  }
 },
 "nbformat": 4,
 "nbformat_minor": 5
}
