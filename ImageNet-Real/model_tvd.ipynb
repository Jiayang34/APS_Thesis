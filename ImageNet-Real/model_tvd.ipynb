{
 "cells": [
  {
   "cell_type": "code",
   "id": "initial_id",
   "metadata": {
    "collapsed": true,
    "ExecuteTime": {
     "end_time": "2025-05-02T03:55:12.502375Z",
     "start_time": "2025-05-02T03:55:03.925425Z"
    }
   },
   "source": [
    "import torch\n",
    "import torchvision.transforms as transforms              \n",
    "from torchvision.datasets import ImageFolder\n",
    "import torchvision.models as models\n",
    "from torchvision.models import Inception_V3_Weights\n",
    "from torch.utils.data import DataLoader\n",
    "import numpy as np\n",
    "from torch.utils.data import Subset\n",
    "from src import ModelWithTemperature, Dataset_and_Probs, check_tvd_imagenet\n",
    "\n",
    "data_transform = transforms.Compose([\n",
    "    transforms.CenterCrop(299),\n",
    "    transforms.Resize(299), \n",
    "    transforms.ToTensor(),\n",
    "    transforms.Normalize(mean=[0.485, 0.456, 0.406], std=[0.229, 0.224, 0.225]) \n",
    "])\n",
    "sorted_val_path = \"D:\\\\Download\\\\ImageNet-1K\\\\Validation_Set\\\\sorted_ImageNet_val\"\n",
    "dataset = ImageFolder(root=sorted_val_path, transform=data_transform)\n",
    "subset_size = len(dataset) // 10\n",
    "indices = np.random.choice(len(dataset), subset_size, replace=False)\n",
    "subset_dataset = Subset(dataset, indices)\n",
    "temp_scal_loader = DataLoader(subset_dataset, batch_size=32, shuffle=True)\n",
    "\n",
    "# load real probability\n",
    "npy_path = \"C:\\\\Users\\\\jiayang\\\\ipynb\\\\APS_Thesis\\\\data\\\\imagenet_count_normalize.npy\"\n",
    "real_probs = np.load(npy_path)\n",
    "tvd_dataset = Dataset_and_Probs(dataset, real_probs)\n",
    "tvd_loader = DataLoader(tvd_dataset, batch_size=32, shuffle=True, num_workers=4)\n",
    "\n",
    "device = torch.device(\"cuda\" if torch.cuda.is_available() else \"cpu\")"
   ],
   "outputs": [],
   "execution_count": 1
  },
  {
   "metadata": {},
   "cell_type": "markdown",
   "source": "# InceptionV3",
   "id": "93ff505118b75313"
  },
  {
   "metadata": {
    "ExecuteTime": {
     "end_time": "2025-05-02T03:59:39.839029Z",
     "start_time": "2025-05-02T03:55:16.539740Z"
    }
   },
   "cell_type": "code",
   "source": [
    "model = models.inception_v3(weights=Inception_V3_Weights.IMAGENET1K_V1).to(device)\n",
    "model.eval()\n",
    "model = ModelWithTemperature(model, temperature=1.0).to(device)\n",
    "model.set_temperature(temp_scal_loader)\n",
    "model.eval()\n",
    "check_tvd_imagenet(model, tvd_loader, device=device)"
   ],
   "id": "57242c32b441c090",
   "outputs": [
    {
     "name": "stdout",
     "output_type": "stream",
     "text": [
      "Before temperature - NLL: 1.084, ECE: 0.022\n",
      "Optimal temperature: 0.969\n",
      "After temperature - NLL: 1.076, ECE: 0.025\n",
      "Total Variation Distance:  13358.2542\n",
      "Average Total Variation Distance:  0.5367\n"
     ]
    }
   ],
   "execution_count": 2
  },
  {
   "metadata": {},
   "cell_type": "markdown",
   "source": "# ResNet18",
   "id": "b53a2e22131be110"
  },
  {
   "metadata": {
    "ExecuteTime": {
     "end_time": "2025-05-02T04:03:45.144535Z",
     "start_time": "2025-05-02T04:00:03.651969Z"
    }
   },
   "cell_type": "code",
   "source": [
    "from torchvision.models import ResNet18_Weights\n",
    "data_transform = transforms.Compose([\n",
    "    transforms.Resize(256),\n",
    "    transforms.CenterCrop(224),\n",
    "    transforms.ToTensor(),\n",
    "    transforms.Normalize(mean=[0.485, 0.456, 0.406], std=[0.229, 0.224, 0.225]) \n",
    "])\n",
    "sorted_val_path = \"D:\\\\Download\\\\ImageNet-1K\\\\Validation_Set\\\\sorted_ImageNet_val\"\n",
    "dataset = ImageFolder(root=sorted_val_path, transform=data_transform)\n",
    "subset_size = len(dataset) // 10\n",
    "indices = np.random.choice(len(dataset), subset_size, replace=False)\n",
    "subset_dataset = Subset(dataset, indices)\n",
    "temp_scal_loader = DataLoader(subset_dataset, batch_size=32, shuffle=True)\n",
    "\n",
    "# load real probability\n",
    "npy_path = \"C:\\\\Users\\\\jiayang\\\\ipynb\\\\APS_Thesis\\\\data\\\\imagenet_count_normalize.npy\"\n",
    "real_probs = np.load(npy_path)\n",
    "tvd_dataset = Dataset_and_Probs(dataset, real_probs)\n",
    "tvd_loader = DataLoader(tvd_dataset, batch_size=32, shuffle=True, num_workers=4)\n",
    "\n",
    "device = torch.device(\"cuda\" if torch.cuda.is_available() else \"cpu\")\n",
    "model = models.resnet18(weights=ResNet18_Weights.IMAGENET1K_V1).to(device)\n",
    "model = ModelWithTemperature(model, temperature=1.0).to(device)\n",
    "model.set_temperature(temp_scal_loader)\n",
    "model.eval()\n",
    "check_tvd_imagenet(model, tvd_loader, device=device)"
   ],
   "id": "fcf19f802a146060",
   "outputs": [
    {
     "name": "stdout",
     "output_type": "stream",
     "text": [
      "Before temperature - NLL: 1.355, ECE: 0.026\n",
      "Optimal temperature: 0.991\n",
      "After temperature - NLL: 1.355, ECE: 0.028\n",
      "Total Variation Distance:  14849.2622\n",
      "Average Total Variation Distance:  0.5966\n"
     ]
    }
   ],
   "execution_count": 3
  },
  {
   "metadata": {
    "ExecuteTime": {
     "end_time": "2025-05-02T04:08:19.644587Z",
     "start_time": "2025-05-02T04:04:16.396597Z"
    }
   },
   "cell_type": "code",
   "source": [
    "from torchvision.models import ResNet34_Weights\n",
    "device = torch.device(\"cuda\" if torch.cuda.is_available() else \"cpu\")\n",
    "model = models.resnet34(weights=ResNet34_Weights.IMAGENET1K_V1).to(device)\n",
    "model = ModelWithTemperature(model, temperature=1.0).to(device)\n",
    "model.set_temperature(temp_scal_loader)\n",
    "model.eval()\n",
    "check_tvd_imagenet(model, tvd_loader, device=device)"
   ],
   "id": "5cbc2c63205fe1b7",
   "outputs": [
    {
     "name": "stdout",
     "output_type": "stream",
     "text": [
      "Before temperature - NLL: 1.164, ECE: 0.020\n",
      "Optimal temperature: 1.008\n",
      "After temperature - NLL: 1.164, ECE: 0.020\n",
      "Total Variation Distance:  13717.2804\n",
      "Average Total Variation Distance:  0.5511\n"
     ]
    }
   ],
   "execution_count": 4
  },
  {
   "metadata": {
    "ExecuteTime": {
     "end_time": "2025-05-02T04:13:23.592810Z",
     "start_time": "2025-05-02T04:09:20.581598Z"
    }
   },
   "cell_type": "code",
   "source": [
    "from torchvision.models import ResNet50_Weights\n",
    "data_transform = transforms.Compose([\n",
    "    transforms.Resize(256),\n",
    "    transforms.CenterCrop(256),\n",
    "    transforms.ToTensor(),\n",
    "    transforms.Normalize(mean=[0.485, 0.456, 0.406], std=[0.229, 0.224, 0.225]) \n",
    "])\n",
    "sorted_val_path = \"D:\\\\Download\\\\ImageNet-1K\\\\Validation_Set\\\\sorted_ImageNet_val\"\n",
    "dataset = ImageFolder(root=sorted_val_path, transform=data_transform)\n",
    "subset_size = len(dataset) // 10\n",
    "indices = np.random.choice(len(dataset), subset_size, replace=False)\n",
    "subset_dataset = Subset(dataset, indices)\n",
    "temp_scal_loader = DataLoader(subset_dataset, batch_size=32, shuffle=True)\n",
    "\n",
    "# load real probability\n",
    "npy_path = \"C:\\\\Users\\\\jiayang\\\\ipynb\\\\APS_Thesis\\\\data\\\\imagenet_count_normalize.npy\"\n",
    "real_probs = np.load(npy_path)\n",
    "tvd_dataset = Dataset_and_Probs(dataset, real_probs)\n",
    "tvd_loader = DataLoader(tvd_dataset, batch_size=32, shuffle=True, num_workers=4)\n",
    "device = torch.device(\"cuda\" if torch.cuda.is_available() else \"cpu\")\n",
    "model = models.resnet50(weights=ResNet50_Weights.IMAGENET1K_V1).to(device)\n",
    "model = ModelWithTemperature(model, temperature=1.0).to(device)\n",
    "model.set_temperature(temp_scal_loader)\n",
    "model.eval()\n",
    "check_tvd_imagenet(model, tvd_loader, device=device)"
   ],
   "id": "7a496dd9403034e8",
   "outputs": [
    {
     "name": "stdout",
     "output_type": "stream",
     "text": [
      "Before temperature - NLL: 0.989, ECE: 0.025\n",
      "Optimal temperature: 0.979\n",
      "After temperature - NLL: 0.987, ECE: 0.028\n",
      "Total Variation Distance:  12705.2379\n",
      "Average Total Variation Distance:  0.5105\n"
     ]
    }
   ],
   "execution_count": 5
  },
  {
   "metadata": {
    "ExecuteTime": {
     "end_time": "2025-05-02T04:18:23.531714Z",
     "start_time": "2025-05-02T04:14:30.300169Z"
    }
   },
   "cell_type": "code",
   "source": [
    "from torchvision.models import VGG16_BN_Weights\n",
    "data_transform = transforms.Compose([\n",
    "    transforms.Resize(256),\n",
    "    transforms.CenterCrop(224), \n",
    "    transforms.ToTensor(),\n",
    "    transforms.Normalize(mean=[0.485, 0.456, 0.406], std=[0.229, 0.224, 0.225]) \n",
    "])\n",
    "sorted_val_path = \"D:\\\\Download\\\\ImageNet-1K\\\\Validation_Set\\\\sorted_ImageNet_val\"\n",
    "dataset = ImageFolder(root=sorted_val_path, transform=data_transform)\n",
    "subset_size = len(dataset) // 10\n",
    "indices = np.random.choice(len(dataset), subset_size, replace=False)\n",
    "subset_dataset = Subset(dataset, indices)\n",
    "temp_scal_loader = DataLoader(subset_dataset, batch_size=32, shuffle=True)\n",
    "\n",
    "# load real probability\n",
    "npy_path = \"C:\\\\Users\\\\jiayang\\\\ipynb\\\\APS_Thesis\\\\data\\\\imagenet_count_normalize.npy\"\n",
    "real_probs = np.load(npy_path)\n",
    "tvd_dataset = Dataset_and_Probs(dataset, real_probs)\n",
    "tvd_loader = DataLoader(tvd_dataset, batch_size=32, shuffle=True, num_workers=4)\n",
    "device = torch.device(\"cuda\" if torch.cuda.is_available() else \"cpu\")\n",
    "model = models.vgg16_bn(weights=VGG16_BN_Weights.IMAGENET1K_V1).to(device)\n",
    "model = ModelWithTemperature(model, temperature=1.0).to(device)\n",
    "model.set_temperature(temp_scal_loader)\n",
    "model.eval()\n",
    "check_tvd_imagenet(model, tvd_loader, device=device)"
   ],
   "id": "c0942481f9b9517f",
   "outputs": [
    {
     "name": "stdout",
     "output_type": "stream",
     "text": [
      "Before temperature - NLL: 1.230, ECE: 0.024\n",
      "Optimal temperature: 1.022\n",
      "After temperature - NLL: 1.229, ECE: 0.027\n",
      "Total Variation Distance:  13791.7960\n",
      "Average Total Variation Distance:  0.5541\n"
     ]
    }
   ],
   "execution_count": 6
  },
  {
   "metadata": {},
   "cell_type": "code",
   "outputs": [],
   "execution_count": null,
   "source": "",
   "id": "a51052be73f91dc8"
  }
 ],
 "metadata": {
  "kernelspec": {
   "display_name": "Python (pytorch2)",
   "language": "python",
   "name": "pytorch2"
  },
  "language_info": {
   "codemirror_mode": {
    "name": "ipython",
    "version": 2
   },
   "file_extension": ".py",
   "mimetype": "text/x-python",
   "name": "python",
   "nbconvert_exporter": "python",
   "pygments_lexer": "ipython2",
   "version": "2.7.6"
  }
 },
 "nbformat": 4,
 "nbformat_minor": 5
}
