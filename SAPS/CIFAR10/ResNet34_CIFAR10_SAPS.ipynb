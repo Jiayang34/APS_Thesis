{
 "cells": [
  {
   "metadata": {},
   "cell_type": "markdown",
   "source": "# $\\alpha$=0.1",
   "id": "52c84da0e9338c91"
  },
  {
   "metadata": {
    "ExecuteTime": {
     "end_time": "2025-03-22T01:35:59.098428Z",
     "start_time": "2025-03-22T01:34:50.934722Z"
    }
   },
   "cell_type": "code",
   "source": [
    "import numpy as np\n",
    "import torch\n",
    "import torchvision.transforms as transforms               # include image preprocess tools\n",
    "from torchvision.datasets import CIFAR10        # for loading images from Pytorch CIFAR\n",
    "from torch.utils.data import DataLoader\n",
    "import detectors\n",
    "import timm\n",
    "from src.saps import saps_test\n",
    "from src.temperature_scaling import ModelWithTemperature\n",
    "\n",
    "device = torch.device(\"cuda\" if torch.cuda.is_available() else \"cpu\")\n",
    "\n",
    "# load fine-tuned model\n",
    "model = timm.create_model(\"resnet34_cifar10\", pretrained=True)\n",
    "model = model.to(device)\n",
    "\n",
    "# reprocess the images from CIFAR\n",
    "data_transform = transforms.Compose([\n",
    "    transforms.ToTensor(),          # transfer to tensor\n",
    "    transforms.Normalize(mean=[0.4914, 0.4822, 0.4465], std=[0.2023, 0.1994, 0.2010])  # normalize\n",
    "])\n",
    "# load images from CIFAR10\n",
    "dataset = CIFAR10(root=\"../../data\", train=False, download=True, transform=data_transform)\n",
    "\n",
    "# temperature scaling\n",
    "temp_scal_loader = DataLoader(dataset, batch_size=32, shuffle=True)\n",
    "model = ModelWithTemperature(model, temperature=5.0).to(device)\n",
    "model.set_temperature(temp_scal_loader)\n",
    "\n",
    "model.eval()\n",
    "\n",
    "saps_test(model, dataset, device, num_runs=10, alpha=0.1, lambda_=2.5)"
   ],
   "id": "initial_id",
   "outputs": [
    {
     "name": "stdout",
     "output_type": "stream",
     "text": [
      "Files already downloaded and verified\n",
      "Before temperature - NLL: 0.326, ECE: 0.046\n",
      "Optimal temperature: 4.903\n",
      "After temperature - NLL: 0.881, ECE: 0.465\n",
      "SAPS Classification, Start!\n",
      "\n",
      "Running experiment 1/10...\n",
      "t_cal = 0.5171721637248993\n",
      "Average Prediction Set Size After APS in runs 1: 0.9842\n",
      "Average Coverage Rate in runs 1: 0.9\n",
      "\n",
      "Running experiment 2/10...\n",
      "t_cal = 0.510045975446701\n",
      "Average Prediction Set Size After APS in runs 2: 0.9752\n",
      "Average Coverage Rate in runs 2: 0.891\n",
      "\n",
      "Running experiment 3/10...\n",
      "t_cal = 0.5145092487335206\n",
      "Average Prediction Set Size After APS in runs 3: 0.986\n",
      "Average Coverage Rate in runs 3: 0.9004\n",
      "\n",
      "Running experiment 4/10...\n",
      "t_cal = 0.5145278453826905\n",
      "Average Prediction Set Size After APS in runs 4: 0.9852\n",
      "Average Coverage Rate in runs 4: 0.8946\n",
      "\n",
      "Running experiment 5/10...\n",
      "t_cal = 0.5236619710922242\n",
      "Average Prediction Set Size After APS in runs 5: 0.995\n",
      "Average Coverage Rate in runs 5: 0.9118\n",
      "\n",
      "Running experiment 6/10...\n",
      "t_cal = 0.5187820732593537\n",
      "Average Prediction Set Size After APS in runs 6: 0.988\n",
      "Average Coverage Rate in runs 6: 0.9058\n",
      "\n",
      "Running experiment 7/10...\n",
      "t_cal = 0.5107146859169006\n",
      "Average Prediction Set Size After APS in runs 7: 0.9784\n",
      "Average Coverage Rate in runs 7: 0.8954\n",
      "\n",
      "Running experiment 8/10...\n",
      "t_cal = 0.5152002096176154\n",
      "Average Prediction Set Size After APS in runs 8: 0.985\n",
      "Average Coverage Rate in runs 8: 0.9026\n",
      "\n",
      "Running experiment 9/10...\n",
      "t_cal = 0.5194872021675111\n",
      "Average Prediction Set Size After APS in runs 9: 0.9866\n",
      "Average Coverage Rate in runs 9: 0.9058\n",
      "\n",
      "Running experiment 10/10...\n",
      "t_cal = 0.5141350030899049\n",
      "Average Prediction Set Size After APS in runs 10: 0.9878\n",
      "Average Coverage Rate in runs 10: 0.8998\n",
      "\n",
      "Final Average Prediction Set Size: 0.99 ± 0.01\n",
      "Final Average Coverage: 0.9007 ± 0.0058\n"
     ]
    }
   ],
   "execution_count": 4
  },
  {
   "metadata": {},
   "cell_type": "markdown",
   "source": "# $\\alpha$=0.05",
   "id": "262e62b818bffc5f"
  },
  {
   "metadata": {
    "ExecuteTime": {
     "end_time": "2025-03-22T01:37:34.638022Z",
     "start_time": "2025-03-22T01:36:30.467695Z"
    }
   },
   "cell_type": "code",
   "source": "saps_test(model, dataset, device, num_runs=10, alpha=0.05, lambda_=2.2)",
   "id": "698993829d3f545",
   "outputs": [
    {
     "name": "stdout",
     "output_type": "stream",
     "text": [
      "SAPS Classification, Start!\n",
      "\n",
      "Running experiment 1/10...\n",
      "t_cal = 1.1640583932399766\n",
      "Average Prediction Set Size After APS in runs 1: 1.3132\n",
      "Average Coverage Rate in runs 1: 0.9492\n",
      "\n",
      "Running experiment 2/10...\n",
      "t_cal = 1.004845201969148\n",
      "Average Prediction Set Size After APS in runs 2: 1.2354\n",
      "Average Coverage Rate in runs 2: 0.9432\n",
      "\n",
      "Running experiment 3/10...\n",
      "t_cal = 1.0786385357379928\n",
      "Average Prediction Set Size After APS in runs 3: 1.2734\n",
      "Average Coverage Rate in runs 3: 0.9478\n",
      "\n",
      "Running experiment 4/10...\n",
      "t_cal = 0.9620541632175451\n",
      "Average Prediction Set Size After APS in runs 4: 1.2194\n",
      "Average Coverage Rate in runs 4: 0.9406\n",
      "\n",
      "Running experiment 5/10...\n",
      "t_cal = 1.3850198864936838\n",
      "Average Prediction Set Size After APS in runs 5: 1.4116\n",
      "Average Coverage Rate in runs 5: 0.9576\n",
      "\n",
      "Running experiment 6/10...\n",
      "t_cal = 1.2233445584774039\n",
      "Average Prediction Set Size After APS in runs 6: 1.34\n",
      "Average Coverage Rate in runs 6: 0.9524\n",
      "\n",
      "Running experiment 7/10...\n",
      "t_cal = 1.0936897814273838\n",
      "Average Prediction Set Size After APS in runs 7: 1.2724\n",
      "Average Coverage Rate in runs 7: 0.9496\n",
      "\n",
      "Running experiment 8/10...\n",
      "t_cal = 1.1308039128780365\n",
      "Average Prediction Set Size After APS in runs 8: 1.2892\n",
      "Average Coverage Rate in runs 8: 0.9496\n",
      "\n",
      "Running experiment 9/10...\n",
      "t_cal = 1.170374685525897\n",
      "Average Prediction Set Size After APS in runs 9: 1.3264\n",
      "Average Coverage Rate in runs 9: 0.9524\n",
      "\n",
      "Running experiment 10/10...\n",
      "t_cal = 1.2112820446491253\n",
      "Average Prediction Set Size After APS in runs 10: 1.3298\n",
      "Average Coverage Rate in runs 10: 0.951\n",
      "\n",
      "Final Average Prediction Set Size: 1.30 ± 0.05\n",
      "Final Average Coverage: 0.9493 ± 0.0045\n"
     ]
    }
   ],
   "execution_count": 5
  },
  {
   "metadata": {},
   "cell_type": "markdown",
   "source": [
    "# Result\n",
    "$\\alpha$=0.1\n",
    "- Final Average **Prediction Set Size： 0.99**\n",
    "- Final Average **Coverage: 90.07%**  \n",
    "\n",
    "$\\alpha$=0.05\n",
    "- Final Average **Prediction Set Size： 1.30**\n",
    "- Final Average **Coverage: 94.93%**"
   ],
   "id": "b3a3502d0f0f034a"
  },
  {
   "metadata": {},
   "cell_type": "code",
   "outputs": [],
   "execution_count": null,
   "source": "",
   "id": "ec10da03032b1cc0"
  }
 ],
 "metadata": {
  "kernelspec": {
   "display_name": "Python (pytorch2)",
   "language": "python",
   "name": "pytorch2"
  },
  "language_info": {
   "codemirror_mode": {
    "name": "ipython",
    "version": 2
   },
   "file_extension": ".py",
   "mimetype": "text/x-python",
   "name": "python",
   "nbconvert_exporter": "python",
   "pygments_lexer": "ipython2",
   "version": "2.7.6"
  }
 },
 "nbformat": 4,
 "nbformat_minor": 5
}
