{
 "cells": [
  {
   "metadata": {},
   "cell_type": "markdown",
   "source": "# $\\alpha$=0.1",
   "id": "29890d5b9860464e"
  },
  {
   "metadata": {
    "ExecuteTime": {
     "end_time": "2025-03-21T00:23:20.183129Z",
     "start_time": "2025-03-21T00:22:16.753806Z"
    }
   },
   "cell_type": "code",
   "source": [
    "import numpy as np\n",
    "import torch\n",
    "import torchvision.transforms as transforms               # include image preprocess tools\n",
    "from torchvision.datasets import CIFAR10        # for loading images from Pytorch CIFAR\n",
    "from torch.utils.data import DataLoader\n",
    "import detectors\n",
    "import timm\n",
    "from src.saps import saps_test\n",
    "from src.temperature_scaling import ModelWithTemperature\n",
    "\n",
    "device = torch.device(\"cuda\" if torch.cuda.is_available() else \"cpu\")\n",
    "\n",
    "# load fine-tuned model\n",
    "model = timm.create_model(\"resnet18_cifar10\", pretrained=True)\n",
    "model = model.to(device)\n",
    "\n",
    "# reprocess the images from CIFAR\n",
    "data_transform = transforms.Compose([\n",
    "    transforms.ToTensor(),          # transfer to tensor\n",
    "    transforms.Normalize(mean=[0.4914, 0.4822, 0.4465], std=[0.2023, 0.1994, 0.2010])  # normalize\n",
    "])\n",
    "# load images from CIFAR10\n",
    "dataset = CIFAR10(root=\"../../data\", train=False, download=True, transform=data_transform)\n",
    "\n",
    "# temperature scaling\n",
    "temp_scal_loader = DataLoader(dataset, batch_size=32, shuffle=True)\n",
    "model = ModelWithTemperature(model, temperature=5.0).to(device)\n",
    "model.set_temperature(temp_scal_loader)\n",
    "\n",
    "model.eval()\n",
    "\n",
    "saps_test(model, dataset, device, num_runs=10, alpha=0.1, lambda_=2.2)"
   ],
   "id": "initial_id",
   "outputs": [
    {
     "name": "stdout",
     "output_type": "stream",
     "text": [
      "Files already downloaded and verified\n",
      "Before temperature - NLL: 0.302, ECE: 0.042\n",
      "Optimal temperature: 4.904\n",
      "After temperature - NLL: 0.866, ECE: 0.462\n",
      "SAPS Classification, Start!\n",
      "\n",
      "Running experiment 1/10...\n",
      "t_cal = 0.5324455618858338\n",
      "Average Prediction Set Size After APS in runs 1: 0.9932\n",
      "Average Coverage Rate in runs 1: 0.899\n",
      "\n",
      "Running experiment 2/10...\n",
      "t_cal = 0.5322842359542846\n",
      "Average Prediction Set Size After APS in runs 2: 0.9928\n",
      "Average Coverage Rate in runs 2: 0.8954\n",
      "\n",
      "Running experiment 3/10...\n",
      "t_cal = 0.5302342057228089\n",
      "Average Prediction Set Size After APS in runs 3: 0.9894\n",
      "Average Coverage Rate in runs 3: 0.8948\n",
      "\n",
      "Running experiment 4/10...\n",
      "t_cal = 0.5235182702541352\n",
      "Average Prediction Set Size After APS in runs 4: 0.9844\n",
      "Average Coverage Rate in runs 4: 0.8854\n",
      "\n",
      "Running experiment 5/10...\n",
      "t_cal = 0.5330525934696199\n",
      "Average Prediction Set Size After APS in runs 5: 0.9956\n",
      "Average Coverage Rate in runs 5: 0.903\n",
      "\n",
      "Running experiment 6/10...\n",
      "t_cal = 0.5406745076179506\n",
      "Average Prediction Set Size After APS in runs 6: 0.9968\n",
      "Average Coverage Rate in runs 6: 0.9052\n",
      "\n",
      "Running experiment 7/10...\n",
      "t_cal = 0.5297402262687684\n",
      "Average Prediction Set Size After APS in runs 7: 0.9906\n",
      "Average Coverage Rate in runs 7: 0.897\n",
      "\n",
      "Running experiment 8/10...\n",
      "t_cal = 0.5294908225536348\n",
      "Average Prediction Set Size After APS in runs 8: 0.9896\n",
      "Average Coverage Rate in runs 8: 0.8968\n",
      "\n",
      "Running experiment 9/10...\n",
      "t_cal = 0.5348016798496248\n",
      "Average Prediction Set Size After APS in runs 9: 0.9932\n",
      "Average Coverage Rate in runs 9: 0.8996\n",
      "\n",
      "Running experiment 10/10...\n",
      "t_cal = 0.5411587953567506\n",
      "Average Prediction Set Size After APS in runs 10: 1.0118\n",
      "Average Coverage Rate in runs 10: 0.9114\n",
      "\n",
      "Final Average Prediction Set Size: 0.99 ± 0.01\n",
      "Final Average Coverage: 0.8988 ± 0.0066\n"
     ]
    }
   ],
   "execution_count": 6
  },
  {
   "metadata": {},
   "cell_type": "markdown",
   "source": "# $\\alpha$=0.05",
   "id": "fa7dd63ec626bde0"
  },
  {
   "metadata": {
    "ExecuteTime": {
     "end_time": "2025-03-21T00:20:22.156826Z",
     "start_time": "2025-03-21T00:19:23.164597Z"
    }
   },
   "cell_type": "code",
   "source": "saps_test(model, dataset, device, num_runs=10, alpha=0.05, lambda_=2.2)",
   "id": "3d02f762eb08f588",
   "outputs": [
    {
     "name": "stdout",
     "output_type": "stream",
     "text": [
      "SAPS Classification, Start!\n",
      "\n",
      "Running experiment 1/10...\n",
      "t_cal = 1.0313972055912022\n",
      "Average Prediction Set Size After APS in runs 1: 1.277\n",
      "Average Coverage Rate in runs 1: 0.9496\n",
      "\n",
      "Running experiment 2/10...\n",
      "t_cal = 1.039244639873505\n",
      "Average Prediction Set Size After APS in runs 2: 1.2748\n",
      "Average Coverage Rate in runs 2: 0.95\n",
      "\n",
      "Running experiment 3/10...\n",
      "t_cal = 1.013372361660004\n",
      "Average Prediction Set Size After APS in runs 3: 1.2666\n",
      "Average Coverage Rate in runs 3: 0.948\n",
      "\n",
      "Running experiment 4/10...\n",
      "t_cal = 0.7495596408843995\n",
      "Average Prediction Set Size After APS in runs 4: 1.1332\n",
      "Average Coverage Rate in runs 4: 0.9374\n",
      "\n",
      "Running experiment 5/10...\n",
      "t_cal = 1.1102630317211162\n",
      "Average Prediction Set Size After APS in runs 5: 1.3208\n",
      "Average Coverage Rate in runs 5: 0.9516\n",
      "\n",
      "Running experiment 6/10...\n",
      "t_cal = 1.0079467833042155\n",
      "Average Prediction Set Size After APS in runs 6: 1.2564\n",
      "Average Coverage Rate in runs 6: 0.95\n",
      "\n",
      "Running experiment 7/10...\n",
      "t_cal = 1.1005182206630715\n",
      "Average Prediction Set Size After APS in runs 7: 1.3048\n",
      "Average Coverage Rate in runs 7: 0.9492\n",
      "\n",
      "Running experiment 8/10...\n",
      "t_cal = 0.9404131263494514\n",
      "Average Prediction Set Size After APS in runs 8: 1.231\n",
      "Average Coverage Rate in runs 8: 0.9476\n",
      "\n",
      "Running experiment 9/10...\n",
      "t_cal = 1.1023859441280377\n",
      "Average Prediction Set Size After APS in runs 9: 1.3238\n",
      "Average Coverage Rate in runs 9: 0.953\n",
      "\n",
      "Running experiment 10/10...\n",
      "t_cal = 1.025272035598755\n",
      "Average Prediction Set Size After APS in runs 10: 1.2732\n",
      "Average Coverage Rate in runs 10: 0.9518\n",
      "\n",
      "Final Average Prediction Set Size: 1.27 ± 0.05\n",
      "Final Average Coverage: 0.9488 ± 0.0041\n"
     ]
    }
   ],
   "execution_count": 4
  },
  {
   "metadata": {},
   "cell_type": "markdown",
   "source": [
    "# Result\n",
    "$\\alpha$=0.1\n",
    "- Final Average **Prediction Set Size： 0.99**\n",
    "- Final Average **Coverage: 89.88%**  \n",
    "\n",
    "$\\alpha$=0.05\n",
    "- Final Average **Prediction Set Size： 1.27**\n",
    "- Final Average **Coverage: 94.88%**"
   ],
   "id": "435da1d7e9f975f3"
  },
  {
   "metadata": {},
   "cell_type": "code",
   "outputs": [],
   "execution_count": null,
   "source": "",
   "id": "a83fb33e11fa670e"
  }
 ],
 "metadata": {
  "kernelspec": {
   "display_name": "Python (pytorch2)",
   "language": "python",
   "name": "pytorch2"
  },
  "language_info": {
   "codemirror_mode": {
    "name": "ipython",
    "version": 2
   },
   "file_extension": ".py",
   "mimetype": "text/x-python",
   "name": "python",
   "nbconvert_exporter": "python",
   "pygments_lexer": "ipython2",
   "version": "2.7.6"
  }
 },
 "nbformat": 4,
 "nbformat_minor": 5
}
