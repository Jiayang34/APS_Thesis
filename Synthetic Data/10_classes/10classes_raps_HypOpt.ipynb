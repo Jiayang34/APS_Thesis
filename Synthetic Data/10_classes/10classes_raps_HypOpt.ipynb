{
 "cells": [
  {
   "metadata": {},
   "cell_type": "markdown",
   "source": "# Without TS",
   "id": "ea43b64c1c9beb31"
  },
  {
   "metadata": {
    "ExecuteTime": {
     "end_time": "2025-06-08T09:43:28.398983Z",
     "start_time": "2025-06-08T09:43:25.281645Z"
    }
   },
   "cell_type": "code",
   "source": [
    "from src.synthetic_data import SimplePredictor, load_synthetic_data, SyntheticDataset_and_Probs\n",
    "from src.synthetic_data import lambda_optimization_raps_synthetic, k_reg_optimization_synthetic\n",
    "import torch\n",
    "\n",
    "# load model\n",
    "device = torch.device('cuda' if torch.cuda.is_available() else 'cpu')\n",
    "model = SimplePredictor(feature_dim=64, n_classes=10)\n",
    "save_path_model = \"C:\\\\Users\\\\jiayang\\\\ipynb\\\\APS_Thesis\\\\data\\\\model_weights\\\\synthetic_10class_NoTemp_model.pth\"\n",
    "model.load_state_dict(torch.load(save_path_model, weights_only=True, map_location=device))\n",
    "model.to(device)\n",
    "model.eval()\n",
    "\n",
    "# load dataset\n",
    "save_path_test = \"C:\\\\Users\\\\jiayang\\\\ipynb\\\\APS_Thesis\\\\data\\\\synthetic_data\\\\synthetic_10class_NoTemp_test.pkl\"\n",
    "x, true_labels, real_probs = load_synthetic_data(save_path_test)\n",
    "\n",
    "# load 10% of the dataset for hyperparameter optimization \n",
    "x_hyp, true_labels_hyp, real_probs = x[:1000], true_labels[:1000], real_probs[:1000]\n",
    "hyp_dataset = SyntheticDataset_and_Probs(x_hyp, true_labels_hyp, real_probs)"
   ],
   "id": "initial_id",
   "outputs": [],
   "execution_count": 1
  },
  {
   "metadata": {
    "ExecuteTime": {
     "end_time": "2025-06-08T09:43:51.582211Z",
     "start_time": "2025-06-08T09:43:44.985728Z"
    }
   },
   "cell_type": "code",
   "source": [
    "lambda_values = [0.01, 0.03, 0.05, 0.07, 0.1, 0.5]\n",
    "k_reg_values = [1, 2, 3, 4, 5]\n",
    "\n",
    "# lambda optimization\n",
    "print(\"Looking for optimal lambda...\")\n",
    "optimal_lambda = lambda_optimization_raps_synthetic(model, hyp_dataset, lambda_values, k_reg = 3, device=device)\n",
    "if optimal_lambda is None:\n",
    "    print(\"No optimal lambda is found\")\n",
    "else:\n",
    "    print(f\"Optimal lambda is {optimal_lambda}\\n\")\n",
    "    \n",
    "    # k_reg optimization\n",
    "    print(\"Looking for optimal k_reg...\")\n",
    "    optimal_k = k_reg_optimization_synthetic(model, hyp_dataset, optimal_lambda, k_reg_values, device=device)\n",
    "    \n",
    "    if optimal_k is None:\n",
    "        print(\"No optimal k_reg is found\")\n",
    "    else:\n",
    "        print(f\"Optimal k_reg is {optimal_k}\")"
   ],
   "id": "c90886a2840edc61",
   "outputs": [
    {
     "name": "stdout",
     "output_type": "stream",
     "text": [
      "Looking for optimal lambda...\n",
      "Optimal lambda is 0.03\n",
      "\n",
      "Looking for optimal k_reg...\n",
      "Optimal k_reg is 1\n"
     ]
    }
   ],
   "execution_count": 2
  },
  {
   "metadata": {
    "ExecuteTime": {
     "end_time": "2025-06-08T09:44:53.100587Z",
     "start_time": "2025-06-08T09:44:46.891606Z"
    }
   },
   "cell_type": "code",
   "source": [
    "lambda_values = [0.01, 0.03, 0.05, 0.07, 1.0, 1.3, 1.5]\n",
    "k_reg_values = [1, 2, 3, 4, 5]\n",
    "\n",
    "# lambda optimization\n",
    "print(\"Looking for optimal lambda...\")\n",
    "optimal_lambda = lambda_optimization_raps_synthetic(model, hyp_dataset, lambda_values, k_reg = 3, device=device, alpha=0.2)\n",
    "if optimal_lambda is None:\n",
    "    print(\"No optimal lambda is found\")\n",
    "else:\n",
    "    print(f\"Optimal lambda is {optimal_lambda}\\n\")\n",
    "    \n",
    "    # k_reg optimization\n",
    "    print(\"Looking for optimal k_reg...\")\n",
    "    optimal_k = k_reg_optimization_synthetic(model, hyp_dataset, optimal_lambda, k_reg_values, device=device, alpha=0.2)\n",
    "    \n",
    "    if optimal_k is None:\n",
    "        print(\"No optimal k_reg is found\")\n",
    "    else:\n",
    "        print(f\"Optimal k_reg is {optimal_k}\")"
   ],
   "id": "151e09605a3eed8a",
   "outputs": [
    {
     "name": "stdout",
     "output_type": "stream",
     "text": [
      "Looking for optimal lambda...\n",
      "Optimal lambda is 0.05\n",
      "\n",
      "Looking for optimal k_reg...\n",
      "Optimal k_reg is 1\n"
     ]
    }
   ],
   "execution_count": 3
  },
  {
   "metadata": {
    "ExecuteTime": {
     "end_time": "2025-06-08T09:45:39.784961Z",
     "start_time": "2025-06-08T09:45:33.693499Z"
    }
   },
   "cell_type": "code",
   "source": [
    "lambda_values = [0.01, 0.03, 0.05, 0.07, 1.0, 1.3, 1.5, 2.0]\n",
    "k_reg_values = [1, 2, 3, 4, 5]\n",
    "\n",
    "# lambda optimization\n",
    "print(\"Looking for optimal lambda...\")\n",
    "optimal_lambda = lambda_optimization_raps_synthetic(model, hyp_dataset, lambda_values, k_reg = 3, device=device, alpha=0.05)\n",
    "if optimal_lambda is None:\n",
    "    print(\"No optimal lambda is found\")\n",
    "else:\n",
    "    print(f\"Optimal lambda is {optimal_lambda}\\n\")\n",
    "    \n",
    "    # k_reg optimization\n",
    "    print(\"Looking for optimal k_reg...\")\n",
    "    optimal_k = k_reg_optimization_synthetic(model, hyp_dataset, optimal_lambda, k_reg_values, device=device, alpha=0.05)\n",
    "    \n",
    "    if optimal_k is None:\n",
    "        print(\"No optimal k_reg is found\")\n",
    "    else:\n",
    "        print(f\"Optimal k_reg is {optimal_k}\")"
   ],
   "id": "5df007ea19d678ab",
   "outputs": [
    {
     "name": "stdout",
     "output_type": "stream",
     "text": [
      "Looking for optimal lambda...\n",
      "Optimal lambda is 0.03\n",
      "\n",
      "Looking for optimal k_reg...\n",
      "Optimal k_reg is 2\n"
     ]
    }
   ],
   "execution_count": 4
  },
  {
   "metadata": {},
   "cell_type": "markdown",
   "source": "# With TS",
   "id": "e5070dd512731b54"
  },
  {
   "metadata": {
    "ExecuteTime": {
     "end_time": "2025-06-08T09:47:16.042986Z",
     "start_time": "2025-06-08T09:47:12.772240Z"
    }
   },
   "cell_type": "code",
   "source": [
    "from src.synthetic_data import SimplePredictor, load_synthetic_data, SyntheticDataset_and_Probs\n",
    "from src.synthetic_data import lambda_optimization_raps_synthetic, k_reg_optimization_synthetic\n",
    "import torch\n",
    "\n",
    "# load model\n",
    "device = torch.device('cuda' if torch.cuda.is_available() else 'cpu')\n",
    "model = SimplePredictor(feature_dim=64, n_classes=10)\n",
    "save_path_model = \"C:\\\\Users\\\\jiayang\\\\ipynb\\\\APS_Thesis\\\\data\\\\model_weights\\\\synthetic_10class_model.pth\"\n",
    "model.load_state_dict(torch.load(save_path_model, weights_only=True, map_location=device))\n",
    "model.to(device)\n",
    "model.eval()\n",
    "\n",
    "# load dataset\n",
    "save_path_test = \"C:\\\\Users\\\\jiayang\\\\ipynb\\\\APS_Thesis\\\\data\\\\synthetic_data\\\\synthetic_10class_test.pkl\"\n",
    "x, true_labels, real_probs = load_synthetic_data(save_path_test)\n",
    "\n",
    "# load 10% of the dataset for hyperparameter optimization \n",
    "x_hyp, true_labels_hyp, real_probs = x[:1000], true_labels[:1000], real_probs[:1000]\n",
    "hyp_dataset = SyntheticDataset_and_Probs(x_hyp, true_labels_hyp, real_probs)"
   ],
   "id": "11403bb34473d469",
   "outputs": [],
   "execution_count": 1
  },
  {
   "metadata": {
    "ExecuteTime": {
     "end_time": "2025-06-08T09:47:35.867121Z",
     "start_time": "2025-06-08T09:47:28.763008Z"
    }
   },
   "cell_type": "code",
   "source": [
    "lambda_values = [0.01, 0.03, 0.05, 0.07, 0.1, 0.5]\n",
    "k_reg_values = [1, 2, 3, 4, 5]\n",
    "\n",
    "# lambda optimization\n",
    "print(\"Looking for optimal lambda...\")\n",
    "optimal_lambda = lambda_optimization_raps_synthetic(model, hyp_dataset, lambda_values, k_reg = 3, device=device)\n",
    "if optimal_lambda is None:\n",
    "    print(\"No optimal lambda is found\")\n",
    "else:\n",
    "    print(f\"Optimal lambda is {optimal_lambda}\\n\")\n",
    "    \n",
    "    # k_reg optimization\n",
    "    print(\"Looking for optimal k_reg...\")\n",
    "    optimal_k = k_reg_optimization_synthetic(model, hyp_dataset, optimal_lambda, k_reg_values, device=device)\n",
    "    \n",
    "    if optimal_k is None:\n",
    "        print(\"No optimal k_reg is found\")\n",
    "    else:\n",
    "        print(f\"Optimal k_reg is {optimal_k}\")"
   ],
   "id": "cf7cfa127bebe025",
   "outputs": [
    {
     "name": "stdout",
     "output_type": "stream",
     "text": [
      "Looking for optimal lambda...\n",
      "Optimal lambda is 0.1\n",
      "\n",
      "Looking for optimal k_reg...\n",
      "Optimal k_reg is 5\n"
     ]
    }
   ],
   "execution_count": 2
  },
  {
   "metadata": {
    "ExecuteTime": {
     "end_time": "2025-06-08T09:48:09.770542Z",
     "start_time": "2025-06-08T09:48:03.478619Z"
    }
   },
   "cell_type": "code",
   "source": [
    "lambda_values = [0.01, 0.03, 0.05, 0.07, 1.0, 1.3, 1.5]\n",
    "k_reg_values = [1, 2, 3, 4, 5]\n",
    "\n",
    "# lambda optimization\n",
    "print(\"Looking for optimal lambda...\")\n",
    "optimal_lambda = lambda_optimization_raps_synthetic(model, hyp_dataset, lambda_values, k_reg = 3, device=device, alpha=0.2)\n",
    "if optimal_lambda is None:\n",
    "    print(\"No optimal lambda is found\")\n",
    "else:\n",
    "    print(f\"Optimal lambda is {optimal_lambda}\\n\")\n",
    "    \n",
    "    # k_reg optimization\n",
    "    print(\"Looking for optimal k_reg...\")\n",
    "    optimal_k = k_reg_optimization_synthetic(model, hyp_dataset, optimal_lambda, k_reg_values, device=device, alpha=0.2)\n",
    "    \n",
    "    if optimal_k is None:\n",
    "        print(\"No optimal k_reg is found\")\n",
    "    else:\n",
    "        print(f\"Optimal k_reg is {optimal_k}\")"
   ],
   "id": "b1ef5a62b83744d9",
   "outputs": [
    {
     "name": "stdout",
     "output_type": "stream",
     "text": [
      "Looking for optimal lambda...\n",
      "Optimal lambda is 0.01\n",
      "\n",
      "Looking for optimal k_reg...\n",
      "Optimal k_reg is 4\n"
     ]
    }
   ],
   "execution_count": 3
  },
  {
   "metadata": {
    "ExecuteTime": {
     "end_time": "2025-06-08T09:48:40.732509Z",
     "start_time": "2025-06-08T09:48:34.450072Z"
    }
   },
   "cell_type": "code",
   "source": [
    "lambda_values = [0.01, 0.03, 0.05, 0.07, 1.0, 1.3, 1.5]\n",
    "k_reg_values = [1, 2, 3, 4, 5]\n",
    "\n",
    "# lambda optimization\n",
    "print(\"Looking for optimal lambda...\")\n",
    "optimal_lambda = lambda_optimization_raps_synthetic(model, hyp_dataset, lambda_values, k_reg = 3, device=device, alpha=0.05)\n",
    "if optimal_lambda is None:\n",
    "    print(\"No optimal lambda is found\")\n",
    "else:\n",
    "    print(f\"Optimal lambda is {optimal_lambda}\\n\")\n",
    "    \n",
    "    # k_reg optimization\n",
    "    print(\"Looking for optimal k_reg...\")\n",
    "    optimal_k = k_reg_optimization_synthetic(model, hyp_dataset, optimal_lambda, k_reg_values, device=device, alpha=0.05)\n",
    "    \n",
    "    if optimal_k is None:\n",
    "        print(\"No optimal k_reg is found\")\n",
    "    else:\n",
    "        print(f\"Optimal k_reg is {optimal_k}\")"
   ],
   "id": "a5c8b90e06de86a3",
   "outputs": [
    {
     "name": "stdout",
     "output_type": "stream",
     "text": [
      "Looking for optimal lambda...\n",
      "Optimal lambda is 0.01\n",
      "\n",
      "Looking for optimal k_reg...\n",
      "Optimal k_reg is 5\n"
     ]
    }
   ],
   "execution_count": 4
  }
 ],
 "metadata": {
  "kernelspec": {
   "display_name": "Python (pytorch2)",
   "language": "python",
   "name": "pytorch2"
  },
  "language_info": {
   "codemirror_mode": {
    "name": "ipython",
    "version": 2
   },
   "file_extension": ".py",
   "mimetype": "text/x-python",
   "name": "python",
   "nbconvert_exporter": "python",
   "pygments_lexer": "ipython2",
   "version": "2.7.6"
  }
 },
 "nbformat": 4,
 "nbformat_minor": 5
}
