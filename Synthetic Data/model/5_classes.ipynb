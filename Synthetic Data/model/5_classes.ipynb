{
 "cells": [
  {
   "metadata": {},
   "cell_type": "markdown",
   "source": "# Generate Synthetic Data",
   "id": "9636ee9e441a096e"
  },
  {
   "metadata": {
    "ExecuteTime": {
     "end_time": "2025-04-05T23:08:01.669567Z",
     "start_time": "2025-04-05T23:08:00.954405Z"
    }
   },
   "cell_type": "code",
   "source": [
    "from src.synthetic_data import generate_synthetic_data\n",
    "\n",
    "save_path_train = \"C:\\\\Users\\\\jiayang\\\\ipynb\\\\APS_Thesis\\\\data\\\\synthetic_data\\\\synthetic_5class_train.pkl\"\n",
    "save_path_test = \"C:\\\\Users\\\\jiayang\\\\ipynb\\\\APS_Thesis\\\\data\\\\synthetic_data\\\\synthetic_5class_test.pkl\"\n",
    "generate_synthetic_data( k=5, save_path=save_path_train, temperature= 5.0) # for model training\n",
    "generate_synthetic_data( k=5, save_path=save_path_test, temperature= 5.0 ) # for aps tests"
   ],
   "id": "initial_id",
   "outputs": [
    {
     "name": "stdout",
     "output_type": "stream",
     "text": [
      "Synthetic Data with 5 classes has been saved at: C:\\Users\\jiayang\\ipynb\\APS_Thesis\\data\\synthetic_data\\synthetic_5class_train.pkl\n",
      "Synthetic Data with 5 classes has been saved at: C:\\Users\\jiayang\\ipynb\\APS_Thesis\\data\\synthetic_data\\synthetic_5class_test.pkl\n"
     ]
    }
   ],
   "execution_count": 6
  },
  {
   "metadata": {},
   "cell_type": "markdown",
   "source": "# Load Data",
   "id": "d6728d65777f8aa2"
  },
  {
   "metadata": {
    "ExecuteTime": {
     "end_time": "2025-04-05T23:08:02.766495Z",
     "start_time": "2025-04-05T23:08:02.733489Z"
    }
   },
   "cell_type": "code",
   "source": [
    "from src.synthetic_data import load_synthetic_data\n",
    "from torch.utils.data import DataLoader, TensorDataset\n",
    "import torch\n",
    "\n",
    "x, true_labels, real_probs = load_synthetic_data(save_path_train)\n",
    "print(len(x), len(true_labels), len(real_probs)) \n",
    "\n",
    "# 8000 for training, 2000 for validation\n",
    "x_train, true_labels_train = x[:8000], true_labels[:8000]\n",
    "x_val, true_labels_val = x[8000:], true_labels[8000:]\n",
    "\n",
    "train_loader = DataLoader(TensorDataset(torch.from_numpy(x_train).float(), torch.from_numpy(true_labels_train).long()), batch_size=128, shuffle=True)\n",
    "val_loader = DataLoader(TensorDataset(torch.from_numpy(x_val).float(), torch.from_numpy(true_labels_val).long()), batch_size=256)"
   ],
   "id": "c1b5b89a8f27d465",
   "outputs": [
    {
     "name": "stdout",
     "output_type": "stream",
     "text": [
      "10000 10000 10000\n"
     ]
    }
   ],
   "execution_count": 7
  },
  {
   "metadata": {},
   "cell_type": "markdown",
   "source": "# Load simple model and train",
   "id": "2d8f01708d4c3cc6"
  },
  {
   "metadata": {
    "ExecuteTime": {
     "end_time": "2025-04-05T23:08:05.058107Z",
     "start_time": "2025-04-05T23:08:03.802063Z"
    }
   },
   "cell_type": "code",
   "source": [
    "from src.synthetic_data import SimplePredictor, train_simple_model\n",
    "\n",
    "device = torch.device('cuda' if torch.cuda.is_available() else 'cpu')\n",
    "model = SimplePredictor(feature_dim=64, n_classes=5)\n",
    "\n",
    "train_simple_model(model, train_loader, val_loader, epochs=5, lr=0.01, device=device)"
   ],
   "id": "2d2f6b81acb3ca87",
   "outputs": [
    {
     "name": "stdout",
     "output_type": "stream",
     "text": [
      "Epoch 1/5 | Train Loss: 1.4109, Acc: 0.4126 | Val Loss: 1.2179, Acc: 0.5380\n",
      "Epoch 2/5 | Train Loss: 1.2527, Acc: 0.5134 | Val Loss: 1.1879, Acc: 0.5430\n",
      "Epoch 3/5 | Train Loss: 1.2006, Acc: 0.5419 | Val Loss: 1.1780, Acc: 0.5480\n",
      "Epoch 4/5 | Train Loss: 1.1730, Acc: 0.5426 | Val Loss: 1.1856, Acc: 0.5440\n",
      "Epoch 5/5 | Train Loss: 1.1256, Acc: 0.5656 | Val Loss: 1.2008, Acc: 0.5355\n"
     ]
    }
   ],
   "execution_count": 8
  },
  {
   "metadata": {
    "ExecuteTime": {
     "end_time": "2025-04-05T23:08:07.012132Z",
     "start_time": "2025-04-05T23:08:05.667574Z"
    }
   },
   "cell_type": "code",
   "source": "train_simple_model(model, train_loader, val_loader, epochs=5, lr=0.001, device=device)",
   "id": "c4d3cb61797e3aae",
   "outputs": [
    {
     "name": "stdout",
     "output_type": "stream",
     "text": [
      "Epoch 1/5 | Train Loss: 0.9812, Acc: 0.6332 | Val Loss: 1.2060, Acc: 0.5485\n",
      "Epoch 2/5 | Train Loss: 0.9287, Acc: 0.6610 | Val Loss: 1.2124, Acc: 0.5540\n",
      "Epoch 3/5 | Train Loss: 0.8952, Acc: 0.6759 | Val Loss: 1.2283, Acc: 0.5520\n",
      "Epoch 4/5 | Train Loss: 0.8716, Acc: 0.6856 | Val Loss: 1.2446, Acc: 0.5600\n",
      "Epoch 5/5 | Train Loss: 0.8466, Acc: 0.6971 | Val Loss: 1.2766, Acc: 0.5520\n"
     ]
    }
   ],
   "execution_count": 9
  },
  {
   "metadata": {
    "ExecuteTime": {
     "end_time": "2025-04-05T23:08:11.059607Z",
     "start_time": "2025-04-05T23:08:11.039602Z"
    }
   },
   "cell_type": "code",
   "source": [
    "save_path_model = \"C:\\\\Users\\\\jiayang\\\\ipynb\\\\APS_Thesis\\\\data\\\\model_weights\\\\synthetic_5class_model.pth\"\n",
    "torch.save(model.state_dict(), save_path_model)"
   ],
   "id": "88bd72e7f59aad04",
   "outputs": [],
   "execution_count": 10
  },
  {
   "metadata": {},
   "cell_type": "code",
   "outputs": [],
   "execution_count": null,
   "source": "",
   "id": "2218f39f2604c14e"
  }
 ],
 "metadata": {
  "kernelspec": {
   "display_name": "Python (pytorch2)",
   "language": "python",
   "name": "pytorch2"
  },
  "language_info": {
   "codemirror_mode": {
    "name": "ipython",
    "version": 2
   },
   "file_extension": ".py",
   "mimetype": "text/x-python",
   "name": "python",
   "nbconvert_exporter": "python",
   "pygments_lexer": "ipython2",
   "version": "2.7.6"
  }
 },
 "nbformat": 4,
 "nbformat_minor": 5
}
