{
 "cells": [
  {
   "metadata": {},
   "cell_type": "markdown",
   "source": "# Generate Synthetic Data",
   "id": "9636ee9e441a096e"
  },
  {
   "metadata": {
    "ExecuteTime": {
     "end_time": "2025-03-30T23:42:14.621922Z",
     "start_time": "2025-03-30T23:42:13.863752Z"
    }
   },
   "cell_type": "code",
   "source": [
    "from src.synthetic_data import generate_synthetic_data\n",
    "\n",
    "save_path_train = \"C:\\\\Users\\\\jiayang\\\\ipynb\\\\APS_Thesis\\\\data\\\\synthetic_data\\\\synthetic_5class_train.pkl\"\n",
    "save_path_test = \"C:\\\\Users\\\\jiayang\\\\ipynb\\\\APS_Thesis\\\\data\\\\synthetic_data\\\\synthetic_5class_test.pkl\"\n",
    "generate_synthetic_data( k=5, save_path=save_path_train, temperature= 7.0) # for model training\n",
    "generate_synthetic_data( k=5, save_path=save_path_test, temperature= 7.0 ) # for aps tests"
   ],
   "id": "initial_id",
   "outputs": [
    {
     "name": "stdout",
     "output_type": "stream",
     "text": [
      "Synthetic Data with 5 classes has been saved at: C:\\Users\\jiayang\\ipynb\\APS_Thesis\\data\\synthetic_data\\synthetic_5class_train.pkl\n",
      "Synthetic Data with 5 classes has been saved at: C:\\Users\\jiayang\\ipynb\\APS_Thesis\\data\\synthetic_data\\synthetic_5class_test.pkl\n"
     ]
    }
   ],
   "execution_count": 29
  },
  {
   "metadata": {},
   "cell_type": "markdown",
   "source": "# Load Data",
   "id": "d6728d65777f8aa2"
  },
  {
   "metadata": {
    "ExecuteTime": {
     "end_time": "2025-03-30T23:42:15.971941Z",
     "start_time": "2025-03-30T23:42:15.948935Z"
    }
   },
   "cell_type": "code",
   "source": [
    "from src.synthetic_data import load_synthetic_data\n",
    "from torch.utils.data import DataLoader, TensorDataset\n",
    "import torch\n",
    "\n",
    "x, true_labels, real_probs = load_synthetic_data(save_path_train)\n",
    "print(len(x), len(true_labels), len(real_probs)) \n",
    "\n",
    "# 8000 for training, 2000 for validation\n",
    "x_train, true_labels_train = x[:8000], true_labels[:8000]\n",
    "x_val, true_labels_val = x[8000:], true_labels[8000:]\n",
    "\n",
    "train_loader = DataLoader(TensorDataset(torch.from_numpy(x_train).float(), torch.from_numpy(true_labels_train).long()), batch_size=128, shuffle=True)\n",
    "val_loader = DataLoader(TensorDataset(torch.from_numpy(x_val).float(), torch.from_numpy(true_labels_val).long()), batch_size=256)"
   ],
   "id": "c1b5b89a8f27d465",
   "outputs": [
    {
     "name": "stdout",
     "output_type": "stream",
     "text": [
      "10000 10000 10000\n"
     ]
    }
   ],
   "execution_count": 30
  },
  {
   "metadata": {},
   "cell_type": "markdown",
   "source": "# Load simple model and train",
   "id": "2d8f01708d4c3cc6"
  },
  {
   "metadata": {
    "ExecuteTime": {
     "end_time": "2025-03-30T23:42:18.331984Z",
     "start_time": "2025-03-30T23:42:17.101707Z"
    }
   },
   "cell_type": "code",
   "source": [
    "from src.synthetic_data import SimplePredictor, train_simple_model\n",
    "\n",
    "device = torch.device('cuda' if torch.cuda.is_available() else 'cpu')\n",
    "model = SimplePredictor(feature_dim=64, n_classes=5)\n",
    "\n",
    "train_simple_model(model, train_loader, val_loader, epochs=5, lr=0.001, device=device)"
   ],
   "id": "2d2f6b81acb3ca87",
   "outputs": [
    {
     "name": "stdout",
     "output_type": "stream",
     "text": [
      "Epoch 1/5 | Train Loss: 1.5476, Acc: 0.2973 | Val Loss: 1.4238, Acc: 0.4205\n",
      "Epoch 2/5 | Train Loss: 1.3858, Acc: 0.4248 | Val Loss: 1.3133, Acc: 0.4580\n",
      "Epoch 3/5 | Train Loss: 1.3012, Acc: 0.4838 | Val Loss: 1.2813, Acc: 0.4690\n",
      "Epoch 4/5 | Train Loss: 1.2602, Acc: 0.4926 | Val Loss: 1.2745, Acc: 0.4750\n",
      "Epoch 5/5 | Train Loss: 1.2371, Acc: 0.5068 | Val Loss: 1.2758, Acc: 0.4670\n"
     ]
    }
   ],
   "execution_count": 31
  },
  {
   "metadata": {
    "ExecuteTime": {
     "end_time": "2025-03-30T23:42:20.567905Z",
     "start_time": "2025-03-30T23:42:19.340627Z"
    }
   },
   "cell_type": "code",
   "source": "train_simple_model(model, train_loader, val_loader, epochs=5, lr=0.0001, device=device)",
   "id": "c4d3cb61797e3aae",
   "outputs": [
    {
     "name": "stdout",
     "output_type": "stream",
     "text": [
      "Epoch 1/5 | Train Loss: 1.1911, Acc: 0.5320 | Val Loss: 1.2719, Acc: 0.4740\n",
      "Epoch 2/5 | Train Loss: 1.1987, Acc: 0.5264 | Val Loss: 1.2709, Acc: 0.4775\n",
      "Epoch 3/5 | Train Loss: 1.1836, Acc: 0.5347 | Val Loss: 1.2703, Acc: 0.4810\n",
      "Epoch 4/5 | Train Loss: 1.1801, Acc: 0.5373 | Val Loss: 1.2708, Acc: 0.4785\n",
      "Epoch 5/5 | Train Loss: 1.1724, Acc: 0.5419 | Val Loss: 1.2723, Acc: 0.4810\n"
     ]
    }
   ],
   "execution_count": 32
  },
  {
   "metadata": {
    "ExecuteTime": {
     "end_time": "2025-03-30T23:42:24.527984Z",
     "start_time": "2025-03-30T23:42:24.506979Z"
    }
   },
   "cell_type": "code",
   "source": [
    "save_path_model = \"C:\\\\Users\\\\jiayang\\\\ipynb\\\\APS_Thesis\\\\data\\\\model_weights\\\\synthetic_5class_model.pth\"\n",
    "torch.save(model.state_dict(), save_path_model)"
   ],
   "id": "88bd72e7f59aad04",
   "outputs": [],
   "execution_count": 33
  },
  {
   "metadata": {},
   "cell_type": "code",
   "outputs": [],
   "execution_count": null,
   "source": "",
   "id": "2218f39f2604c14e"
  }
 ],
 "metadata": {
  "kernelspec": {
   "display_name": "Python (pytorch2)",
   "language": "python",
   "name": "pytorch2"
  },
  "language_info": {
   "codemirror_mode": {
    "name": "ipython",
    "version": 2
   },
   "file_extension": ".py",
   "mimetype": "text/x-python",
   "name": "python",
   "nbconvert_exporter": "python",
   "pygments_lexer": "ipython2",
   "version": "2.7.6"
  }
 },
 "nbformat": 4,
 "nbformat_minor": 5
}
