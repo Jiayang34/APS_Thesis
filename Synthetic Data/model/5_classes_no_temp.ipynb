{
 "cells": [
  {
   "cell_type": "code",
   "id": "initial_id",
   "metadata": {
    "collapsed": true,
    "ExecuteTime": {
     "end_time": "2025-04-06T14:57:39.315912Z",
     "start_time": "2025-04-06T14:57:34.105740Z"
    }
   },
   "source": [
    "from src.synthetic_data import generate_synthetic_data\n",
    "\n",
    "save_path_train = \"C:\\\\Users\\\\jiayang\\\\ipynb\\\\APS_Thesis\\\\data\\\\synthetic_data\\\\synthetic_5class_NoTemp_train.pkl\"\n",
    "save_path_test = \"C:\\\\Users\\\\jiayang\\\\ipynb\\\\APS_Thesis\\\\data\\\\synthetic_data\\\\synthetic_5class_NoTemp_test.pkl\"\n",
    "generate_synthetic_data( k=5, save_path=save_path_train, temperature= 1.0) # for model training\n",
    "generate_synthetic_data( k=5, save_path=save_path_test, temperature= 1.0 ) # for aps tests"
   ],
   "outputs": [
    {
     "name": "stdout",
     "output_type": "stream",
     "text": [
      "Synthetic Data with 5 classes has been saved at: C:\\Users\\jiayang\\ipynb\\APS_Thesis\\data\\synthetic_data\\synthetic_5class_NoTemp_train.pkl\n",
      "Synthetic Data with 5 classes has been saved at: C:\\Users\\jiayang\\ipynb\\APS_Thesis\\data\\synthetic_data\\synthetic_5class_NoTemp_test.pkl\n"
     ]
    }
   ],
   "execution_count": 1
  },
  {
   "metadata": {
    "ExecuteTime": {
     "end_time": "2025-04-06T14:57:42.276610Z",
     "start_time": "2025-04-06T14:57:42.240602Z"
    }
   },
   "cell_type": "code",
   "source": [
    "from src.synthetic_data import load_synthetic_data\n",
    "from torch.utils.data import DataLoader, TensorDataset\n",
    "import torch\n",
    "\n",
    "x, true_labels, real_probs = load_synthetic_data(save_path_train)\n",
    "print(len(x), len(true_labels), len(real_probs)) \n",
    "\n",
    "# 8000 for training, 2000 for validation\n",
    "x_train, true_labels_train = x[:8000], true_labels[:8000]\n",
    "x_val, true_labels_val = x[8000:], true_labels[8000:]\n",
    "\n",
    "train_loader = DataLoader(TensorDataset(torch.from_numpy(x_train).float(), torch.from_numpy(true_labels_train).long()), batch_size=128, shuffle=True)\n",
    "val_loader = DataLoader(TensorDataset(torch.from_numpy(x_val).float(), torch.from_numpy(true_labels_val).long()), batch_size=256)"
   ],
   "id": "1cd2e332a6a0a3f4",
   "outputs": [
    {
     "name": "stdout",
     "output_type": "stream",
     "text": [
      "10000 10000 10000\n"
     ]
    }
   ],
   "execution_count": 2
  },
  {
   "metadata": {
    "ExecuteTime": {
     "end_time": "2025-04-06T14:57:54.840539Z",
     "start_time": "2025-04-06T14:57:51.788188Z"
    }
   },
   "cell_type": "code",
   "source": [
    "from src.synthetic_data import SimplePredictor, train_simple_model\n",
    "\n",
    "device = torch.device('cuda' if torch.cuda.is_available() else 'cpu')\n",
    "model = SimplePredictor(feature_dim=64, n_classes=5)\n",
    "\n",
    "train_simple_model(model, train_loader, val_loader, epochs=5, lr=0.01, device=device)"
   ],
   "id": "508afb3b718f5033",
   "outputs": [
    {
     "name": "stdout",
     "output_type": "stream",
     "text": [
      "Epoch 1/5 | Train Loss: 1.0033, Acc: 0.5919 | Val Loss: 0.5823, Acc: 0.7950\n",
      "Epoch 2/5 | Train Loss: 0.5558, Acc: 0.8024 | Val Loss: 0.4282, Acc: 0.8460\n",
      "Epoch 3/5 | Train Loss: 0.4482, Acc: 0.8395 | Val Loss: 0.4675, Acc: 0.8250\n",
      "Epoch 4/5 | Train Loss: 0.3818, Acc: 0.8646 | Val Loss: 0.4214, Acc: 0.8410\n",
      "Epoch 5/5 | Train Loss: 0.3376, Acc: 0.8775 | Val Loss: 0.4573, Acc: 0.8485\n"
     ]
    }
   ],
   "execution_count": 3
  },
  {
   "metadata": {
    "ExecuteTime": {
     "end_time": "2025-04-06T14:58:01.444495Z",
     "start_time": "2025-04-06T14:58:00.253226Z"
    }
   },
   "cell_type": "code",
   "source": "train_simple_model(model, train_loader, val_loader, epochs=5, lr=0.001, device=device)",
   "id": "5b20c11092275ad2",
   "outputs": [
    {
     "name": "stdout",
     "output_type": "stream",
     "text": [
      "Epoch 1/5 | Train Loss: 0.2302, Acc: 0.9165 | Val Loss: 0.3962, Acc: 0.8750\n",
      "Epoch 2/5 | Train Loss: 0.1505, Acc: 0.9481 | Val Loss: 0.4652, Acc: 0.8790\n",
      "Epoch 3/5 | Train Loss: 0.1265, Acc: 0.9553 | Val Loss: 0.4993, Acc: 0.8775\n",
      "Epoch 4/5 | Train Loss: 0.1058, Acc: 0.9620 | Val Loss: 0.5557, Acc: 0.8785\n",
      "Epoch 5/5 | Train Loss: 0.0958, Acc: 0.9651 | Val Loss: 0.5965, Acc: 0.8730\n"
     ]
    }
   ],
   "execution_count": 4
  },
  {
   "metadata": {
    "ExecuteTime": {
     "end_time": "2025-04-06T14:58:19.914630Z",
     "start_time": "2025-04-06T14:58:19.896626Z"
    }
   },
   "cell_type": "code",
   "source": [
    "save_path_model = \"C:\\\\Users\\\\jiayang\\\\ipynb\\\\APS_Thesis\\\\data\\\\model_weights\\\\synthetic_5class_NoTemp_model.pth\"\n",
    "torch.save(model.state_dict(), save_path_model)"
   ],
   "id": "1c808841c531407f",
   "outputs": [],
   "execution_count": 5
  },
  {
   "metadata": {
    "ExecuteTime": {
     "end_time": "2025-04-10T23:04:02.546432Z",
     "start_time": "2025-04-10T23:03:59.503763Z"
    }
   },
   "cell_type": "code",
   "source": [
    "import torch\n",
    "from src.synthetic_data import SimplePredictor\n",
    "# load model\n",
    "device = torch.device('cuda' if torch.cuda.is_available() else 'cpu')\n",
    "model = SimplePredictor(feature_dim=64, n_classes=5)\n",
    "save_path_model = \"C:\\\\Users\\\\jiayang\\\\ipynb\\\\APS_Thesis\\\\data\\\\model_weights\\\\synthetic_5class_NoTemp_model.pth\"\n",
    "model.load_state_dict(torch.load(save_path_model, weights_only=True, map_location=device))\n",
    "model.to(device)\n",
    "model.eval()"
   ],
   "id": "2d2fa06d8de76752",
   "outputs": [
    {
     "data": {
      "text/plain": [
       "SimplePredictor(\n",
       "  (fc1): Linear(in_features=64, out_features=256, bias=True)\n",
       "  (fc2): Linear(in_features=256, out_features=64, bias=True)\n",
       "  (fc3): Linear(in_features=64, out_features=16, bias=True)\n",
       "  (dropout): Dropout(p=0.3, inplace=False)\n",
       "  (out): Linear(in_features=16, out_features=5, bias=True)\n",
       ")"
      ]
     },
     "execution_count": 1,
     "metadata": {},
     "output_type": "execute_result"
    }
   ],
   "execution_count": 1
  },
  {
   "metadata": {
    "ExecuteTime": {
     "end_time": "2025-04-10T23:04:04.752376Z",
     "start_time": "2025-04-10T23:04:04.450608Z"
    }
   },
   "cell_type": "code",
   "source": [
    "from src.synthetic_data import SyntheticDataset_and_Probs, check_tvd\n",
    "\n",
    "save_path_train = \"C:\\\\Users\\\\jiayang\\\\ipynb\\\\APS_Thesis\\\\data\\\\synthetic_data\\\\synthetic_5class_NoTemp_train.pkl\"\n",
    "x, true_labels, real_probs = load_synthetic_data(save_path_train)\n",
    "dataset = SyntheticDataset_and_Probs(x, true_labels, real_probs)\n",
    "dataloader = DataLoader(dataset, batch_size=256, shuffle=True)\n",
    "check_tvd(model, dataloader, device=device)"
   ],
   "id": "456c4e085e1f02d4",
   "outputs": [
    {
     "name": "stdout",
     "output_type": "stream",
     "text": [
      "Total Variation Distance:  1216.5394\n",
      "Average Total Variation Distance:  0.1217\n"
     ]
    }
   ],
   "execution_count": 2
  },
  {
   "metadata": {},
   "cell_type": "code",
   "outputs": [],
   "execution_count": null,
   "source": "",
   "id": "b54d9e5db8d604e0"
  }
 ],
 "metadata": {
  "kernelspec": {
   "display_name": "Python (pytorch2)",
   "language": "python",
   "name": "pytorch2"
  },
  "language_info": {
   "codemirror_mode": {
    "name": "ipython",
    "version": 2
   },
   "file_extension": ".py",
   "mimetype": "text/x-python",
   "name": "python",
   "nbconvert_exporter": "python",
   "pygments_lexer": "ipython2",
   "version": "2.7.6"
  }
 },
 "nbformat": 4,
 "nbformat_minor": 5
}
