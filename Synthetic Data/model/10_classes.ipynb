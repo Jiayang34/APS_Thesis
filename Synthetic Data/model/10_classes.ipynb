{
 "cells": [
  {
   "metadata": {},
   "cell_type": "markdown",
   "source": "# Generate Synthetic Data",
   "id": "b7098eaf9f63d452"
  },
  {
   "metadata": {
    "ExecuteTime": {
     "end_time": "2025-03-29T00:47:39.108130Z",
     "start_time": "2025-03-29T00:47:34.827662Z"
    }
   },
   "cell_type": "code",
   "source": [
    "from src.synthetic_data import generate_synthetic_data\n",
    "\n",
    "save_path_train = \"C:\\\\Users\\\\jiayang\\\\ipynb\\\\APS_Thesis\\\\data\\\\synthetic_data\\\\synthetic_10class_train.pkl\"\n",
    "save_path_test = \"C:\\\\Users\\\\jiayang\\\\ipynb\\\\APS_Thesis\\\\data\\\\synthetic_data\\\\synthetic_10class_test.pkl\"\n",
    "generate_synthetic_data( k=10, save_path=save_path_train, temperature= 4.0 ) # for model training\n",
    "generate_synthetic_data( k=10, save_path=save_path_test, temperature= 4.0 ) # for aps tests"
   ],
   "id": "c646445bf7448c00",
   "outputs": [
    {
     "name": "stdout",
     "output_type": "stream",
     "text": [
      "Synthetic Data with 10 classes has been saved at: C:\\Users\\jiayang\\ipynb\\APS_Thesis\\data\\synthetic_data\\synthetic_10class_train.pkl\n",
      "Synthetic Data with 10 classes has been saved at: C:\\Users\\jiayang\\ipynb\\APS_Thesis\\data\\synthetic_data\\synthetic_10class_test.pkl\n"
     ]
    }
   ],
   "execution_count": 1
  },
  {
   "metadata": {},
   "cell_type": "markdown",
   "source": "# Load Data",
   "id": "eaec64d8947ad8b8"
  },
  {
   "metadata": {
    "ExecuteTime": {
     "end_time": "2025-03-29T00:47:41.149415Z",
     "start_time": "2025-03-29T00:47:41.125410Z"
    }
   },
   "cell_type": "code",
   "source": [
    "from src.synthetic_data import load_synthetic_data\n",
    "from torch.utils.data import DataLoader, TensorDataset\n",
    "import torch\n",
    "\n",
    "x, true_labels, real_probs = load_synthetic_data(save_path_train)\n",
    "print(len(x), len(true_labels), len(real_probs)) \n",
    "\n",
    "# 8000 for training, 2000 for validation\n",
    "x_train, true_labels_train = x[:8000], true_labels[:8000]\n",
    "x_val, true_labels_val = x[8000:], true_labels[8000:]\n",
    "\n",
    "train_loader = DataLoader(TensorDataset(torch.from_numpy(x_train).float(), torch.from_numpy(true_labels_train).long()), batch_size=128, shuffle=True)\n",
    "val_loader = DataLoader(TensorDataset(torch.from_numpy(x_val).float(), torch.from_numpy(true_labels_val).long()), batch_size=256)"
   ],
   "id": "43fff61e7089520b",
   "outputs": [
    {
     "name": "stdout",
     "output_type": "stream",
     "text": [
      "10000 10000 10000\n"
     ]
    }
   ],
   "execution_count": 2
  },
  {
   "metadata": {},
   "cell_type": "markdown",
   "source": "# Load simple model and train",
   "id": "700b16d9c1102d35"
  },
  {
   "metadata": {
    "ExecuteTime": {
     "end_time": "2025-03-29T00:47:57.578963Z",
     "start_time": "2025-03-29T00:47:54.956880Z"
    }
   },
   "cell_type": "code",
   "source": [
    "from src.synthetic_data import SimplePredictor, train_simple_model\n",
    "\n",
    "device = torch.device('cuda' if torch.cuda.is_available() else 'cpu')\n",
    "model = SimplePredictor(feature_dim=64, n_classes=10)\n",
    "\n",
    "train_simple_model(model, train_loader, val_loader, epochs=5, lr=0.01, device=device)"
   ],
   "id": "40d0c2b7b48cab3",
   "outputs": [
    {
     "name": "stdout",
     "output_type": "stream",
     "text": [
      "Epoch 1/5 | Train Loss: 2.0889, Acc: 0.2590 | Val Loss: 1.8080, Acc: 0.4055\n",
      "Epoch 2/5 | Train Loss: 1.8152, Acc: 0.3874 | Val Loss: 1.7234, Acc: 0.4280\n",
      "Epoch 3/5 | Train Loss: 1.6971, Acc: 0.4341 | Val Loss: 1.6574, Acc: 0.4535\n",
      "Epoch 4/5 | Train Loss: 1.6246, Acc: 0.4595 | Val Loss: 1.6380, Acc: 0.4750\n",
      "Epoch 5/5 | Train Loss: 1.5546, Acc: 0.4911 | Val Loss: 1.6665, Acc: 0.4580\n"
     ]
    }
   ],
   "execution_count": 3
  },
  {
   "metadata": {
    "ExecuteTime": {
     "end_time": "2025-03-29T00:48:01.741666Z",
     "start_time": "2025-03-29T00:48:00.718435Z"
    }
   },
   "cell_type": "code",
   "source": "train_simple_model(model, train_loader, val_loader, epochs=5, lr=0.001, device=device)",
   "id": "339d649138419faa",
   "outputs": [
    {
     "name": "stdout",
     "output_type": "stream",
     "text": [
      "Epoch 1/5 | Train Loss: 1.3486, Acc: 0.5481 | Val Loss: 1.6511, Acc: 0.4880\n",
      "Epoch 2/5 | Train Loss: 1.2654, Acc: 0.5815 | Val Loss: 1.6539, Acc: 0.4905\n",
      "Epoch 3/5 | Train Loss: 1.2206, Acc: 0.5939 | Val Loss: 1.6719, Acc: 0.4905\n",
      "Epoch 4/5 | Train Loss: 1.1807, Acc: 0.6180 | Val Loss: 1.6844, Acc: 0.4875\n",
      "Epoch 5/5 | Train Loss: 1.1551, Acc: 0.6244 | Val Loss: 1.7072, Acc: 0.4835\n"
     ]
    }
   ],
   "execution_count": 4
  },
  {
   "metadata": {
    "ExecuteTime": {
     "end_time": "2025-03-29T00:48:07.308031Z",
     "start_time": "2025-03-29T00:48:05.822694Z"
    }
   },
   "cell_type": "code",
   "source": "train_simple_model(model, train_loader, val_loader, epochs=5, lr=0.0001, device=device)",
   "id": "a81d5b8ed8a23499",
   "outputs": [
    {
     "name": "stdout",
     "output_type": "stream",
     "text": [
      "Epoch 1/5 | Train Loss: 1.1234, Acc: 0.6369 | Val Loss: 1.7131, Acc: 0.4820\n",
      "Epoch 2/5 | Train Loss: 1.1002, Acc: 0.6411 | Val Loss: 1.7190, Acc: 0.4820\n",
      "Epoch 3/5 | Train Loss: 1.1027, Acc: 0.6466 | Val Loss: 1.7239, Acc: 0.4810\n",
      "Epoch 4/5 | Train Loss: 1.1003, Acc: 0.6406 | Val Loss: 1.7281, Acc: 0.4825\n",
      "Epoch 5/5 | Train Loss: 1.0998, Acc: 0.6458 | Val Loss: 1.7305, Acc: 0.4825\n"
     ]
    }
   ],
   "execution_count": 5
  },
  {
   "metadata": {
    "ExecuteTime": {
     "end_time": "2025-03-29T00:48:10.777550Z",
     "start_time": "2025-03-29T00:48:10.768547Z"
    }
   },
   "cell_type": "code",
   "source": [
    "save_path_model = \"C:\\\\Users\\\\jiayang\\\\ipynb\\\\APS_Thesis\\\\data\\\\model_weights\\\\synthetic_10class_model.pth\"\n",
    "torch.save(model.state_dict(), save_path_model)"
   ],
   "id": "25e5952d4c9ac5ef",
   "outputs": [],
   "execution_count": 6
  },
  {
   "metadata": {},
   "cell_type": "code",
   "outputs": [],
   "execution_count": null,
   "source": "",
   "id": "cc0469c598f99a6a"
  }
 ],
 "metadata": {
  "kernelspec": {
   "display_name": "Python (pytorch2)",
   "language": "python",
   "name": "pytorch2"
  },
  "language_info": {
   "codemirror_mode": {
    "name": "ipython",
    "version": 2
   },
   "file_extension": ".py",
   "mimetype": "text/x-python",
   "name": "python",
   "nbconvert_exporter": "python",
   "pygments_lexer": "ipython2",
   "version": "2.7.6"
  }
 },
 "nbformat": 4,
 "nbformat_minor": 5
}
