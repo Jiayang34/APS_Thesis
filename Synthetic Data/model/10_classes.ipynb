{
 "cells": [
  {
   "metadata": {},
   "cell_type": "markdown",
   "source": "# Generate Synthetic Data",
   "id": "b7098eaf9f63d452"
  },
  {
   "metadata": {
    "ExecuteTime": {
     "end_time": "2025-03-25T03:39:38.755267Z",
     "start_time": "2025-03-25T03:39:34.956760Z"
    }
   },
   "cell_type": "code",
   "source": [
    "from src.synthetic_data import generate_synthetic_data\n",
    "\n",
    "save_path_train = \"C:\\\\Users\\\\jiayang\\\\ipynb\\\\APS_Thesis\\\\data\\\\synthetic_data\\\\synthetic_10class_train.pkl\"\n",
    "save_path_test = \"C:\\\\Users\\\\jiayang\\\\ipynb\\\\APS_Thesis\\\\data\\\\synthetic_data\\\\synthetic_10class_test.pkl\"\n",
    "generate_synthetic_data( k=10, save_path=save_path_train ) # for model training\n",
    "generate_synthetic_data( k=10, save_path=save_path_test ) # for aps tests"
   ],
   "id": "c646445bf7448c00",
   "outputs": [
    {
     "name": "stdout",
     "output_type": "stream",
     "text": [
      "Synthetic Data with 10 classes has been saved at: C:\\Users\\jiayang\\ipynb\\APS_Thesis\\data\\synthetic_data\\synthetic_10class_train.pkl\n",
      "Synthetic Data with 10 classes has been saved at: C:\\Users\\jiayang\\ipynb\\APS_Thesis\\data\\synthetic_data\\synthetic_10class_test.pkl\n"
     ]
    }
   ],
   "execution_count": 1
  },
  {
   "metadata": {},
   "cell_type": "markdown",
   "source": "# Load Data",
   "id": "eaec64d8947ad8b8"
  },
  {
   "metadata": {
    "ExecuteTime": {
     "end_time": "2025-03-25T03:40:01.536518Z",
     "start_time": "2025-03-25T03:40:01.505512Z"
    }
   },
   "cell_type": "code",
   "source": [
    "from src.synthetic_data import load_synthetic_data\n",
    "from torch.utils.data import DataLoader, TensorDataset\n",
    "import torch\n",
    "\n",
    "x, true_labels, real_probs = load_synthetic_data(save_path_train)\n",
    "print(len(x), len(true_labels), len(real_probs)) \n",
    "\n",
    "# 8000 for training, 2000 for validation\n",
    "x_train, true_labels_train = x[:8000], true_labels[:8000]\n",
    "x_val, true_labels_val = x[8000:], true_labels[8000:]\n",
    "\n",
    "train_loader = DataLoader(TensorDataset(torch.from_numpy(x_train).float(), torch.from_numpy(true_labels_train).long()), batch_size=128, shuffle=True)\n",
    "val_loader = DataLoader(TensorDataset(torch.from_numpy(x_val).float(), torch.from_numpy(true_labels_val).long()), batch_size=256)"
   ],
   "id": "43fff61e7089520b",
   "outputs": [
    {
     "name": "stdout",
     "output_type": "stream",
     "text": [
      "10000 10000 10000\n"
     ]
    }
   ],
   "execution_count": 2
  },
  {
   "metadata": {},
   "cell_type": "markdown",
   "source": "# Load simple model and train",
   "id": "700b16d9c1102d35"
  },
  {
   "metadata": {
    "ExecuteTime": {
     "end_time": "2025-03-25T03:40:23.626479Z",
     "start_time": "2025-03-25T03:40:20.846696Z"
    }
   },
   "cell_type": "code",
   "source": [
    "from src.synthetic_data import SimplePredictor, train_simple_model\n",
    "\n",
    "device = torch.device('cuda' if torch.cuda.is_available() else 'cpu')\n",
    "model = SimplePredictor(feature_dim=64, n_classes=10)\n",
    "\n",
    "train_simple_model(model, train_loader, val_loader, epochs=5, lr=0.001, device=device)"
   ],
   "id": "40d0c2b7b48cab3",
   "outputs": [
    {
     "name": "stdout",
     "output_type": "stream",
     "text": [
      "Epoch 1/5 | Train Loss: 2.1489, Acc: 0.2328 | Val Loss: 1.8117, Acc: 0.4175\n",
      "Epoch 2/5 | Train Loss: 1.6797, Acc: 0.4098 | Val Loss: 1.3372, Acc: 0.5750\n",
      "Epoch 3/5 | Train Loss: 1.3570, Acc: 0.5272 | Val Loss: 1.0632, Acc: 0.6545\n",
      "Epoch 4/5 | Train Loss: 1.1510, Acc: 0.6010 | Val Loss: 0.9076, Acc: 0.7100\n",
      "Epoch 5/5 | Train Loss: 1.0106, Acc: 0.6396 | Val Loss: 0.7821, Acc: 0.7490\n"
     ]
    }
   ],
   "execution_count": 3
  },
  {
   "metadata": {
    "ExecuteTime": {
     "end_time": "2025-03-25T03:40:39.667184Z",
     "start_time": "2025-03-25T03:40:38.191680Z"
    }
   },
   "cell_type": "code",
   "source": "train_simple_model(model, train_loader, val_loader, epochs=5, lr=0.001, device=device)",
   "id": "339d649138419faa",
   "outputs": [
    {
     "name": "stdout",
     "output_type": "stream",
     "text": [
      "Epoch 1/5 | Train Loss: 0.8925, Acc: 0.6895 | Val Loss: 0.7021, Acc: 0.7730\n",
      "Epoch 2/5 | Train Loss: 0.8219, Acc: 0.7107 | Val Loss: 0.6430, Acc: 0.7960\n",
      "Epoch 3/5 | Train Loss: 0.7504, Acc: 0.7374 | Val Loss: 0.6071, Acc: 0.8020\n",
      "Epoch 4/5 | Train Loss: 0.6882, Acc: 0.7631 | Val Loss: 0.5770, Acc: 0.8065\n",
      "Epoch 5/5 | Train Loss: 0.6474, Acc: 0.7709 | Val Loss: 0.5620, Acc: 0.8080\n"
     ]
    }
   ],
   "execution_count": 4
  },
  {
   "metadata": {
    "ExecuteTime": {
     "end_time": "2025-03-25T03:40:58.720277Z",
     "start_time": "2025-03-25T03:40:57.350969Z"
    }
   },
   "cell_type": "code",
   "source": "train_simple_model(model, train_loader, val_loader, epochs=5, lr=0.0005, device=device)",
   "id": "a81d5b8ed8a23499",
   "outputs": [
    {
     "name": "stdout",
     "output_type": "stream",
     "text": [
      "Epoch 1/5 | Train Loss: 0.5864, Acc: 0.7970 | Val Loss: 0.5443, Acc: 0.8155\n",
      "Epoch 2/5 | Train Loss: 0.5564, Acc: 0.8061 | Val Loss: 0.5414, Acc: 0.8220\n",
      "Epoch 3/5 | Train Loss: 0.5439, Acc: 0.8119 | Val Loss: 0.5340, Acc: 0.8235\n",
      "Epoch 4/5 | Train Loss: 0.5025, Acc: 0.8273 | Val Loss: 0.5346, Acc: 0.8250\n",
      "Epoch 5/5 | Train Loss: 0.4926, Acc: 0.8274 | Val Loss: 0.5331, Acc: 0.8190\n"
     ]
    }
   ],
   "execution_count": 5
  },
  {
   "metadata": {
    "ExecuteTime": {
     "end_time": "2025-03-25T03:41:19.819989Z",
     "start_time": "2025-03-25T03:41:19.803987Z"
    }
   },
   "cell_type": "code",
   "source": [
    "save_path_model = \"C:\\\\Users\\\\jiayang\\\\ipynb\\\\APS_Thesis\\\\data\\\\model_weights\\\\synthetic_10class_model.pth\"\n",
    "torch.save(model.state_dict(), save_path_model)"
   ],
   "id": "25e5952d4c9ac5ef",
   "outputs": [],
   "execution_count": 7
  },
  {
   "metadata": {},
   "cell_type": "code",
   "outputs": [],
   "execution_count": null,
   "source": "",
   "id": "cc0469c598f99a6a"
  }
 ],
 "metadata": {
  "kernelspec": {
   "display_name": "Python (pytorch2)",
   "language": "python",
   "name": "pytorch2"
  },
  "language_info": {
   "codemirror_mode": {
    "name": "ipython",
    "version": 2
   },
   "file_extension": ".py",
   "mimetype": "text/x-python",
   "name": "python",
   "nbconvert_exporter": "python",
   "pygments_lexer": "ipython2",
   "version": "2.7.6"
  }
 },
 "nbformat": 4,
 "nbformat_minor": 5
}
