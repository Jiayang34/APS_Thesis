{
 "cells": [
  {
   "metadata": {},
   "cell_type": "markdown",
   "source": "# Generate Synthetic Data",
   "id": "b7098eaf9f63d452"
  },
  {
   "metadata": {
    "ExecuteTime": {
     "end_time": "2025-04-10T23:09:19.506447Z",
     "start_time": "2025-04-10T23:09:18.717962Z"
    }
   },
   "cell_type": "code",
   "source": [
    "from src.synthetic_data import generate_synthetic_data\n",
    "\n",
    "save_path_train = \"C:\\\\Users\\\\jiayang\\\\ipynb\\\\APS_Thesis\\\\data\\\\synthetic_data\\\\synthetic_10class_train.pkl\"\n",
    "save_path_test = \"C:\\\\Users\\\\jiayang\\\\ipynb\\\\APS_Thesis\\\\data\\\\synthetic_data\\\\synthetic_10class_test.pkl\"\n",
    "generate_synthetic_data( k=10, save_path=save_path_train, temperature= 4.0 ) # for model training\n",
    "generate_synthetic_data( k=10, save_path=save_path_test, temperature= 4.0 ) # for aps tests"
   ],
   "id": "c646445bf7448c00",
   "outputs": [
    {
     "name": "stdout",
     "output_type": "stream",
     "text": [
      "Synthetic Data with 10 classes has been saved at: C:\\Users\\jiayang\\ipynb\\APS_Thesis\\data\\synthetic_data\\synthetic_10class_train.pkl\n",
      "Synthetic Data with 10 classes has been saved at: C:\\Users\\jiayang\\ipynb\\APS_Thesis\\data\\synthetic_data\\synthetic_10class_test.pkl\n"
     ]
    }
   ],
   "execution_count": 6
  },
  {
   "metadata": {},
   "cell_type": "markdown",
   "source": "# Load Data",
   "id": "eaec64d8947ad8b8"
  },
  {
   "metadata": {
    "ExecuteTime": {
     "end_time": "2025-04-10T23:09:19.538595Z",
     "start_time": "2025-04-10T23:09:19.508449Z"
    }
   },
   "cell_type": "code",
   "source": [
    "from src.synthetic_data import load_synthetic_data\n",
    "from torch.utils.data import DataLoader, TensorDataset\n",
    "import torch\n",
    "\n",
    "x, true_labels, real_probs = load_synthetic_data(save_path_train)\n",
    "print(len(x), len(true_labels), len(real_probs)) \n",
    "\n",
    "# 8000 for training, 2000 for validation\n",
    "x_train, true_labels_train = x[:8000], true_labels[:8000]\n",
    "x_val, true_labels_val = x[8000:], true_labels[8000:]\n",
    "\n",
    "train_loader = DataLoader(TensorDataset(torch.from_numpy(x_train).float(), torch.from_numpy(true_labels_train).long()), batch_size=128, shuffle=True)\n",
    "val_loader = DataLoader(TensorDataset(torch.from_numpy(x_val).float(), torch.from_numpy(true_labels_val).long()), batch_size=256)"
   ],
   "id": "43fff61e7089520b",
   "outputs": [
    {
     "name": "stdout",
     "output_type": "stream",
     "text": [
      "10000 10000 10000\n"
     ]
    }
   ],
   "execution_count": 7
  },
  {
   "metadata": {},
   "cell_type": "markdown",
   "source": "# Load simple model and train",
   "id": "700b16d9c1102d35"
  },
  {
   "metadata": {
    "ExecuteTime": {
     "end_time": "2025-04-10T23:09:20.972955Z",
     "start_time": "2025-04-10T23:09:19.540100Z"
    }
   },
   "cell_type": "code",
   "source": [
    "from src.synthetic_data import SimplePredictor, train_simple_model\n",
    "\n",
    "device = torch.device('cuda' if torch.cuda.is_available() else 'cpu')\n",
    "model = SimplePredictor(feature_dim=64, n_classes=10)\n",
    "\n",
    "train_simple_model(model, train_loader, val_loader, epochs=5, lr=0.01, device=device)"
   ],
   "id": "40d0c2b7b48cab3",
   "outputs": [
    {
     "name": "stdout",
     "output_type": "stream",
     "text": [
      "Epoch 1/5 | Train Loss: 2.0188, Acc: 0.2874 | Val Loss: 1.7846, Acc: 0.3935\n",
      "Epoch 2/5 | Train Loss: 1.8228, Acc: 0.3871 | Val Loss: 1.6868, Acc: 0.4465\n",
      "Epoch 3/5 | Train Loss: 1.6998, Acc: 0.4273 | Val Loss: 1.6675, Acc: 0.4555\n",
      "Epoch 4/5 | Train Loss: 1.6385, Acc: 0.4600 | Val Loss: 1.6587, Acc: 0.4640\n",
      "Epoch 5/5 | Train Loss: 1.5672, Acc: 0.4808 | Val Loss: 1.6430, Acc: 0.4660\n"
     ]
    }
   ],
   "execution_count": 8
  },
  {
   "metadata": {
    "ExecuteTime": {
     "end_time": "2025-04-10T23:09:22.278176Z",
     "start_time": "2025-04-10T23:09:20.974885Z"
    }
   },
   "cell_type": "code",
   "source": "train_simple_model(model, train_loader, val_loader, epochs=5, lr=0.001, device=device)",
   "id": "339d649138419faa",
   "outputs": [
    {
     "name": "stdout",
     "output_type": "stream",
     "text": [
      "Epoch 1/5 | Train Loss: 1.3718, Acc: 0.5475 | Val Loss: 1.6287, Acc: 0.4780\n",
      "Epoch 2/5 | Train Loss: 1.2885, Acc: 0.5795 | Val Loss: 1.6362, Acc: 0.4755\n",
      "Epoch 3/5 | Train Loss: 1.2416, Acc: 0.5962 | Val Loss: 1.6475, Acc: 0.4795\n",
      "Epoch 4/5 | Train Loss: 1.2054, Acc: 0.6059 | Val Loss: 1.6759, Acc: 0.4785\n",
      "Epoch 5/5 | Train Loss: 1.1644, Acc: 0.6199 | Val Loss: 1.7072, Acc: 0.4795\n"
     ]
    }
   ],
   "execution_count": 9
  },
  {
   "metadata": {
    "ExecuteTime": {
     "end_time": "2025-04-10T23:09:23.594470Z",
     "start_time": "2025-04-10T23:09:22.279176Z"
    }
   },
   "cell_type": "code",
   "source": "train_simple_model(model, train_loader, val_loader, epochs=5, lr=0.0001, device=device)",
   "id": "a81d5b8ed8a23499",
   "outputs": [
    {
     "name": "stdout",
     "output_type": "stream",
     "text": [
      "Epoch 1/5 | Train Loss: 1.1255, Acc: 0.6361 | Val Loss: 1.7060, Acc: 0.4785\n",
      "Epoch 2/5 | Train Loss: 1.1180, Acc: 0.6370 | Val Loss: 1.7088, Acc: 0.4775\n",
      "Epoch 3/5 | Train Loss: 1.1122, Acc: 0.6409 | Val Loss: 1.7111, Acc: 0.4775\n",
      "Epoch 4/5 | Train Loss: 1.1118, Acc: 0.6328 | Val Loss: 1.7144, Acc: 0.4805\n",
      "Epoch 5/5 | Train Loss: 1.1167, Acc: 0.6418 | Val Loss: 1.7174, Acc: 0.4815\n"
     ]
    }
   ],
   "execution_count": 10
  },
  {
   "metadata": {
    "ExecuteTime": {
     "end_time": "2025-04-10T23:09:23.642481Z",
     "start_time": "2025-04-10T23:09:23.595472Z"
    }
   },
   "cell_type": "code",
   "source": [
    "save_path_model = \"C:\\\\Users\\\\jiayang\\\\ipynb\\\\APS_Thesis\\\\data\\\\model_weights\\\\synthetic_10class_model.pth\"\n",
    "torch.save(model.state_dict(), save_path_model)"
   ],
   "id": "25e5952d4c9ac5ef",
   "outputs": [],
   "execution_count": 11
  },
  {
   "metadata": {
    "ExecuteTime": {
     "end_time": "2025-04-10T23:09:23.928545Z",
     "start_time": "2025-04-10T23:09:23.675489Z"
    }
   },
   "cell_type": "code",
   "source": [
    "from src.synthetic_data import SyntheticDataset_and_Probs, check_tvd\n",
    "\n",
    "x, true_labels, real_probs = load_synthetic_data(save_path_train)\n",
    "dataset = SyntheticDataset_and_Probs(x, true_labels, real_probs)\n",
    "dataloader = DataLoader(dataset, batch_size=256, shuffle=True)\n",
    "check_tvd(model, dataloader, device=device)"
   ],
   "id": "c5ead94673381234",
   "outputs": [
    {
     "name": "stdout",
     "output_type": "stream",
     "text": [
      "Total Variation Distance:  2984.7395\n",
      "Average Total Variation Distance:  0.2985\n"
     ]
    }
   ],
   "execution_count": 13
  },
  {
   "metadata": {
    "ExecuteTime": {
     "end_time": "2025-04-10T23:09:23.944551Z",
     "start_time": "2025-04-10T23:09:23.929545Z"
    }
   },
   "cell_type": "code",
   "source": "",
   "id": "30b13479049ed18",
   "outputs": [],
   "execution_count": 13
  }
 ],
 "metadata": {
  "kernelspec": {
   "display_name": "Python (pytorch2)",
   "language": "python",
   "name": "pytorch2"
  },
  "language_info": {
   "codemirror_mode": {
    "name": "ipython",
    "version": 2
   },
   "file_extension": ".py",
   "mimetype": "text/x-python",
   "name": "python",
   "nbconvert_exporter": "python",
   "pygments_lexer": "ipython2",
   "version": "2.7.6"
  }
 },
 "nbformat": 4,
 "nbformat_minor": 5
}
