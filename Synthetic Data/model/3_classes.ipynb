{
 "cells": [
  {
   "metadata": {},
   "cell_type": "markdown",
   "source": "# Generate Synthetic Data",
   "id": "c6c937356a70d63f"
  },
  {
   "metadata": {
    "ExecuteTime": {
     "end_time": "2025-03-28T01:10:29.412009Z",
     "start_time": "2025-03-28T01:10:23.364610Z"
    }
   },
   "cell_type": "code",
   "source": [
    "from src.synthetic_data import generate_synthetic_data\n",
    "\n",
    "save_path_train = \"C:\\\\Users\\\\jiayang\\\\ipynb\\\\APS_Thesis\\\\data\\\\synthetic_data\\\\synthetic_3class_train.pkl\"\n",
    "save_path_test = \"C:\\\\Users\\\\jiayang\\\\ipynb\\\\APS_Thesis\\\\data\\\\synthetic_data\\\\synthetic_3class_test.pkl\"\n",
    "generate_synthetic_data( k=3, save_path=save_path_train ) # for model training\n",
    "generate_synthetic_data( k=3, save_path=save_path_test ) # for aps tests"
   ],
   "id": "e88c740c1462a76a",
   "outputs": [
    {
     "name": "stdout",
     "output_type": "stream",
     "text": [
      "Synthetic Data with 3 classes has been saved at: C:\\Users\\jiayang\\ipynb\\APS_Thesis\\data\\synthetic_data\\synthetic_3class_train.pkl\n",
      "Synthetic Data with 3 classes has been saved at: C:\\Users\\jiayang\\ipynb\\APS_Thesis\\data\\synthetic_data\\synthetic_3class_test.pkl\n"
     ]
    }
   ],
   "execution_count": 1
  },
  {
   "metadata": {},
   "cell_type": "markdown",
   "source": "# Load Data",
   "id": "f187c2e45cfb62e1"
  },
  {
   "metadata": {
    "ExecuteTime": {
     "end_time": "2025-03-28T01:10:37.993863Z",
     "start_time": "2025-03-28T01:10:37.969858Z"
    }
   },
   "cell_type": "code",
   "source": [
    "from src.synthetic_data import load_synthetic_data\n",
    "from torch.utils.data import DataLoader, TensorDataset\n",
    "import torch\n",
    "\n",
    "x, true_labels, real_probs = load_synthetic_data(save_path_train)\n",
    "print(len(x), len(true_labels), len(real_probs)) \n",
    "\n",
    "# 8000 for training, 2000 for validation\n",
    "x_train, true_labels_train = x[:8000], true_labels[:8000]\n",
    "x_val, true_labels_val = x[8000:], true_labels[8000:]\n",
    "\n",
    "train_loader = DataLoader(TensorDataset(torch.from_numpy(x_train).float(), torch.from_numpy(true_labels_train).long()), batch_size=128, shuffle=True)\n",
    "val_loader = DataLoader(TensorDataset(torch.from_numpy(x_val).float(), torch.from_numpy(true_labels_val).long()), batch_size=256)"
   ],
   "id": "23501e4cb9a70b54",
   "outputs": [
    {
     "name": "stdout",
     "output_type": "stream",
     "text": [
      "10000 10000 10000\n"
     ]
    }
   ],
   "execution_count": 2
  },
  {
   "metadata": {},
   "cell_type": "markdown",
   "source": "# Load simple model and train",
   "id": "2fb0d71bfb59ec0b"
  },
  {
   "metadata": {
    "ExecuteTime": {
     "end_time": "2025-03-28T01:10:46.542430Z",
     "start_time": "2025-03-28T01:10:43.453816Z"
    }
   },
   "cell_type": "code",
   "source": [
    "from src.synthetic_data import SimplePredictor, train_simple_model\n",
    "\n",
    "device = torch.device('cuda' if torch.cuda.is_available() else 'cpu')\n",
    "model = SimplePredictor(feature_dim=64, n_classes=3)\n",
    "\n",
    "train_simple_model(model, train_loader, val_loader, epochs=5, lr=0.001, device=device)"
   ],
   "id": "3110ed135c4cc8f8",
   "outputs": [
    {
     "name": "stdout",
     "output_type": "stream",
     "text": [
      "Epoch 1/5 | Train Loss: 0.8416, Acc: 0.6356 | Val Loss: 0.3637, Acc: 0.8985\n",
      "Epoch 2/5 | Train Loss: 0.3282, Acc: 0.8761 | Val Loss: 0.2211, Acc: 0.9105\n",
      "Epoch 3/5 | Train Loss: 0.2453, Acc: 0.9065 | Val Loss: 0.2081, Acc: 0.9165\n",
      "Epoch 4/5 | Train Loss: 0.2033, Acc: 0.9265 | Val Loss: 0.1979, Acc: 0.9165\n",
      "Epoch 5/5 | Train Loss: 0.1662, Acc: 0.9409 | Val Loss: 0.2109, Acc: 0.9190\n"
     ]
    }
   ],
   "execution_count": 3
  },
  {
   "metadata": {
    "ExecuteTime": {
     "end_time": "2025-03-28T01:10:58.874680Z",
     "start_time": "2025-03-28T01:10:58.851676Z"
    }
   },
   "cell_type": "code",
   "source": [
    "save_path_model = \"C:\\\\Users\\\\jiayang\\\\ipynb\\\\APS_Thesis\\\\data\\\\model_weights\\\\synthetic_3class_model.pth\"\n",
    "torch.save(model.state_dict(), save_path_model)"
   ],
   "id": "808afa97388b9afe",
   "outputs": [],
   "execution_count": 4
  },
  {
   "metadata": {},
   "cell_type": "code",
   "outputs": [],
   "execution_count": null,
   "source": "",
   "id": "dd4f9067dac431c9"
  }
 ],
 "metadata": {
  "kernelspec": {
   "display_name": "Python (pytorch2)",
   "language": "python",
   "name": "pytorch2"
  },
  "language_info": {
   "codemirror_mode": {
    "name": "ipython",
    "version": 2
   },
   "file_extension": ".py",
   "mimetype": "text/x-python",
   "name": "python",
   "nbconvert_exporter": "python",
   "pygments_lexer": "ipython2",
   "version": "2.7.6"
  }
 },
 "nbformat": 4,
 "nbformat_minor": 5
}
