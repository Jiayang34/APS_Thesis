{
 "cells": [
  {
   "metadata": {},
   "cell_type": "markdown",
   "source": "# Generate Synthetic Data",
   "id": "c6c937356a70d63f"
  },
  {
   "metadata": {
    "ExecuteTime": {
     "end_time": "2025-03-31T02:23:31.753741Z",
     "start_time": "2025-03-31T02:23:31.044580Z"
    }
   },
   "cell_type": "code",
   "source": [
    "from src.synthetic_data import generate_synthetic_data\n",
    "\n",
    "save_path_train = \"C:\\\\Users\\\\jiayang\\\\ipynb\\\\APS_Thesis\\\\data\\\\synthetic_data\\\\synthetic_3class_train.pkl\"\n",
    "save_path_test = \"C:\\\\Users\\\\jiayang\\\\ipynb\\\\APS_Thesis\\\\data\\\\synthetic_data\\\\synthetic_3class_test.pkl\"\n",
    "generate_synthetic_data( k=3, save_path=save_path_train, temperature=7.0 ) # for model training\n",
    "generate_synthetic_data( k=3, save_path=save_path_test, temperature=7.0 ) # for aps tests"
   ],
   "id": "e88c740c1462a76a",
   "outputs": [
    {
     "name": "stdout",
     "output_type": "stream",
     "text": [
      "Synthetic Data with 3 classes has been saved at: C:\\Users\\jiayang\\ipynb\\APS_Thesis\\data\\synthetic_data\\synthetic_3class_train.pkl\n",
      "Synthetic Data with 3 classes has been saved at: C:\\Users\\jiayang\\ipynb\\APS_Thesis\\data\\synthetic_data\\synthetic_3class_test.pkl\n"
     ]
    }
   ],
   "execution_count": 25
  },
  {
   "metadata": {},
   "cell_type": "markdown",
   "source": "# Load Data",
   "id": "f187c2e45cfb62e1"
  },
  {
   "metadata": {
    "ExecuteTime": {
     "end_time": "2025-03-31T02:23:33.134371Z",
     "start_time": "2025-03-31T02:23:33.106106Z"
    }
   },
   "cell_type": "code",
   "source": [
    "from src.synthetic_data import load_synthetic_data\n",
    "from torch.utils.data import DataLoader, TensorDataset\n",
    "import torch\n",
    "\n",
    "x, true_labels, real_probs = load_synthetic_data(save_path_train)\n",
    "print(len(x), len(true_labels), len(real_probs)) \n",
    "\n",
    "# 8000 for training, 2000 for validation\n",
    "x_train, true_labels_train = x[:8000], true_labels[:8000]\n",
    "x_val, true_labels_val = x[8000:], true_labels[8000:]\n",
    "\n",
    "train_loader = DataLoader(TensorDataset(torch.from_numpy(x_train).float(), torch.from_numpy(true_labels_train).long()), batch_size=128, shuffle=True)\n",
    "val_loader = DataLoader(TensorDataset(torch.from_numpy(x_val).float(), torch.from_numpy(true_labels_val).long()), batch_size=256)"
   ],
   "id": "23501e4cb9a70b54",
   "outputs": [
    {
     "name": "stdout",
     "output_type": "stream",
     "text": [
      "10000 10000 10000\n"
     ]
    }
   ],
   "execution_count": 26
  },
  {
   "metadata": {},
   "cell_type": "markdown",
   "source": "# Load simple model and train",
   "id": "2fb0d71bfb59ec0b"
  },
  {
   "metadata": {
    "ExecuteTime": {
     "end_time": "2025-03-31T02:23:36.662300Z",
     "start_time": "2025-03-31T02:23:35.352812Z"
    }
   },
   "cell_type": "code",
   "source": [
    "from src.synthetic_data import SimplePredictor, train_simple_model\n",
    "\n",
    "device = torch.device('cuda' if torch.cuda.is_available() else 'cpu')\n",
    "model = SimplePredictor(feature_dim=64, n_classes=3)\n",
    "\n",
    "train_simple_model(model, train_loader, val_loader, epochs=5, lr=0.001, device=device)"
   ],
   "id": "3110ed135c4cc8f8",
   "outputs": [
    {
     "name": "stdout",
     "output_type": "stream",
     "text": [
      "Epoch 1/5 | Train Loss: 1.0033, Acc: 0.5038 | Val Loss: 0.8523, Acc: 0.6230\n",
      "Epoch 2/5 | Train Loss: 0.8618, Acc: 0.6030 | Val Loss: 0.8196, Acc: 0.6445\n",
      "Epoch 3/5 | Train Loss: 0.8325, Acc: 0.6291 | Val Loss: 0.8102, Acc: 0.6540\n",
      "Epoch 4/5 | Train Loss: 0.8119, Acc: 0.6464 | Val Loss: 0.8132, Acc: 0.6605\n",
      "Epoch 5/5 | Train Loss: 0.7836, Acc: 0.6577 | Val Loss: 0.8209, Acc: 0.6475\n"
     ]
    }
   ],
   "execution_count": 27
  },
  {
   "metadata": {
    "ExecuteTime": {
     "end_time": "2025-03-31T02:23:44.997156Z",
     "start_time": "2025-03-31T02:23:43.637848Z"
    }
   },
   "cell_type": "code",
   "source": "train_simple_model(model, train_loader, val_loader, epochs=5, lr=0.0001, device=device)",
   "id": "db4cee24e03bfac8",
   "outputs": [
    {
     "name": "stdout",
     "output_type": "stream",
     "text": [
      "Epoch 1/5 | Train Loss: 0.7592, Acc: 0.6746 | Val Loss: 0.8185, Acc: 0.6455\n",
      "Epoch 2/5 | Train Loss: 0.7497, Acc: 0.6827 | Val Loss: 0.8177, Acc: 0.6525\n",
      "Epoch 3/5 | Train Loss: 0.7465, Acc: 0.6766 | Val Loss: 0.8171, Acc: 0.6525\n",
      "Epoch 4/5 | Train Loss: 0.7377, Acc: 0.6841 | Val Loss: 0.8185, Acc: 0.6530\n",
      "Epoch 5/5 | Train Loss: 0.7322, Acc: 0.6860 | Val Loss: 0.8189, Acc: 0.6515\n"
     ]
    }
   ],
   "execution_count": 28
  },
  {
   "metadata": {
    "ExecuteTime": {
     "end_time": "2025-03-31T02:23:47.307343Z",
     "start_time": "2025-03-31T02:23:47.295340Z"
    }
   },
   "cell_type": "code",
   "source": [
    "save_path_model = \"C:\\\\Users\\\\jiayang\\\\ipynb\\\\APS_Thesis\\\\data\\\\model_weights\\\\synthetic_3class_model.pth\"\n",
    "torch.save(model.state_dict(), save_path_model)"
   ],
   "id": "808afa97388b9afe",
   "outputs": [],
   "execution_count": 29
  },
  {
   "metadata": {},
   "cell_type": "code",
   "outputs": [],
   "execution_count": null,
   "source": "",
   "id": "dd4f9067dac431c9"
  }
 ],
 "metadata": {
  "kernelspec": {
   "display_name": "Python (pytorch2)",
   "language": "python",
   "name": "pytorch2"
  },
  "language_info": {
   "codemirror_mode": {
    "name": "ipython",
    "version": 2
   },
   "file_extension": ".py",
   "mimetype": "text/x-python",
   "name": "python",
   "nbconvert_exporter": "python",
   "pygments_lexer": "ipython2",
   "version": "2.7.6"
  }
 },
 "nbformat": 4,
 "nbformat_minor": 5
}
