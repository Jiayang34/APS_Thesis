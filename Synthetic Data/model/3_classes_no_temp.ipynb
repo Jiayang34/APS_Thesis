{
 "cells": [
  {
   "cell_type": "code",
   "id": "initial_id",
   "metadata": {
    "collapsed": true,
    "ExecuteTime": {
     "end_time": "2025-04-07T10:45:58.776921Z",
     "start_time": "2025-04-07T10:45:55.082581Z"
    }
   },
   "source": [
    "from src.synthetic_data import generate_synthetic_data\n",
    "\n",
    "save_path_train = \"C:\\\\Users\\\\jiayang\\\\ipynb\\\\APS_Thesis\\\\data\\\\synthetic_data\\\\synthetic_3class_NoTemp_train.pkl\"\n",
    "save_path_test = \"C:\\\\Users\\\\jiayang\\\\ipynb\\\\APS_Thesis\\\\data\\\\synthetic_data\\\\synthetic_3class_NoTemp_test.pkl\"\n",
    "generate_synthetic_data( k=3, save_path=save_path_train, temperature=1.0 ) # for model training\n",
    "generate_synthetic_data( k=3, save_path=save_path_test, temperature=1.0 ) # for aps tests"
   ],
   "outputs": [
    {
     "name": "stdout",
     "output_type": "stream",
     "text": [
      "Synthetic Data with 3 classes has been saved at: C:\\Users\\jiayang\\ipynb\\APS_Thesis\\data\\synthetic_data\\synthetic_3class_NoTemp_train.pkl\n",
      "Synthetic Data with 3 classes has been saved at: C:\\Users\\jiayang\\ipynb\\APS_Thesis\\data\\synthetic_data\\synthetic_3class_NoTemp_test.pkl\n"
     ]
    }
   ],
   "execution_count": 1
  },
  {
   "metadata": {
    "ExecuteTime": {
     "end_time": "2025-04-07T10:46:01.092360Z",
     "start_time": "2025-04-07T10:46:01.064353Z"
    }
   },
   "cell_type": "code",
   "source": [
    "from src.synthetic_data import load_synthetic_data\n",
    "from torch.utils.data import DataLoader, TensorDataset\n",
    "import torch\n",
    "\n",
    "x, true_labels, real_probs = load_synthetic_data(save_path_train)\n",
    "print(len(x), len(true_labels), len(real_probs)) \n",
    "\n",
    "# 8000 for training, 2000 for validation\n",
    "x_train, true_labels_train = x[:8000], true_labels[:8000]\n",
    "x_val, true_labels_val = x[8000:], true_labels[8000:]\n",
    "\n",
    "train_loader = DataLoader(TensorDataset(torch.from_numpy(x_train).float(), torch.from_numpy(true_labels_train).long()), batch_size=128, shuffle=True)\n",
    "val_loader = DataLoader(TensorDataset(torch.from_numpy(x_val).float(), torch.from_numpy(true_labels_val).long()), batch_size=256)"
   ],
   "id": "8c8d188e84e10697",
   "outputs": [
    {
     "name": "stdout",
     "output_type": "stream",
     "text": [
      "10000 10000 10000\n"
     ]
    }
   ],
   "execution_count": 2
  },
  {
   "metadata": {
    "ExecuteTime": {
     "end_time": "2025-04-07T10:46:13.616430Z",
     "start_time": "2025-04-07T10:46:10.466166Z"
    }
   },
   "cell_type": "code",
   "source": [
    "from src.synthetic_data import SimplePredictor, train_simple_model\n",
    "\n",
    "device = torch.device('cuda' if torch.cuda.is_available() else 'cpu')\n",
    "model = SimplePredictor(feature_dim=64, n_classes=3)\n",
    "\n",
    "train_simple_model(model, train_loader, val_loader, epochs=5, lr=0.001, device=device)"
   ],
   "id": "9d06f2c8bf7440cf",
   "outputs": [
    {
     "name": "stdout",
     "output_type": "stream",
     "text": [
      "Epoch 1/5 | Train Loss: 0.8226, Acc: 0.6478 | Val Loss: 0.3538, Acc: 0.8960\n",
      "Epoch 2/5 | Train Loss: 0.3099, Acc: 0.8839 | Val Loss: 0.2248, Acc: 0.9065\n",
      "Epoch 3/5 | Train Loss: 0.2246, Acc: 0.9166 | Val Loss: 0.1972, Acc: 0.9170\n",
      "Epoch 4/5 | Train Loss: 0.1849, Acc: 0.9354 | Val Loss: 0.2124, Acc: 0.9115\n",
      "Epoch 5/5 | Train Loss: 0.1580, Acc: 0.9443 | Val Loss: 0.2102, Acc: 0.9185\n"
     ]
    }
   ],
   "execution_count": 3
  },
  {
   "metadata": {
    "ExecuteTime": {
     "end_time": "2025-04-07T10:46:19.244726Z",
     "start_time": "2025-04-07T10:46:18.116346Z"
    }
   },
   "cell_type": "code",
   "source": "train_simple_model(model, train_loader, val_loader, epochs=5, lr=0.0001, device=device)",
   "id": "93249b4713f8aa7b",
   "outputs": [
    {
     "name": "stdout",
     "output_type": "stream",
     "text": [
      "Epoch 1/5 | Train Loss: 0.1201, Acc: 0.9644 | Val Loss: 0.2053, Acc: 0.9265\n",
      "Epoch 2/5 | Train Loss: 0.1069, Acc: 0.9690 | Val Loss: 0.2048, Acc: 0.9255\n",
      "Epoch 3/5 | Train Loss: 0.1055, Acc: 0.9704 | Val Loss: 0.2056, Acc: 0.9245\n",
      "Epoch 4/5 | Train Loss: 0.0989, Acc: 0.9715 | Val Loss: 0.2048, Acc: 0.9245\n",
      "Epoch 5/5 | Train Loss: 0.0955, Acc: 0.9705 | Val Loss: 0.2056, Acc: 0.9255\n"
     ]
    }
   ],
   "execution_count": 4
  },
  {
   "metadata": {
    "ExecuteTime": {
     "end_time": "2025-04-07T10:46:31.499980Z",
     "start_time": "2025-04-07T10:46:31.479976Z"
    }
   },
   "cell_type": "code",
   "source": [
    "save_path_model = \"C:\\\\Users\\\\jiayang\\\\ipynb\\\\APS_Thesis\\\\data\\\\model_weights\\\\synthetic_3class_NoTemp_model.pth\"\n",
    "torch.save(model.state_dict(), save_path_model)"
   ],
   "id": "5e189ee09f37ced",
   "outputs": [],
   "execution_count": 5
  },
  {
   "metadata": {
    "ExecuteTime": {
     "end_time": "2025-04-10T23:02:31.609107Z",
     "start_time": "2025-04-10T23:02:31.285863Z"
    }
   },
   "cell_type": "code",
   "source": [
    "from src.synthetic_data import SyntheticDataset_and_Probs, check_tvd\n",
    "\n",
    "x, true_labels, real_probs = load_synthetic_data(save_path_train)\n",
    "dataset = SyntheticDataset_and_Probs(x, true_labels, real_probs)\n",
    "dataloader = DataLoader(dataset, batch_size=256, shuffle=True)\n",
    "check_tvd(model, dataloader, device=device)"
   ],
   "id": "cae5fb6b526add3d",
   "outputs": [
    {
     "name": "stdout",
     "output_type": "stream",
     "text": [
      "Total Variation Distance:  641.2398\n",
      "Average Total Variation Distance:  0.0641\n"
     ]
    }
   ],
   "execution_count": 2
  },
  {
   "metadata": {},
   "cell_type": "code",
   "outputs": [],
   "execution_count": null,
   "source": "",
   "id": "bb983af21b6cde85"
  }
 ],
 "metadata": {
  "kernelspec": {
   "display_name": "Python (pytorch2)",
   "language": "python",
   "name": "pytorch2"
  },
  "language_info": {
   "codemirror_mode": {
    "name": "ipython",
    "version": 2
   },
   "file_extension": ".py",
   "mimetype": "text/x-python",
   "name": "python",
   "nbconvert_exporter": "python",
   "pygments_lexer": "ipython2",
   "version": "2.7.6"
  }
 },
 "nbformat": 4,
 "nbformat_minor": 5
}
