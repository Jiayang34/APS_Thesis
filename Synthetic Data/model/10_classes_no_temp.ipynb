{
 "cells": [
  {
   "cell_type": "code",
   "id": "initial_id",
   "metadata": {
    "collapsed": true,
    "ExecuteTime": {
     "end_time": "2025-04-05T22:03:17.978825Z",
     "start_time": "2025-04-05T22:03:14.164112Z"
    }
   },
   "source": [
    "from src.synthetic_data import generate_synthetic_data\n",
    "\n",
    "save_path_train = \"C:\\\\Users\\\\jiayang\\\\ipynb\\\\APS_Thesis\\\\data\\\\synthetic_data\\\\synthetic_10class_NoTemp_train.pkl\"\n",
    "save_path_test = \"C:\\\\Users\\\\jiayang\\\\ipynb\\\\APS_Thesis\\\\data\\\\synthetic_data\\\\synthetic_10class_NoTemp_test.pkl\"\n",
    "generate_synthetic_data( k=10, save_path=save_path_train, temperature= 1.0 ) # for model training\n",
    "generate_synthetic_data( k=10, save_path=save_path_test, temperature= 1.0 ) # for aps tests"
   ],
   "outputs": [
    {
     "name": "stdout",
     "output_type": "stream",
     "text": [
      "Synthetic Data with 10 classes has been saved at: C:\\Users\\jiayang\\ipynb\\APS_Thesis\\data\\synthetic_data\\synthetic_10class_NoTemp_train.pkl\n",
      "Synthetic Data with 10 classes has been saved at: C:\\Users\\jiayang\\ipynb\\APS_Thesis\\data\\synthetic_data\\synthetic_10class_NoTemp_test.pkl\n"
     ]
    }
   ],
   "execution_count": 1
  },
  {
   "metadata": {
    "ExecuteTime": {
     "end_time": "2025-04-05T22:03:20.700395Z",
     "start_time": "2025-04-05T22:03:20.671389Z"
    }
   },
   "cell_type": "code",
   "source": [
    "from src.synthetic_data import load_synthetic_data\n",
    "from torch.utils.data import DataLoader, TensorDataset\n",
    "import torch\n",
    "\n",
    "x, true_labels, real_probs = load_synthetic_data(save_path_train)\n",
    "print(len(x), len(true_labels), len(real_probs)) \n",
    "\n",
    "# 8000 for training, 2000 for validation\n",
    "x_train, true_labels_train = x[:8000], true_labels[:8000]\n",
    "x_val, true_labels_val = x[8000:], true_labels[8000:]\n",
    "\n",
    "train_loader = DataLoader(TensorDataset(torch.from_numpy(x_train).float(), torch.from_numpy(true_labels_train).long()), batch_size=128, shuffle=True)\n",
    "val_loader = DataLoader(TensorDataset(torch.from_numpy(x_val).float(), torch.from_numpy(true_labels_val).long()), batch_size=256)"
   ],
   "id": "2916e5e09bf836c",
   "outputs": [
    {
     "name": "stdout",
     "output_type": "stream",
     "text": [
      "10000 10000 10000\n"
     ]
    }
   ],
   "execution_count": 2
  },
  {
   "metadata": {
    "ExecuteTime": {
     "end_time": "2025-04-05T22:03:24.598041Z",
     "start_time": "2025-04-05T22:03:21.714880Z"
    }
   },
   "cell_type": "code",
   "source": [
    "from src.synthetic_data import SimplePredictor, train_simple_model\n",
    "\n",
    "device = torch.device('cuda' if torch.cuda.is_available() else 'cpu')\n",
    "model = SimplePredictor(feature_dim=64, n_classes=10)\n",
    "\n",
    "train_simple_model(model, train_loader, val_loader, epochs=5, lr=0.01, device=device)"
   ],
   "id": "252326f48c702d05",
   "outputs": [
    {
     "name": "stdout",
     "output_type": "stream",
     "text": [
      "Epoch 1/5 | Train Loss: 1.6930, Acc: 0.4052 | Val Loss: 1.0568, Acc: 0.6420\n",
      "Epoch 2/5 | Train Loss: 1.1276, Acc: 0.6254 | Val Loss: 0.7848, Acc: 0.7555\n",
      "Epoch 3/5 | Train Loss: 0.8854, Acc: 0.7236 | Val Loss: 0.7856, Acc: 0.7700\n",
      "Epoch 4/5 | Train Loss: 0.7703, Acc: 0.7574 | Val Loss: 0.7601, Acc: 0.7640\n",
      "Epoch 5/5 | Train Loss: 0.6867, Acc: 0.7831 | Val Loss: 0.7128, Acc: 0.7870\n"
     ]
    }
   ],
   "execution_count": 3
  },
  {
   "metadata": {
    "ExecuteTime": {
     "end_time": "2025-04-05T22:03:34.085593Z",
     "start_time": "2025-04-05T22:03:32.686994Z"
    }
   },
   "cell_type": "code",
   "source": "train_simple_model(model, train_loader, val_loader, epochs=5, lr=0.001, device=device)",
   "id": "e19a3813a4f50f9b",
   "outputs": [
    {
     "name": "stdout",
     "output_type": "stream",
     "text": [
      "Epoch 1/5 | Train Loss: 0.4458, Acc: 0.8590 | Val Loss: 0.6647, Acc: 0.8155\n",
      "Epoch 2/5 | Train Loss: 0.3403, Acc: 0.8886 | Val Loss: 0.6739, Acc: 0.8290\n",
      "Epoch 3/5 | Train Loss: 0.2940, Acc: 0.9014 | Val Loss: 0.7147, Acc: 0.8295\n",
      "Epoch 4/5 | Train Loss: 0.2568, Acc: 0.9169 | Val Loss: 0.7520, Acc: 0.8315\n",
      "Epoch 5/5 | Train Loss: 0.2370, Acc: 0.9226 | Val Loss: 0.7971, Acc: 0.8290\n"
     ]
    }
   ],
   "execution_count": 4
  },
  {
   "metadata": {
    "ExecuteTime": {
     "end_time": "2025-04-05T22:03:51.889001Z",
     "start_time": "2025-04-05T22:03:51.874999Z"
    }
   },
   "cell_type": "code",
   "source": [
    "save_path_model = \"C:\\\\Users\\\\jiayang\\\\ipynb\\\\APS_Thesis\\\\data\\\\model_weights\\\\synthetic_10class_NoTemp_model.pth\"\n",
    "torch.save(model.state_dict(), save_path_model)"
   ],
   "id": "fe92c5b1cc23e0c1",
   "outputs": [],
   "execution_count": 5
  },
  {
   "metadata": {
    "ExecuteTime": {
     "end_time": "2025-04-10T23:05:08.966374Z",
     "start_time": "2025-04-10T23:05:08.624380Z"
    }
   },
   "cell_type": "code",
   "source": [
    "from src.synthetic_data import SyntheticDataset_and_Probs, check_tvd\n",
    "\n",
    "x, true_labels, real_probs = load_synthetic_data(save_path_train)\n",
    "dataset = SyntheticDataset_and_Probs(x, true_labels, real_probs)\n",
    "dataloader = DataLoader(dataset, batch_size=256, shuffle=True)\n",
    "check_tvd(model, dataloader, device=device)"
   ],
   "id": "483470d6033717cf",
   "outputs": [
    {
     "name": "stdout",
     "output_type": "stream",
     "text": [
      "Total Variation Distance:  1610.7991\n",
      "Average Total Variation Distance:  0.1611\n"
     ]
    }
   ],
   "execution_count": 2
  },
  {
   "metadata": {},
   "cell_type": "code",
   "outputs": [],
   "execution_count": null,
   "source": "",
   "id": "c67af7cae1a6aca5"
  }
 ],
 "metadata": {
  "kernelspec": {
   "display_name": "Python (pytorch2)",
   "language": "python",
   "name": "pytorch2"
  },
  "language_info": {
   "codemirror_mode": {
    "name": "ipython",
    "version": 2
   },
   "file_extension": ".py",
   "mimetype": "text/x-python",
   "name": "python",
   "nbconvert_exporter": "python",
   "pygments_lexer": "ipython2",
   "version": "2.7.6"
  }
 },
 "nbformat": 4,
 "nbformat_minor": 5
}
