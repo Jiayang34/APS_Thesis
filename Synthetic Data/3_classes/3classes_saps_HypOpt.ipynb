{
 "cells": [
  {
   "metadata": {},
   "cell_type": "markdown",
   "source": "# Without TS",
   "id": "b86b459cbf3b2b81"
  },
  {
   "metadata": {
    "ExecuteTime": {
     "end_time": "2025-06-08T09:49:58.046677Z",
     "start_time": "2025-06-08T09:49:54.857956Z"
    }
   },
   "cell_type": "code",
   "source": [
    "from src.synthetic_data import SimplePredictor, load_synthetic_data, SyntheticDataset_and_Probs\n",
    "from src.synthetic_data import lambda_optimization_saps_synthetic\n",
    "import torch\n",
    "\n",
    "# load model\n",
    "device = torch.device('cuda' if torch.cuda.is_available() else 'cpu')\n",
    "model = SimplePredictor(feature_dim=64, n_classes=3)\n",
    "save_path_model = \"C:\\\\Users\\\\jiayang\\\\ipynb\\\\APS_Thesis\\\\data\\\\model_weights\\\\synthetic_3class_NoTemp_model.pth\"\n",
    "model.load_state_dict(torch.load(save_path_model, weights_only=True, map_location=device))\n",
    "model.to(device)\n",
    "model.eval()\n",
    "\n",
    "# load dataset\n",
    "save_path_test = \"C:\\\\Users\\\\jiayang\\\\ipynb\\\\APS_Thesis\\\\data\\\\synthetic_data\\\\synthetic_3class_NoTemp_test.pkl\"\n",
    "x, true_labels, real_probs = load_synthetic_data(save_path_test)\n",
    "\n",
    "# load 10% of the dataset for hyperparameter optimization \n",
    "x_hyp, true_labels_hyp, real_probs = x[:1000], true_labels[:1000], real_probs[:1000]\n",
    "hyp_dataset = SyntheticDataset_and_Probs(x_hyp, true_labels_hyp, real_probs)"
   ],
   "id": "initial_id",
   "outputs": [],
   "execution_count": 1
  },
  {
   "metadata": {
    "ExecuteTime": {
     "end_time": "2025-06-08T09:50:37.931993Z",
     "start_time": "2025-06-08T09:50:34.977284Z"
    }
   },
   "cell_type": "code",
   "source": [
    "lambda_values = [0.1, 0.2, 0.3, 0.4, 0.5, 0.6, 0.7, 0.8, 0.9, 1.0, 2.0]\n",
    "\n",
    "# lambda optimization\n",
    "print(\"Looking for optimal lambda...\")\n",
    "optimal_lambda = lambda_optimization_saps_synthetic(model, hyp_dataset, lambda_values, device=device)\n",
    "if optimal_lambda is None:\n",
    "    print(\"No optimal lambda is found\")\n",
    "else:\n",
    "    print(f\"Optimal lambda is {optimal_lambda}\\n\")"
   ],
   "id": "ad9cc41c5168fb2f",
   "outputs": [
    {
     "name": "stdout",
     "output_type": "stream",
     "text": [
      "Looking for optimal lambda...\n",
      "Optimal lambda is 0.8\n",
      "\n"
     ]
    }
   ],
   "execution_count": 2
  },
  {
   "metadata": {
    "ExecuteTime": {
     "end_time": "2025-03-25T22:49:50.156753Z",
     "start_time": "2025-03-25T22:49:32.846847Z"
    }
   },
   "cell_type": "code",
   "source": [
    "lambda_values = [0.1, 0.2, 0.3, 0.4, 0.5, 0.6, 0.7, 0.8, 0.9, 1.0, 2.0, 2.5]\n",
    "\n",
    "# lambda optimization\n",
    "print(\"Looking for optimal lambda...\")\n",
    "optimal_lambda = lambda_optimization_saps_synthetic(model, hyp_dataset, lambda_values, device=device, alpha=0.2)\n",
    "if optimal_lambda is None:\n",
    "    print(\"No optimal lambda is found\")\n",
    "else:\n",
    "    print(f\"Optimal lambda is {optimal_lambda}\\n\")"
   ],
   "id": "5e3a59a7aa46b8f5",
   "outputs": [
    {
     "name": "stdout",
     "output_type": "stream",
     "text": [
      "Looking for optimal lambda...\n",
      "Optimal lambda is 2.0\n",
      "\n"
     ]
    }
   ],
   "execution_count": 14
  },
  {
   "metadata": {
    "ExecuteTime": {
     "end_time": "2025-06-08T09:51:27.527108Z",
     "start_time": "2025-06-08T09:51:24.394403Z"
    }
   },
   "cell_type": "code",
   "source": [
    "lambda_values = [0.1, 0.2, 0.3, 0.4, 0.5, 0.6, 0.7, 0.8, 0.9, 1.0, 2.0]\n",
    "\n",
    "# lambda optimization\n",
    "print(\"Looking for optimal lambda...\")\n",
    "optimal_lambda = lambda_optimization_saps_synthetic(model, hyp_dataset, lambda_values, device=device, alpha=0.05)\n",
    "if optimal_lambda is None:\n",
    "    print(\"No optimal lambda is found\")\n",
    "else:\n",
    "    print(f\"Optimal lambda is {optimal_lambda}\\n\")"
   ],
   "id": "63975e44f373a068",
   "outputs": [
    {
     "name": "stdout",
     "output_type": "stream",
     "text": [
      "Looking for optimal lambda...\n",
      "Optimal lambda is 0.7\n",
      "\n"
     ]
    }
   ],
   "execution_count": 3
  },
  {
   "metadata": {},
   "cell_type": "markdown",
   "source": "# With TS",
   "id": "6c1734f0c328e5a"
  },
  {
   "metadata": {
    "ExecuteTime": {
     "end_time": "2025-06-08T09:52:20.444682Z",
     "start_time": "2025-06-08T09:52:17.280263Z"
    }
   },
   "cell_type": "code",
   "source": [
    "from src.synthetic_data import SimplePredictor, load_synthetic_data, SyntheticDataset_and_Probs\n",
    "from src.synthetic_data import lambda_optimization_saps_synthetic\n",
    "import torch\n",
    "\n",
    "# load model\n",
    "device = torch.device('cuda' if torch.cuda.is_available() else 'cpu')\n",
    "model = SimplePredictor(feature_dim=64, n_classes=3)\n",
    "save_path_model = \"C:\\\\Users\\\\jiayang\\\\ipynb\\\\APS_Thesis\\\\data\\\\model_weights\\\\synthetic_3class_model.pth\"\n",
    "model.load_state_dict(torch.load(save_path_model, weights_only=True, map_location=device))\n",
    "model.to(device)\n",
    "model.eval()\n",
    "\n",
    "# load dataset\n",
    "save_path_test = \"C:\\\\Users\\\\jiayang\\\\ipynb\\\\APS_Thesis\\\\data\\\\synthetic_data\\\\synthetic_3class_test.pkl\"\n",
    "x, true_labels, real_probs = load_synthetic_data(save_path_test)\n",
    "\n",
    "# load 10% of the dataset for hyperparameter optimization \n",
    "x_hyp, true_labels_hyp, real_probs = x[:1000], true_labels[:1000], real_probs[:1000]\n",
    "hyp_dataset = SyntheticDataset_and_Probs(x_hyp, true_labels_hyp, real_probs)"
   ],
   "id": "75a3c4e53a5e97f7",
   "outputs": [],
   "execution_count": 1
  },
  {
   "metadata": {
    "ExecuteTime": {
     "end_time": "2025-06-08T09:53:03.332008Z",
     "start_time": "2025-06-08T09:53:00.194657Z"
    }
   },
   "cell_type": "code",
   "source": [
    "lambda_values = [0.1, 0.2, 0.3, 0.4, 0.5, 0.6, 0.7, 0.8, 0.9, 1.0, 2.0]\n",
    "\n",
    "# lambda optimization\n",
    "print(\"Looking for optimal lambda...\")\n",
    "optimal_lambda = lambda_optimization_saps_synthetic(model, hyp_dataset, lambda_values, device=device)\n",
    "if optimal_lambda is None:\n",
    "    print(\"No optimal lambda is found\")\n",
    "else:\n",
    "    print(f\"Optimal lambda is {optimal_lambda}\\n\")"
   ],
   "id": "77f9c42369bbf7bf",
   "outputs": [
    {
     "name": "stdout",
     "output_type": "stream",
     "text": [
      "Looking for optimal lambda...\n",
      "Optimal lambda is 0.4\n",
      "\n"
     ]
    }
   ],
   "execution_count": 2
  },
  {
   "metadata": {
    "ExecuteTime": {
     "end_time": "2025-06-08T09:53:29.255889Z",
     "start_time": "2025-06-08T09:53:26.218612Z"
    }
   },
   "cell_type": "code",
   "source": [
    "lambda_values = [0.1, 0.2, 0.3, 0.4, 0.5, 0.6, 0.7, 0.8, 0.9, 1.0, 2.0, 2.5]\n",
    "\n",
    "# lambda optimization\n",
    "print(\"Looking for optimal lambda...\")\n",
    "optimal_lambda = lambda_optimization_saps_synthetic(model, hyp_dataset, lambda_values, device=device, alpha=0.2)\n",
    "if optimal_lambda is None:\n",
    "    print(\"No optimal lambda is found\")\n",
    "else:\n",
    "    print(f\"Optimal lambda is {optimal_lambda}\\n\")"
   ],
   "id": "2f5521d5aef3cfd8",
   "outputs": [
    {
     "name": "stdout",
     "output_type": "stream",
     "text": [
      "Looking for optimal lambda...\n",
      "Optimal lambda is 0.9\n",
      "\n"
     ]
    }
   ],
   "execution_count": 3
  },
  {
   "metadata": {
    "ExecuteTime": {
     "end_time": "2025-06-08T09:55:04.297896Z",
     "start_time": "2025-06-08T09:55:01.588148Z"
    }
   },
   "cell_type": "code",
   "source": [
    "lambda_values = [0.1, 0.2, 0.23 ,0.27, 0.3, 0.33, 0.4, 0.5]\n",
    "\n",
    "# lambda optimization\n",
    "print(\"Looking for optimal lambda...\")\n",
    "optimal_lambda = lambda_optimization_saps_synthetic(model, hyp_dataset, lambda_values, device=device, alpha=0.05)\n",
    "if optimal_lambda is None:\n",
    "    print(\"No optimal lambda is found\")\n",
    "else:\n",
    "    print(f\"Optimal lambda is {optimal_lambda}\\n\")"
   ],
   "id": "14bcf4fc4a80777a",
   "outputs": [
    {
     "name": "stdout",
     "output_type": "stream",
     "text": [
      "Looking for optimal lambda...\n",
      "Optimal lambda is 0.27\n",
      "\n"
     ]
    }
   ],
   "execution_count": 7
  },
  {
   "metadata": {},
   "cell_type": "code",
   "outputs": [],
   "execution_count": null,
   "source": "",
   "id": "f7d35d91f44e9a2"
  }
 ],
 "metadata": {
  "kernelspec": {
   "display_name": "Python (pytorch2)",
   "language": "python",
   "name": "pytorch2"
  },
  "language_info": {
   "codemirror_mode": {
    "name": "ipython",
    "version": 2
   },
   "file_extension": ".py",
   "mimetype": "text/x-python",
   "name": "python",
   "nbconvert_exporter": "python",
   "pygments_lexer": "ipython2",
   "version": "2.7.6"
  }
 },
 "nbformat": 4,
 "nbformat_minor": 5
}
