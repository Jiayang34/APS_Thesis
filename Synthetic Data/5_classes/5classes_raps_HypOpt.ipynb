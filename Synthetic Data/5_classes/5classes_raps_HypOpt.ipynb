{
 "cells": [
  {
   "metadata": {},
   "cell_type": "markdown",
   "source": "# Without TS",
   "id": "ca37a5badffba393"
  },
  {
   "metadata": {
    "ExecuteTime": {
     "end_time": "2025-06-08T09:38:40.600024Z",
     "start_time": "2025-06-08T09:38:37.364296Z"
    }
   },
   "cell_type": "code",
   "source": [
    "from src.synthetic_data import SimplePredictor, load_synthetic_data, SyntheticDataset_and_Probs\n",
    "from src.synthetic_data import lambda_optimization_raps_synthetic, k_reg_optimization_synthetic\n",
    "import torch\n",
    "\n",
    "# load model\n",
    "device = torch.device('cuda' if torch.cuda.is_available() else 'cpu')\n",
    "model = SimplePredictor(feature_dim=64, n_classes=5)\n",
    "save_path_model = \"C:\\\\Users\\\\jiayang\\\\ipynb\\\\APS_Thesis\\\\data\\\\model_weights\\\\synthetic_5class_NoTemp_model.pth\"\n",
    "model.load_state_dict(torch.load(save_path_model, weights_only=True, map_location=device))\n",
    "model.to(device)\n",
    "model.eval()\n",
    "\n",
    "# load dataset\n",
    "save_path_test = \"C:\\\\Users\\\\jiayang\\\\ipynb\\\\APS_Thesis\\\\data\\\\synthetic_data\\\\synthetic_5class_NoTemp_test.pkl\"\n",
    "x, true_labels, real_probs = load_synthetic_data(save_path_test)\n",
    "\n",
    "# load 10% of the dataset for hyperparameter optimization \n",
    "x_hyp, true_labels_hyp, real_probs = x[:1000], true_labels[:1000], real_probs[:1000]\n",
    "hyp_dataset = SyntheticDataset_and_Probs(x_hyp, true_labels_hyp, real_probs)"
   ],
   "id": "initial_id",
   "outputs": [],
   "execution_count": 1
  },
  {
   "metadata": {
    "ExecuteTime": {
     "end_time": "2025-06-08T09:38:51.810574Z",
     "start_time": "2025-06-08T09:38:45.793715Z"
    }
   },
   "cell_type": "code",
   "source": [
    "lambda_values = [0, 0.01, 0.03, 0.05, 0.07, 1.0, 1.5]\n",
    "k_reg_values = [1, 2, 3, 4]\n",
    "\n",
    "# lambda optimization\n",
    "print(\"Looking for optimal lambda...\")\n",
    "optimal_lambda = lambda_optimization_raps_synthetic(model, hyp_dataset, lambda_values, k_reg = 3, device=device)\n",
    "if optimal_lambda is None:\n",
    "    print(\"No optimal lambda is found\")\n",
    "else:\n",
    "    print(f\"Optimal lambda is {optimal_lambda}\\n\")\n",
    "    \n",
    "    # k_reg optimization\n",
    "    print(\"Looking for optimal k_reg...\")\n",
    "    optimal_k = k_reg_optimization_synthetic(model, hyp_dataset, optimal_lambda, k_reg_values, device=device)\n",
    "    \n",
    "    if optimal_k is None:\n",
    "        print(\"No optimal k_reg is found\")\n",
    "    else:\n",
    "        print(f\"Optimal k_reg is {optimal_k}\")"
   ],
   "id": "91aa0da5da9905af",
   "outputs": [
    {
     "name": "stdout",
     "output_type": "stream",
     "text": [
      "Looking for optimal lambda...\n",
      "Optimal lambda is 0.05\n",
      "\n",
      "Looking for optimal k_reg...\n",
      "Optimal k_reg is 1\n"
     ]
    }
   ],
   "execution_count": 2
  },
  {
   "metadata": {
    "ExecuteTime": {
     "end_time": "2025-03-25T22:53:32.886330Z",
     "start_time": "2025-03-25T22:53:04.362894Z"
    }
   },
   "cell_type": "code",
   "source": [
    "lambda_values = [0, 0.01, 0.05, 0.1, 0.15, 0.2, 0.25]\n",
    "k_reg_values = [1, 2, 3, 4, 5]\n",
    "\n",
    "# lambda optimization\n",
    "print(\"Looking for optimal lambda...\")\n",
    "optimal_lambda = lambda_optimization_raps_synthetic(model, hyp_dataset, lambda_values, k_reg = 3, device=device, alpha=0.2)\n",
    "if optimal_lambda is None:\n",
    "    print(\"No optimal lambda is found\")\n",
    "else:\n",
    "    print(f\"Optimal lambda is {optimal_lambda}\\n\")\n",
    "    \n",
    "    # k_reg optimization\n",
    "    print(\"Looking for optimal k_reg...\")\n",
    "    optimal_k = k_reg_optimization_synthetic(model, hyp_dataset, optimal_lambda, k_reg_values, device=device, alpha=0.2)\n",
    "    \n",
    "    if optimal_k is None:\n",
    "        print(\"No optimal k_reg is found\")\n",
    "    else:\n",
    "        print(f\"Optimal k_reg is {optimal_k}\")"
   ],
   "id": "b7e8a9805c708c5f",
   "outputs": [
    {
     "name": "stdout",
     "output_type": "stream",
     "text": [
      "Looking for optimal lambda...\n",
      "Optimal lambda is 0.05\n",
      "\n",
      "Looking for optimal k_reg...\n",
      "Optimal k_reg is 1\n"
     ]
    }
   ],
   "execution_count": 4
  },
  {
   "metadata": {
    "ExecuteTime": {
     "end_time": "2025-06-08T09:39:39.382614Z",
     "start_time": "2025-06-08T09:39:32.969437Z"
    }
   },
   "cell_type": "code",
   "source": [
    "lambda_values = [0, 0.01, 0.03, 0.05, 0.07, 0.1, 0.13, 0.15]\n",
    "k_reg_values = [1, 2, 3, 4, 5]\n",
    "\n",
    "# lambda optimization\n",
    "print(\"Looking for optimal lambda...\")\n",
    "optimal_lambda = lambda_optimization_raps_synthetic(model, hyp_dataset, lambda_values, k_reg = 3, device=device, alpha=0.05)\n",
    "if optimal_lambda is None:\n",
    "    print(\"No optimal lambda is found\")\n",
    "else:\n",
    "    print(f\"Optimal lambda is {optimal_lambda}\\n\")\n",
    "    \n",
    "    # k_reg optimization\n",
    "    print(\"Looking for optimal k_reg...\")\n",
    "    optimal_k = k_reg_optimization_synthetic(model, hyp_dataset, optimal_lambda, k_reg_values, device=device, alpha=0.05)\n",
    "    \n",
    "    if optimal_k is None:\n",
    "        print(\"No optimal k_reg is found\")\n",
    "    else:\n",
    "        print(f\"Optimal k_reg is {optimal_k}\")"
   ],
   "id": "5d2eccdead10b651",
   "outputs": [
    {
     "name": "stdout",
     "output_type": "stream",
     "text": [
      "Looking for optimal lambda...\n",
      "Optimal lambda is 0.05\n",
      "\n",
      "Looking for optimal k_reg...\n",
      "Optimal k_reg is 2\n"
     ]
    }
   ],
   "execution_count": 3
  },
  {
   "metadata": {},
   "cell_type": "markdown",
   "source": "# With TS",
   "id": "dc271584b8e7d8de"
  },
  {
   "metadata": {},
   "cell_type": "code",
   "outputs": [],
   "execution_count": null,
   "source": [
    "from src.synthetic_data import SimplePredictor, load_synthetic_data, SyntheticDataset_and_Probs\n",
    "from src.synthetic_data import lambda_optimization_raps_synthetic, k_reg_optimization_synthetic\n",
    "import torch\n",
    "\n",
    "# load model\n",
    "device = torch.device('cuda' if torch.cuda.is_available() else 'cpu')\n",
    "model = SimplePredictor(feature_dim=64, n_classes=5)\n",
    "save_path_model = \"C:\\\\Users\\\\jiayang\\\\ipynb\\\\APS_Thesis\\\\data\\\\model_weights\\\\synthetic_5class_model.pth\"\n",
    "model.load_state_dict(torch.load(save_path_model, weights_only=True, map_location=device))\n",
    "model.to(device)\n",
    "model.eval()\n",
    "\n",
    "# load dataset\n",
    "save_path_test = \"C:\\\\Users\\\\jiayang\\\\ipynb\\\\APS_Thesis\\\\data\\\\synthetic_data\\\\synthetic_5class_test.pkl\"\n",
    "x, true_labels, real_probs = load_synthetic_data(save_path_test)\n",
    "\n",
    "# load 10% of the dataset for hyperparameter optimization \n",
    "x_hyp, true_labels_hyp, real_probs = x[:1000], true_labels[:1000], real_probs[:1000]\n",
    "hyp_dataset = SyntheticDataset_and_Probs(x_hyp, true_labels_hyp, real_probs)"
   ],
   "id": "97d199efd842cf3d"
  },
  {
   "metadata": {
    "ExecuteTime": {
     "end_time": "2025-06-08T09:40:53.322332Z",
     "start_time": "2025-06-08T09:40:47.613350Z"
    }
   },
   "cell_type": "code",
   "source": [
    "lambda_values = [0, 0.01, 0.03, 0.05, 0.07, 1.0, 1.5]\n",
    "k_reg_values = [1, 2, 3, 4]\n",
    "\n",
    "# lambda optimization\n",
    "print(\"Looking for optimal lambda...\")\n",
    "optimal_lambda = lambda_optimization_raps_synthetic(model, hyp_dataset, lambda_values, k_reg = 3, device=device)\n",
    "if optimal_lambda is None:\n",
    "    print(\"No optimal lambda is found\")\n",
    "else:\n",
    "    print(f\"Optimal lambda is {optimal_lambda}\\n\")\n",
    "    \n",
    "    # k_reg optimization\n",
    "    print(\"Looking for optimal k_reg...\")\n",
    "    optimal_k = k_reg_optimization_synthetic(model, hyp_dataset, optimal_lambda, k_reg_values, device=device)\n",
    "    \n",
    "    if optimal_k is None:\n",
    "        print(\"No optimal k_reg is found\")\n",
    "    else:\n",
    "        print(f\"Optimal k_reg is {optimal_k}\")"
   ],
   "id": "8301e3208cb92428",
   "outputs": [
    {
     "name": "stdout",
     "output_type": "stream",
     "text": [
      "Looking for optimal lambda...\n",
      "Optimal lambda is 0.03\n",
      "\n",
      "Looking for optimal k_reg...\n",
      "Optimal k_reg is 2\n"
     ]
    }
   ],
   "execution_count": 4
  },
  {
   "metadata": {
    "ExecuteTime": {
     "end_time": "2025-06-08T09:41:54.052038Z",
     "start_time": "2025-06-08T09:41:47.519253Z"
    }
   },
   "cell_type": "code",
   "source": [
    "lambda_values = [0, 0.01, 0.05, 0.1, 0.15, 0.2, 0.25]\n",
    "k_reg_values = [1, 2, 3, 4, 5]\n",
    "\n",
    "# lambda optimization\n",
    "print(\"Looking for optimal lambda...\")\n",
    "optimal_lambda = lambda_optimization_raps_synthetic(model, hyp_dataset, lambda_values, k_reg = 3, device=device, alpha=0.2)\n",
    "if optimal_lambda is None:\n",
    "    print(\"No optimal lambda is found\")\n",
    "else:\n",
    "    print(f\"Optimal lambda is {optimal_lambda}\\n\")\n",
    "    \n",
    "    # k_reg optimization\n",
    "    print(\"Looking for optimal k_reg...\")\n",
    "    optimal_k = k_reg_optimization_synthetic(model, hyp_dataset, optimal_lambda, k_reg_values, device=device, alpha=0.2)\n",
    "    \n",
    "    if optimal_k is None:\n",
    "        print(\"No optimal k_reg is found\")\n",
    "    else:\n",
    "        print(f\"Optimal k_reg is {optimal_k}\")"
   ],
   "id": "21be856d9dc883cd",
   "outputs": [
    {
     "name": "stdout",
     "output_type": "stream",
     "text": [
      "Looking for optimal lambda...\n",
      "Optimal lambda is 0.01\n",
      "\n",
      "Looking for optimal k_reg...\n",
      "Optimal k_reg is 1\n"
     ]
    }
   ],
   "execution_count": 5
  },
  {
   "metadata": {
    "ExecuteTime": {
     "end_time": "2025-06-08T09:42:31.431823Z",
     "start_time": "2025-06-08T09:42:24.780811Z"
    }
   },
   "cell_type": "code",
   "source": [
    "lambda_values = [0, 0.01, 0.03, 0.05, 0.07, 0.1, 0.13, 0.15]\n",
    "k_reg_values = [1, 2, 3, 4, 5]\n",
    "\n",
    "# lambda optimization\n",
    "print(\"Looking for optimal lambda...\")\n",
    "optimal_lambda = lambda_optimization_raps_synthetic(model, hyp_dataset, lambda_values, k_reg = 3, device=device, alpha=0.05)\n",
    "if optimal_lambda is None:\n",
    "    print(\"No optimal lambda is found\")\n",
    "else:\n",
    "    print(f\"Optimal lambda is {optimal_lambda}\\n\")\n",
    "    \n",
    "    # k_reg optimization\n",
    "    print(\"Looking for optimal k_reg...\")\n",
    "    optimal_k = k_reg_optimization_synthetic(model, hyp_dataset, optimal_lambda, k_reg_values, device=device, alpha=0.05)\n",
    "    \n",
    "    if optimal_k is None:\n",
    "        print(\"No optimal k_reg is found\")\n",
    "    else:\n",
    "        print(f\"Optimal k_reg is {optimal_k}\")"
   ],
   "id": "fc8f377ad148d143",
   "outputs": [
    {
     "name": "stdout",
     "output_type": "stream",
     "text": [
      "Looking for optimal lambda...\n",
      "Optimal lambda is 0.01\n",
      "\n",
      "Looking for optimal k_reg...\n",
      "Optimal k_reg is 3\n"
     ]
    }
   ],
   "execution_count": 6
  }
 ],
 "metadata": {
  "kernelspec": {
   "display_name": "Python (pytorch2)",
   "language": "python",
   "name": "pytorch2"
  },
  "language_info": {
   "codemirror_mode": {
    "name": "ipython",
    "version": 2
   },
   "file_extension": ".py",
   "mimetype": "text/x-python",
   "name": "python",
   "nbconvert_exporter": "python",
   "pygments_lexer": "ipython2",
   "version": "2.7.6"
  }
 },
 "nbformat": 4,
 "nbformat_minor": 5
}
