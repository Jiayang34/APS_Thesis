{
 "cells": [
  {
   "cell_type": "code",
   "id": "initial_id",
   "metadata": {
    "collapsed": true,
    "ExecuteTime": {
     "end_time": "2025-03-25T23:02:25.061643Z",
     "start_time": "2025-03-25T23:02:22.026575Z"
    }
   },
   "source": [
    "from src.synthetic_data import SimplePredictor, load_synthetic_data, SyntheticDataset_and_Probs\n",
    "from src.synthetic_data import lambda_optimization_saps_synthetic\n",
    "import torch\n",
    "\n",
    "# load model\n",
    "device = torch.device('cuda' if torch.cuda.is_available() else 'cpu')\n",
    "model = SimplePredictor(feature_dim=64, n_classes=5)\n",
    "save_path_model = \"C:\\\\Users\\\\jiayang\\\\ipynb\\\\APS_Thesis\\\\data\\\\model_weights\\\\synthetic_5class_model.pth\"\n",
    "model.load_state_dict(torch.load(save_path_model, weights_only=True, map_location=device))\n",
    "model.to(device)\n",
    "model.eval()\n",
    "\n",
    "# load dataset\n",
    "save_path_test = \"C:\\\\Users\\\\jiayang\\\\ipynb\\\\APS_Thesis\\\\data\\\\synthetic_data\\\\synthetic_5class_test.pkl\"\n",
    "x, true_labels, real_probs = load_synthetic_data(save_path_test)\n",
    "\n",
    "# load 10% of the dataset for hyperparameter optimization \n",
    "x_hyp, true_labels_hyp, real_probs = x[:1000], true_labels[:1000], real_probs[:1000]\n",
    "hyp_dataset = SyntheticDataset_and_Probs(x_hyp, true_labels_hyp, real_probs)"
   ],
   "outputs": [],
   "execution_count": 2
  },
  {
   "metadata": {
    "ExecuteTime": {
     "end_time": "2025-03-25T23:29:09.842060Z",
     "start_time": "2025-03-25T23:28:46.370762Z"
    }
   },
   "cell_type": "code",
   "source": [
    "lambda_values = [0.15, 0.2, 0.25, 0.3, 0.4, 0.5] \n",
    "\n",
    "# lambda optimization\n",
    "print(\"Looking for optimal lambda...\")\n",
    "optimal_lambda = lambda_optimization_saps_synthetic(model, hyp_dataset, lambda_values, device=device)\n",
    "if optimal_lambda is None:\n",
    "    print(\"No optimal lambda is found\")\n",
    "else:\n",
    "    print(f\"Optimal lambda is {optimal_lambda}\\n\")"
   ],
   "id": "a888aa1e9a272689",
   "outputs": [
    {
     "name": "stdout",
     "output_type": "stream",
     "text": [
      "Looking for optimal lambda...\n",
      "Optimal lambda is 0.5\n"
     ]
    }
   ],
   "execution_count": 14
  },
  {
   "metadata": {
    "ExecuteTime": {
     "end_time": "2025-03-25T23:07:16.049412Z",
     "start_time": "2025-03-25T23:06:48.569210Z"
    }
   },
   "cell_type": "code",
   "source": [
    "lambda_values = [0.5, 0.7, 1.0, 1.5, 2.0, 2.5, 3.0]\n",
    "\n",
    "# lambda optimization\n",
    "print(\"Looking for optimal lambda...\")\n",
    "optimal_lambda = lambda_optimization_saps_synthetic(model, hyp_dataset, lambda_values, device=device, alpha=0.2)\n",
    "if optimal_lambda is None:\n",
    "    print(\"No optimal lambda is found\")\n",
    "else:\n",
    "    print(f\"Optimal lambda is {optimal_lambda}\\n\")"
   ],
   "id": "a97daf180389bc90",
   "outputs": [
    {
     "name": "stdout",
     "output_type": "stream",
     "text": [
      "Looking for optimal lambda...\n",
      "Optimal lambda is 3.0\n",
      "\n"
     ]
    }
   ],
   "execution_count": 9
  },
  {
   "metadata": {
    "ExecuteTime": {
     "end_time": "2025-03-25T23:30:44.213682Z",
     "start_time": "2025-03-25T23:30:23.131925Z"
    }
   },
   "cell_type": "code",
   "source": [
    "lambda_values = [0.5, 0.7, 0.8, 0.9, 1.0]\n",
    "\n",
    "# lambda optimization\n",
    "print(\"Looking for optimal lambda...\")\n",
    "optimal_lambda = lambda_optimization_saps_synthetic(model, hyp_dataset, lambda_values, device=device, alpha=0.05)\n",
    "if optimal_lambda is None:\n",
    "    print(\"No optimal lambda is found\")\n",
    "else:\n",
    "    print(f\"Optimal lambda is {optimal_lambda}\\n\")"
   ],
   "id": "42aa913f0c0ca2d5",
   "outputs": [
    {
     "name": "stdout",
     "output_type": "stream",
     "text": [
      "Looking for optimal lambda...\n",
      "Optimal lambda is 0.8\n",
      "\n"
     ]
    }
   ],
   "execution_count": 15
  },
  {
   "metadata": {},
   "cell_type": "code",
   "outputs": [],
   "execution_count": null,
   "source": "",
   "id": "69dfa10ca2c27d0"
  }
 ],
 "metadata": {
  "kernelspec": {
   "display_name": "Python (pytorch2)",
   "language": "python",
   "name": "pytorch2"
  },
  "language_info": {
   "codemirror_mode": {
    "name": "ipython",
    "version": 2
   },
   "file_extension": ".py",
   "mimetype": "text/x-python",
   "name": "python",
   "nbconvert_exporter": "python",
   "pygments_lexer": "ipython2",
   "version": "2.7.6"
  }
 },
 "nbformat": 4,
 "nbformat_minor": 5
}
